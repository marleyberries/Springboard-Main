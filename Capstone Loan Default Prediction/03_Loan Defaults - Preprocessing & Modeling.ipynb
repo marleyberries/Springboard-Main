{
 "cells": [
  {
   "cell_type": "code",
   "execution_count": 64,
   "id": "4bd592f8",
   "metadata": {},
   "outputs": [],
   "source": [
    "import matplotlib.pyplot as plt\n",
    "import numpy as np \n",
    "from numpy import linspace\n",
    "import pandas as pd \n",
    "import seaborn as sns \n",
    "from sklearn.preprocessing import OneHotEncoder, StandardScaler \n",
    "import statsmodels.api as sm\n",
    "from sklearn.model_selection import train_test_split, RandomizedSearchCV\n",
    "from sklearn import linear_model, preprocessing\n",
    "from sklearn.ensemble import RandomForestClassifier, GradientBoostingClassifier\n",
    "from sklearn.tree import DecisionTreeClassifier\n",
    "from sklearn.linear_model import LogisticRegression\n",
    "from sklearn.metrics import accuracy_score, precision_score, recall_score, f1_score, roc_auc_score, \\\n",
    "    confusion_matrix, mean_squared_error, r2_score\n",
    "from imblearn.over_sampling import RandomOverSampler, SMOTE\n",
    "from imblearn.under_sampling import RandomUnderSampler\n",
    "from statsmodels.graphics.api import abline_plot"
   ]
  },
  {
   "cell_type": "code",
   "execution_count": 2,
   "id": "73ea8b1f",
   "metadata": {},
   "outputs": [],
   "source": [
    "df = pd.read_csv('data/03_eda_loans50k.csv', index_col=[0])"
   ]
  },
  {
   "cell_type": "code",
   "execution_count": 3,
   "id": "55249da4",
   "metadata": {
    "scrolled": true
   },
   "outputs": [
    {
     "data": {
      "text/html": [
       "<div>\n",
       "<style scoped>\n",
       "    .dataframe tbody tr th:only-of-type {\n",
       "        vertical-align: middle;\n",
       "    }\n",
       "\n",
       "    .dataframe tbody tr th {\n",
       "        vertical-align: top;\n",
       "    }\n",
       "\n",
       "    .dataframe thead th {\n",
       "        text-align: right;\n",
       "    }\n",
       "</style>\n",
       "<table border=\"1\" class=\"dataframe\">\n",
       "  <thead>\n",
       "    <tr style=\"text-align: right;\">\n",
       "      <th></th>\n",
       "      <th>amount</th>\n",
       "      <th>term</th>\n",
       "      <th>length</th>\n",
       "      <th>home</th>\n",
       "      <th>income</th>\n",
       "      <th>verified</th>\n",
       "      <th>status</th>\n",
       "      <th>reason</th>\n",
       "      <th>state</th>\n",
       "      <th>debtIncRat</th>\n",
       "      <th>...</th>\n",
       "      <th>totalAcc</th>\n",
       "      <th>totalBal</th>\n",
       "      <th>totalRevLim</th>\n",
       "      <th>accOpen24</th>\n",
       "      <th>avgBal</th>\n",
       "      <th>bcOpen</th>\n",
       "      <th>bcRatio</th>\n",
       "      <th>totalRevBal</th>\n",
       "      <th>totalBcLim</th>\n",
       "      <th>totalIlLim</th>\n",
       "    </tr>\n",
       "    <tr>\n",
       "      <th>loanID</th>\n",
       "      <th></th>\n",
       "      <th></th>\n",
       "      <th></th>\n",
       "      <th></th>\n",
       "      <th></th>\n",
       "      <th></th>\n",
       "      <th></th>\n",
       "      <th></th>\n",
       "      <th></th>\n",
       "      <th></th>\n",
       "      <th></th>\n",
       "      <th></th>\n",
       "      <th></th>\n",
       "      <th></th>\n",
       "      <th></th>\n",
       "      <th></th>\n",
       "      <th></th>\n",
       "      <th></th>\n",
       "      <th></th>\n",
       "      <th></th>\n",
       "      <th></th>\n",
       "    </tr>\n",
       "  </thead>\n",
       "  <tbody>\n",
       "    <tr>\n",
       "      <th>188861</th>\n",
       "      <td>8000.0</td>\n",
       "      <td>36 months</td>\n",
       "      <td>3 years</td>\n",
       "      <td>RENT</td>\n",
       "      <td>49966.0</td>\n",
       "      <td>Verified</td>\n",
       "      <td>Default</td>\n",
       "      <td>credit_card</td>\n",
       "      <td>Quartile_3</td>\n",
       "      <td>30.05</td>\n",
       "      <td>...</td>\n",
       "      <td>15.0</td>\n",
       "      <td>48054.0</td>\n",
       "      <td>8100.0</td>\n",
       "      <td>8.0</td>\n",
       "      <td>4369.0</td>\n",
       "      <td>43.0</td>\n",
       "      <td>95.7</td>\n",
       "      <td>48054.0</td>\n",
       "      <td>1000.0</td>\n",
       "      <td>52529.0</td>\n",
       "    </tr>\n",
       "    <tr>\n",
       "      <th>517703</th>\n",
       "      <td>11000.0</td>\n",
       "      <td>36 months</td>\n",
       "      <td>10+ years</td>\n",
       "      <td>MORTGAGE</td>\n",
       "      <td>50000.0</td>\n",
       "      <td>Not Verified</td>\n",
       "      <td>Current</td>\n",
       "      <td>debt_consolidation</td>\n",
       "      <td>Quartile_3</td>\n",
       "      <td>8.74</td>\n",
       "      <td>...</td>\n",
       "      <td>15.0</td>\n",
       "      <td>265838.0</td>\n",
       "      <td>33400.0</td>\n",
       "      <td>4.0</td>\n",
       "      <td>22153.0</td>\n",
       "      <td>19756.0</td>\n",
       "      <td>37.5</td>\n",
       "      <td>11844.0</td>\n",
       "      <td>31600.0</td>\n",
       "      <td>0.0</td>\n",
       "    </tr>\n",
       "    <tr>\n",
       "      <th>268587</th>\n",
       "      <td>35000.0</td>\n",
       "      <td>36 months</td>\n",
       "      <td>10+ years</td>\n",
       "      <td>RENT</td>\n",
       "      <td>360000.0</td>\n",
       "      <td>Verified</td>\n",
       "      <td>Current</td>\n",
       "      <td>debt_consolidation</td>\n",
       "      <td>Quartile_3</td>\n",
       "      <td>14.50</td>\n",
       "      <td>...</td>\n",
       "      <td>14.0</td>\n",
       "      <td>850150.0</td>\n",
       "      <td>83000.0</td>\n",
       "      <td>2.0</td>\n",
       "      <td>121450.0</td>\n",
       "      <td>7686.0</td>\n",
       "      <td>83.2</td>\n",
       "      <td>173260.0</td>\n",
       "      <td>83000.0</td>\n",
       "      <td>100000.0</td>\n",
       "    </tr>\n",
       "    <tr>\n",
       "      <th>579902</th>\n",
       "      <td>20000.0</td>\n",
       "      <td>60 months</td>\n",
       "      <td>2 years</td>\n",
       "      <td>MORTGAGE</td>\n",
       "      <td>60000.0</td>\n",
       "      <td>Verified</td>\n",
       "      <td>Current</td>\n",
       "      <td>debt_consolidation</td>\n",
       "      <td>Quartile_3</td>\n",
       "      <td>14.14</td>\n",
       "      <td>...</td>\n",
       "      <td>48.0</td>\n",
       "      <td>20671.0</td>\n",
       "      <td>14200.0</td>\n",
       "      <td>8.0</td>\n",
       "      <td>1723.0</td>\n",
       "      <td>11061.0</td>\n",
       "      <td>1.2</td>\n",
       "      <td>20671.0</td>\n",
       "      <td>11200.0</td>\n",
       "      <td>32764.0</td>\n",
       "    </tr>\n",
       "    <tr>\n",
       "      <th>617630</th>\n",
       "      <td>12000.0</td>\n",
       "      <td>60 months</td>\n",
       "      <td>10+ years</td>\n",
       "      <td>MORTGAGE</td>\n",
       "      <td>64000.0</td>\n",
       "      <td>Verified</td>\n",
       "      <td>Current</td>\n",
       "      <td>debt_consolidation</td>\n",
       "      <td>Quartile_3</td>\n",
       "      <td>5.14</td>\n",
       "      <td>...</td>\n",
       "      <td>22.0</td>\n",
       "      <td>128034.0</td>\n",
       "      <td>14600.0</td>\n",
       "      <td>3.0</td>\n",
       "      <td>18291.0</td>\n",
       "      <td>5904.0</td>\n",
       "      <td>58.4</td>\n",
       "      <td>8475.0</td>\n",
       "      <td>14200.0</td>\n",
       "      <td>0.0</td>\n",
       "    </tr>\n",
       "  </tbody>\n",
       "</table>\n",
       "<p>5 rows × 25 columns</p>\n",
       "</div>"
      ],
      "text/plain": [
       "         amount        term     length      home    income      verified  \\\n",
       "loanID                                                                     \n",
       "188861   8000.0   36 months    3 years      RENT   49966.0      Verified   \n",
       "517703  11000.0   36 months  10+ years  MORTGAGE   50000.0  Not Verified   \n",
       "268587  35000.0   36 months  10+ years      RENT  360000.0      Verified   \n",
       "579902  20000.0   60 months    2 years  MORTGAGE   60000.0      Verified   \n",
       "617630  12000.0   60 months  10+ years  MORTGAGE   64000.0      Verified   \n",
       "\n",
       "         status              reason       state  debtIncRat  ...  totalAcc  \\\n",
       "loanID                                                       ...             \n",
       "188861  Default         credit_card  Quartile_3       30.05  ...      15.0   \n",
       "517703  Current  debt_consolidation  Quartile_3        8.74  ...      15.0   \n",
       "268587  Current  debt_consolidation  Quartile_3       14.50  ...      14.0   \n",
       "579902  Current  debt_consolidation  Quartile_3       14.14  ...      48.0   \n",
       "617630  Current  debt_consolidation  Quartile_3        5.14  ...      22.0   \n",
       "\n",
       "        totalBal  totalRevLim  accOpen24    avgBal   bcOpen  bcRatio  \\\n",
       "loanID                                                                 \n",
       "188861   48054.0       8100.0        8.0    4369.0     43.0     95.7   \n",
       "517703  265838.0      33400.0        4.0   22153.0  19756.0     37.5   \n",
       "268587  850150.0      83000.0        2.0  121450.0   7686.0     83.2   \n",
       "579902   20671.0      14200.0        8.0    1723.0  11061.0      1.2   \n",
       "617630  128034.0      14600.0        3.0   18291.0   5904.0     58.4   \n",
       "\n",
       "        totalRevBal  totalBcLim  totalIlLim  \n",
       "loanID                                       \n",
       "188861      48054.0      1000.0     52529.0  \n",
       "517703      11844.0     31600.0         0.0  \n",
       "268587     173260.0     83000.0    100000.0  \n",
       "579902      20671.0     11200.0     32764.0  \n",
       "617630       8475.0     14200.0         0.0  \n",
       "\n",
       "[5 rows x 25 columns]"
      ]
     },
     "execution_count": 3,
     "metadata": {},
     "output_type": "execute_result"
    }
   ],
   "source": [
    "df.head()"
   ]
  },
  {
   "cell_type": "markdown",
   "id": "7c12f111",
   "metadata": {},
   "source": [
    "**Feature Encoding using One Hot Encoding on all categorical data. This took the number of features from 25 to 49.**"
   ]
  },
  {
   "cell_type": "code",
   "execution_count": 4,
   "id": "bda54605",
   "metadata": {
    "scrolled": true
   },
   "outputs": [
    {
     "name": "stdout",
     "output_type": "stream",
     "text": [
      "<class 'pandas.core.frame.DataFrame'>\n",
      "Int64Index: 49184 entries, 188861 to 500393\n",
      "Data columns (total 25 columns):\n",
      " #   Column       Non-Null Count  Dtype  \n",
      "---  ------       --------------  -----  \n",
      " 0   amount       49184 non-null  float64\n",
      " 1   term         49184 non-null  object \n",
      " 2   length       49184 non-null  object \n",
      " 3   home         49184 non-null  object \n",
      " 4   income       49184 non-null  float64\n",
      " 5   verified     49184 non-null  object \n",
      " 6   status       49184 non-null  object \n",
      " 7   reason       49184 non-null  object \n",
      " 8   state        49184 non-null  object \n",
      " 9   debtIncRat   49184 non-null  float64\n",
      " 10  delinq2yr    49184 non-null  float64\n",
      " 11  inq6mth      49184 non-null  float64\n",
      " 12  openAcc      49184 non-null  float64\n",
      " 13  pubRec       49184 non-null  float64\n",
      " 14  revolRatio   49184 non-null  float64\n",
      " 15  totalAcc     49184 non-null  float64\n",
      " 16  totalBal     49184 non-null  float64\n",
      " 17  totalRevLim  49184 non-null  float64\n",
      " 18  accOpen24    49184 non-null  float64\n",
      " 19  avgBal       49184 non-null  float64\n",
      " 20  bcOpen       49184 non-null  float64\n",
      " 21  bcRatio      49184 non-null  float64\n",
      " 22  totalRevBal  49184 non-null  float64\n",
      " 23  totalBcLim   49184 non-null  float64\n",
      " 24  totalIlLim   49184 non-null  float64\n",
      "dtypes: float64(18), object(7)\n",
      "memory usage: 9.8+ MB\n"
     ]
    }
   ],
   "source": [
    "df.info()"
   ]
  },
  {
   "cell_type": "markdown",
   "id": "0a334f2a",
   "metadata": {},
   "source": [
    "**Before encoding, I need to map the length feature to preserve the hierarchical order of the data.**"
   ]
  },
  {
   "cell_type": "code",
   "execution_count": 5,
   "id": "2fc3921f",
   "metadata": {},
   "outputs": [
    {
     "name": "stdout",
     "output_type": "stream",
     "text": [
      "['3 years' '10+ years' '2 years' '< 1 year' '9 years' '5 years' '1 year'\n",
      " '4 years' '8 years' '7 years' '6 years' '0 years']\n"
     ]
    }
   ],
   "source": [
    "# Confirm unique values to be mapped.\n",
    "print(df['length'].unique())"
   ]
  },
  {
   "cell_type": "code",
   "execution_count": 6,
   "id": "2512941b",
   "metadata": {},
   "outputs": [],
   "source": [
    "length_map = {\"0 years\": 0, \"< 1 year\": 1, \"1 year\": 2, \"2 years\": 3, \"3 years\": 4,\\\n",
    "              \"4 years\": 5, \"5 years\": 6, \"6 years\": 7, \"7 years\": 8,\\\n",
    "              \"8 years\": 9, \"9 years\": 10, \"10+ years\": 11}\n",
    "df['length'] = df['length'].map(length_map).astype(int)"
   ]
  },
  {
   "cell_type": "code",
   "execution_count": 7,
   "id": "437de0fa",
   "metadata": {},
   "outputs": [
    {
     "data": {
      "text/plain": [
       "array([ 4, 11,  3,  1, 10,  6,  2,  5,  9,  8,  7,  0])"
      ]
     },
     "execution_count": 7,
     "metadata": {},
     "output_type": "execute_result"
    }
   ],
   "source": [
    "# Check new variables\n",
    "df.length.unique()"
   ]
  },
  {
   "cell_type": "markdown",
   "id": "c578c0bc",
   "metadata": {},
   "source": [
    "**Split data into targt variable (y) and features (X) Then use dummy encoding to transform categorical features.**"
   ]
  },
  {
   "cell_type": "code",
   "execution_count": 32,
   "id": "7b6bb9db",
   "metadata": {},
   "outputs": [],
   "source": [
    "# Split and then get dummies\n",
    "X = df.drop('status', axis=1)\n",
    "y = df['status']\n",
    "# Encode y\n",
    "y = y.replace({'Current': 0, 'Default': 1})"
   ]
  },
  {
   "cell_type": "code",
   "execution_count": 34,
   "id": "67fc0bda",
   "metadata": {},
   "outputs": [
    {
     "data": {
      "text/plain": [
       "Index(['amount', 'length', 'income', 'debtIncRat', 'delinq2yr', 'inq6mth',\n",
       "       'openAcc', 'pubRec', 'revolRatio', 'totalAcc', 'totalBal',\n",
       "       'totalRevLim', 'accOpen24', 'avgBal', 'bcOpen', 'bcRatio',\n",
       "       'totalRevBal', 'totalBcLim', 'totalIlLim', 'term_ 60 months',\n",
       "       'home_OWN', 'home_RENT', 'verified_Verified', 'reason_credit_card',\n",
       "       'reason_debt_consolidation', 'reason_home_improvement', 'reason_house',\n",
       "       'reason_major_purchase', 'reason_medical', 'reason_moving',\n",
       "       'reason_other', 'reason_renewable_energy', 'reason_small_business',\n",
       "       'reason_vacation', 'reason_wedding', 'state_Quartile_2',\n",
       "       'state_Quartile_3', 'state_Quartile_4'],\n",
       "      dtype='object')"
      ]
     },
     "execution_count": 34,
     "metadata": {},
     "output_type": "execute_result"
    }
   ],
   "source": [
    "# Create dummies and check new feautures\n",
    "X = pd.get_dummies(X, drop_first=True)\n",
    "X.columns"
   ]
  },
  {
   "cell_type": "code",
   "execution_count": 11,
   "id": "3998ad3f",
   "metadata": {},
   "outputs": [
    {
     "data": {
      "text/plain": [
       "38"
      ]
     },
     "execution_count": 11,
     "metadata": {},
     "output_type": "execute_result"
    }
   ],
   "source": [
    "len(X.columns)"
   ]
  },
  {
   "cell_type": "code",
   "execution_count": 12,
   "id": "37381b2e",
   "metadata": {
    "scrolled": true
   },
   "outputs": [
    {
     "data": {
      "text/plain": [
       "uint8      19\n",
       "float64    18\n",
       "int64       1\n",
       "dtype: int64"
      ]
     },
     "execution_count": 12,
     "metadata": {},
     "output_type": "execute_result"
    }
   ],
   "source": [
    "X.dtypes.value_counts()"
   ]
  },
  {
   "cell_type": "code",
   "execution_count": 15,
   "id": "f20f954f",
   "metadata": {},
   "outputs": [],
   "source": [
    "# Change uint8 data tpes to int\n",
    "uint8_cols = X.select_dtypes(include='uint8').columns\n",
    "X[uint8_cols] = X[uint8_cols].astype('int')"
   ]
  },
  {
   "cell_type": "code",
   "execution_count": 17,
   "id": "898539a5",
   "metadata": {},
   "outputs": [
    {
     "data": {
      "text/plain": [
       "int64      20\n",
       "float64    18\n",
       "dtype: int64"
      ]
     },
     "execution_count": 17,
     "metadata": {},
     "output_type": "execute_result"
    }
   ],
   "source": [
    "# Confirm uint8 have been changes to int64\n",
    "X.dtypes.value_counts()"
   ]
  },
  {
   "cell_type": "markdown",
   "id": "279f3cfa",
   "metadata": {},
   "source": [
    "**Train / Test Split & Scale using StandardScaler.**"
   ]
  },
  {
   "cell_type": "code",
   "execution_count": 35,
   "id": "9ec931da",
   "metadata": {},
   "outputs": [],
   "source": [
    "# split the data into training and test sets\n",
    "X_train, X_test, y_train, y_test = train_test_split(X, y, test_size=0.20, random_state=42)\n",
    "\n",
    "# initialize a StandardScaler object and fit it on the training data\n",
    "scaler = StandardScaler()\n",
    "scaler.fit(X_train)\n",
    "\n",
    "# apply the scaling transformation to both the training and test data\n",
    "X_train_scaled = scaler.transform(X_train)\n",
    "X_test_scaled = scaler.transform(X_test)"
   ]
  },
  {
   "cell_type": "markdown",
   "id": "0c3165f3",
   "metadata": {},
   "source": [
    "**I wanted to check to see if there were a similar amount of defaults in the training and test set. The ratio is close enough.**"
   ]
  },
  {
   "cell_type": "code",
   "execution_count": 37,
   "id": "41b3883e",
   "metadata": {},
   "outputs": [
    {
     "name": "stdout",
     "output_type": "stream",
     "text": [
      "The ratio of defaults in the training set is 15.53% and the ratio in the test set is 14.95%\n"
     ]
    }
   ],
   "source": [
    "# Find ratios of defaults in the training set\n",
    "ratio_defaults_train = y_train.sum() / len(y_train)\n",
    "# Find ratios of defaults in the test set\n",
    "ratio_defaults_test = y_test.sum() / len(y_test)\n",
    "print(f\"The ratio of defaults in the training set is {ratio_defaults_train:.2%} and the ratio in the test set is \\\n",
    "{ratio_defaults_test:.2%}\")"
   ]
  },
  {
   "cell_type": "markdown",
   "id": "9e8fb222",
   "metadata": {},
   "source": [
    "**Data is ready for modeling. I'm going to try 4 models and pick the top 1 or 2 models to move forward with: <br> Logistic Regression <br> Random Forest Classifier <br> Gradient Boosting Classifier <br> Decision Tree**"
   ]
  },
  {
   "cell_type": "code",
   "execution_count": 38,
   "id": "f058691c",
   "metadata": {},
   "outputs": [
    {
     "name": "stdout",
     "output_type": "stream",
     "text": [
      "Accuracy: 0.639219274168954\n",
      "Precision: 0.23855057876195268\n",
      "Recall: 0.6444595513256288\n",
      "F1 score: 0.34820936639118455\n",
      "ROC-AUC score: 0.6413787118330272\n"
     ]
    }
   ],
   "source": [
    "# Create a logistic regression object\n",
    "lr = LogisticRegression(class_weight='balanced', max_iter=1000, random_state=42)\n",
    "\n",
    "# Train the model on the training data (scaled data)\n",
    "lr.fit(X_train_scaled, y_train)\n",
    "\n",
    "# Make predictions on the test data (scaled data)\n",
    "y_pred = lr.predict(X_test_scaled)\n",
    "\n",
    "# Calculate the metrics\n",
    "lr_acc = accuracy_score(y_test, y_pred)\n",
    "lr_prec = precision_score(y_test, y_pred)\n",
    "lr_rec = recall_score(y_test, y_pred)\n",
    "lr_f1 = f1_score(y_test, y_pred)\n",
    "lr_roc_auc = roc_auc_score(y_test, y_pred)\n",
    "\n",
    "# Print the metrics\n",
    "print(\"Accuracy:\", lr_acc)\n",
    "print(\"Precision:\", lr_prec)\n",
    "print(\"Recall:\", lr_rec)\n",
    "print(\"F1 score:\", lr_f1)\n",
    "print(\"ROC-AUC score:\", lr_roc_auc)"
   ]
  },
  {
   "cell_type": "code",
   "execution_count": 40,
   "id": "edca7373",
   "metadata": {},
   "outputs": [
    {
     "name": "stdout",
     "output_type": "stream",
     "text": [
      "Accuracy: 0.8507675104198434\n",
      "Precision: 0.6363636363636364\n",
      "Recall: 0.004758667573079538\n",
      "F1 score: 0.009446693657219974\n",
      "ROC-AUC score: 0.5021402709130041\n"
     ]
    }
   ],
   "source": [
    "# Create a random forest classifier object\n",
    "rfc = RandomForestClassifier(n_estimators=100, class_weight='balanced', random_state=42)\n",
    "\n",
    "# Train the model on the training data (unscaled)\n",
    "rfc.fit(X_train, y_train)\n",
    "\n",
    "# Make predictions on the test data (unscaled)\n",
    "y_pred = rfc.predict(X_test)\n",
    "\n",
    "# Calculate the metrics\n",
    "rfc_acc = accuracy_score(y_test, y_pred)\n",
    "rfc_prec = precision_score(y_test, y_pred)\n",
    "rfc_rec = recall_score(y_test, y_pred)\n",
    "rfc_f1 = f1_score(y_test, y_pred)\n",
    "rfc_roc_auc = roc_auc_score(y_test, y_pred)\n",
    "\n",
    "# Print the metrics\n",
    "print(\"Accuracy:\", rfc_acc)\n",
    "print(\"Precision:\", rfc_prec)\n",
    "print(\"Recall:\", rfc_rec)\n",
    "print(\"F1 score:\", rfc_f1)\n",
    "print(\"ROC-AUC score:\", rfc_roc_auc)"
   ]
  },
  {
   "cell_type": "code",
   "execution_count": 43,
   "id": "e0cfeb46",
   "metadata": {},
   "outputs": [
    {
     "name": "stdout",
     "output_type": "stream",
     "text": [
      "Accuracy: 0.850462539392091\n",
      "Precision: 0.5\n",
      "Recall: 0.013596193065941536\n",
      "F1 score: 0.026472534745201854\n",
      "ROC-AUC score: 0.5056027821652921\n"
     ]
    }
   ],
   "source": [
    "# Create a gradient boosting classifier object\n",
    "gb = GradientBoostingClassifier(random_state=42)\n",
    "\n",
    "# Train the model on the training data (unscaled)\n",
    "gb.fit(X_train, y_train)\n",
    "\n",
    "# Make predictions on the test data (unscaled)\n",
    "y_pred = gb.predict(X_test)\n",
    "\n",
    "# Calculate the metrics\n",
    "gb_acc = accuracy_score(y_test, y_pred)\n",
    "gb_prec = precision_score(y_test, y_pred)\n",
    "gb_rec = recall_score(y_test, y_pred)\n",
    "gb_f1 = f1_score(y_test, y_pred)\n",
    "gb_roc_auc = roc_auc_score(y_test, y_pred)\n",
    "\n",
    "# Print the metrics\n",
    "print(\"Accuracy:\", gb_acc)\n",
    "print(\"Precision:\", gb_prec)\n",
    "print(\"Recall:\", gb_rec)\n",
    "print(\"F1 score:\", gb_f1)\n",
    "print(\"ROC-AUC score:\", gb_roc_auc)"
   ]
  },
  {
   "cell_type": "code",
   "execution_count": 52,
   "id": "95e53c0f",
   "metadata": {},
   "outputs": [
    {
     "name": "stdout",
     "output_type": "stream",
     "text": [
      "Accuracy: 0.7550066077056014\n",
      "Precision: 0.19729206963249515\n",
      "Recall: 0.2080217539089055\n",
      "F1 score: 0.20251489080079416\n",
      "ROC-AUC score: 0.5296025575664537\n"
     ]
    }
   ],
   "source": [
    "# Initialize the decision tree classifier with default hyperparameters\n",
    "dtc = DecisionTreeClassifier(class_weight='balanced', random_state=42)\n",
    "\n",
    "# Train the decision tree classifier on the training set (unbalanced)\n",
    "dtc.fit(X_train, y_train)\n",
    "\n",
    "# Make predictions on the test set\n",
    "y_pred = dtc.predict(X_test)\n",
    "\n",
    "# Calculate the metrics\n",
    "dtc_acc = accuracy_score(y_test, y_pred)\n",
    "dtc_prec = precision_score(y_test, y_pred)\n",
    "dtc_rec = recall_score(y_test, y_pred)\n",
    "dtc_f1 = f1_score(y_test, y_pred)\n",
    "dtc_roc_auc = roc_auc_score(y_test, y_pred)\n",
    "\n",
    "# Print the metrics\n",
    "print(\"Accuracy:\", dtc_acc)\n",
    "print(\"Precision:\", dtc_prec)\n",
    "print(\"Recall:\", dtc_rec)\n",
    "print(\"F1 score:\", dtc_f1)\n",
    "print(\"ROC-AUC score:\", dtc_roc_auc)"
   ]
  },
  {
   "cell_type": "code",
   "execution_count": 63,
   "id": "da0eba97",
   "metadata": {},
   "outputs": [
    {
     "data": {
      "text/html": [
       "<div>\n",
       "<style scoped>\n",
       "    .dataframe tbody tr th:only-of-type {\n",
       "        vertical-align: middle;\n",
       "    }\n",
       "\n",
       "    .dataframe tbody tr th {\n",
       "        vertical-align: top;\n",
       "    }\n",
       "\n",
       "    .dataframe thead th {\n",
       "        text-align: right;\n",
       "    }\n",
       "</style>\n",
       "<table border=\"1\" class=\"dataframe\">\n",
       "  <thead>\n",
       "    <tr style=\"text-align: right;\">\n",
       "      <th></th>\n",
       "      <th>Model</th>\n",
       "      <th>Accuracy</th>\n",
       "      <th>Precision</th>\n",
       "      <th>Recall</th>\n",
       "      <th>F1 Score</th>\n",
       "      <th>ROC-AUC Score</th>\n",
       "    </tr>\n",
       "  </thead>\n",
       "  <tbody>\n",
       "    <tr>\n",
       "      <th>0</th>\n",
       "      <td>LR</td>\n",
       "      <td>0.639219</td>\n",
       "      <td>0.238551</td>\n",
       "      <td>0.644460</td>\n",
       "      <td>0.348209</td>\n",
       "      <td>0.641379</td>\n",
       "    </tr>\n",
       "    <tr>\n",
       "      <th>1</th>\n",
       "      <td>RFC</td>\n",
       "      <td>0.850768</td>\n",
       "      <td>0.636364</td>\n",
       "      <td>0.004759</td>\n",
       "      <td>0.009447</td>\n",
       "      <td>0.502140</td>\n",
       "    </tr>\n",
       "    <tr>\n",
       "      <th>2</th>\n",
       "      <td>GB</td>\n",
       "      <td>0.850463</td>\n",
       "      <td>0.500000</td>\n",
       "      <td>0.013596</td>\n",
       "      <td>0.026473</td>\n",
       "      <td>0.505603</td>\n",
       "    </tr>\n",
       "    <tr>\n",
       "      <th>3</th>\n",
       "      <td>DTC</td>\n",
       "      <td>0.755007</td>\n",
       "      <td>0.197292</td>\n",
       "      <td>0.208022</td>\n",
       "      <td>0.202515</td>\n",
       "      <td>0.529603</td>\n",
       "    </tr>\n",
       "  </tbody>\n",
       "</table>\n",
       "</div>"
      ],
      "text/plain": [
       "  Model  Accuracy  Precision    Recall  F1 Score  ROC-AUC Score\n",
       "0    LR  0.639219   0.238551  0.644460  0.348209       0.641379\n",
       "1   RFC  0.850768   0.636364  0.004759  0.009447       0.502140\n",
       "2    GB  0.850463   0.500000  0.013596  0.026473       0.505603\n",
       "3   DTC  0.755007   0.197292  0.208022  0.202515       0.529603"
      ]
     },
     "execution_count": 63,
     "metadata": {},
     "output_type": "execute_result"
    }
   ],
   "source": [
    "# create a dictionary of scores for each model\n",
    "scores_dict = {\n",
    "    'Model': ['LR','RFC', 'GB', 'DTC'],\n",
    "    'Accuracy': [lr_acc, rfc_acc, gb_acc, dtc_acc],\n",
    "    'Precision': [lr_prec, rfc_prec, gb_prec, dtc_prec],\n",
    "    'Recall': [lr_rec, rfc_rec, gb_rec, dtc_rec],\n",
    "    'F1 Score': [lr_f1, rfc_f1, gb_f1, dtc_f1],\n",
    "    'ROC-AUC Score': [lr_roc_auc, rfc_roc_auc, gb_roc_auc, dtc_roc_auc,]\n",
    "}\n",
    "\n",
    "# create the DataFrame\n",
    "scores_df = pd.DataFrame(scores_dict)\n",
    "scores_df"
   ]
  },
  {
   "cell_type": "markdown",
   "id": "fd3ed43e",
   "metadata": {},
   "source": [
    "**Because we care most about detecting true loan defaults, we will move forward with logistic regression as is has the highest recall score.**"
   ]
  },
  {
   "cell_type": "code",
   "execution_count": 56,
   "id": "d3e47b77",
   "metadata": {},
   "outputs": [],
   "source": [
    "# create oversampled training set using synthetic data\n",
    "smote = SMOTE(random_state=42)\n",
    "X_train_smote, y_train_smote = smote.fit_resample(X_train_scaled, y_train)\n",
    "\n",
    "# create oversampled training set\n",
    "ros = RandomOverSampler(random_state=42)\n",
    "X_train_ros, y_train_ros = ros.fit_resample(X_train_scaled, y_train)\n",
    "\n",
    "# create undersampled training set\n",
    "rus = RandomUnderSampler(random_state=42, replacement=True)\n",
    "X_train_rus, y_train_rus = rus.fit_resample(X_train_scaled, y_train)"
   ]
  },
  {
   "cell_type": "code",
   "execution_count": 57,
   "id": "f92cdddc",
   "metadata": {},
   "outputs": [
    {
     "name": "stdout",
     "output_type": "stream",
     "text": [
      "Accuracy: 0.6388126461319508\n",
      "Precision: 0.2402694610778443\n",
      "Recall: 0.6546566961250849\n",
      "F1 score: 0.35152400073006024\n",
      "ROC-AUC score: 0.6453417355834605\n"
     ]
    }
   ],
   "source": [
    "# Use synthetic oversampling\n",
    "\n",
    "# Train the model on the training data (scaled data)\n",
    "lr.fit(X_train_smote, y_train_smote)\n",
    "\n",
    "# Make predictions on the test data (scaled data)\n",
    "y_pred = lr.predict(X_test_scaled)\n",
    "\n",
    "# Calculate the metrics\n",
    "sm_lr_acc = accuracy_score(y_test, y_pred)\n",
    "sm_lr_prec = precision_score(y_test, y_pred)\n",
    "sm_lr_rec = recall_score(y_test, y_pred)\n",
    "sm_lr_f1 = f1_score(y_test, y_pred)\n",
    "sm_lr_roc_auc = roc_auc_score(y_test, y_pred)\n",
    "\n",
    "# Print the metrics\n",
    "print(\"Accuracy:\", sm_lr_acc)\n",
    "print(\"Precision:\", sm_lr_prec)\n",
    "print(\"Recall:\", sm_lr_rec)\n",
    "print(\"F1 score:\", sm_lr_f1)\n",
    "print(\"ROC-AUC score:\", sm_lr_roc_auc)"
   ]
  },
  {
   "cell_type": "code",
   "execution_count": 58,
   "id": "4d7608e1",
   "metadata": {},
   "outputs": [
    {
     "name": "stdout",
     "output_type": "stream",
     "text": [
      "Accuracy: 0.6393209311782048\n",
      "Precision: 0.23821527602722462\n",
      "Recall: 0.6424201223657376\n",
      "F1 score: 0.34755424788525197\n",
      "ROC-AUC score: 0.6405980602266172\n"
     ]
    }
   ],
   "source": [
    "# Use random oversampling\n",
    "\n",
    "# Train the model on the training data (scaled data)\n",
    "lr.fit(X_train_ros, y_train_ros)\n",
    "\n",
    "# Make predictions on the test data (scaled data)\n",
    "y_pred = lr.predict(X_test_scaled)\n",
    "\n",
    "# Calculate the metrics\n",
    "ros_lr_acc = accuracy_score(y_test, y_pred)\n",
    "ros_lr_prec = precision_score(y_test, y_pred)\n",
    "ros_lr_rec = recall_score(y_test, y_pred)\n",
    "ros_lr_f1 = f1_score(y_test, y_pred)\n",
    "ros_lr_roc_auc = roc_auc_score(y_test, y_pred)\n",
    "\n",
    "# Print the metrics\n",
    "print(\"Accuracy:\", ros_lr_acc)\n",
    "print(\"Precision:\", ros_lr_prec)\n",
    "print(\"Recall:\", ros_lr_rec)\n",
    "print(\"F1 score:\", ros_lr_f1)\n",
    "print(\"ROC-AUC score:\", ros_lr_roc_auc)"
   ]
  },
  {
   "cell_type": "code",
   "execution_count": 59,
   "id": "693f5694",
   "metadata": {},
   "outputs": [
    {
     "name": "stdout",
     "output_type": "stream",
     "text": [
      "Accuracy: 0.6411507573447189\n",
      "Precision: 0.23824052885837782\n",
      "Recall: 0.636981645139361\n",
      "F1 score: 0.346780162842339\n",
      "ROC-AUC score: 0.6394327302914113\n"
     ]
    }
   ],
   "source": [
    "# Use random udersampling\n",
    "\n",
    "# Train the model on the training data (scaled data)\n",
    "lr.fit(X_train_rus, y_train_rus)\n",
    "\n",
    "# Make predictions on the test data (scaled data)\n",
    "y_pred = lr.predict(X_test_scaled)\n",
    "\n",
    "# Calculate the metrics\n",
    "rus_lr_acc = accuracy_score(y_test, y_pred)\n",
    "rus_lr_prec = precision_score(y_test, y_pred)\n",
    "rus_lr_rec = recall_score(y_test, y_pred)\n",
    "rus_lr_f1 = f1_score(y_test, y_pred)\n",
    "rus_lr_roc_auc = roc_auc_score(y_test, y_pred)\n",
    "\n",
    "# Print the metrics\n",
    "print(\"Accuracy:\", rus_lr_acc)\n",
    "print(\"Precision:\", rus_lr_prec)\n",
    "print(\"Recall:\", rus_lr_rec)\n",
    "print(\"F1 score:\", rus_lr_f1)\n",
    "print(\"ROC-AUC score:\", rus_lr_roc_auc)"
   ]
  },
  {
   "cell_type": "code",
   "execution_count": 62,
   "id": "48b770ec",
   "metadata": {},
   "outputs": [
    {
     "data": {
      "text/html": [
       "<div>\n",
       "<style scoped>\n",
       "    .dataframe tbody tr th:only-of-type {\n",
       "        vertical-align: middle;\n",
       "    }\n",
       "\n",
       "    .dataframe tbody tr th {\n",
       "        vertical-align: top;\n",
       "    }\n",
       "\n",
       "    .dataframe thead th {\n",
       "        text-align: right;\n",
       "    }\n",
       "</style>\n",
       "<table border=\"1\" class=\"dataframe\">\n",
       "  <thead>\n",
       "    <tr style=\"text-align: right;\">\n",
       "      <th></th>\n",
       "      <th>Model</th>\n",
       "      <th>Accuracy</th>\n",
       "      <th>Precision</th>\n",
       "      <th>Recall</th>\n",
       "      <th>F1 Score</th>\n",
       "      <th>ROC-AUC Score</th>\n",
       "    </tr>\n",
       "  </thead>\n",
       "  <tbody>\n",
       "    <tr>\n",
       "      <th>0</th>\n",
       "      <td>LR</td>\n",
       "      <td>0.639219</td>\n",
       "      <td>0.238551</td>\n",
       "      <td>0.644460</td>\n",
       "      <td>0.348209</td>\n",
       "      <td>0.641379</td>\n",
       "    </tr>\n",
       "    <tr>\n",
       "      <th>1</th>\n",
       "      <td>LR: Smote</td>\n",
       "      <td>0.638813</td>\n",
       "      <td>0.240269</td>\n",
       "      <td>0.654657</td>\n",
       "      <td>0.351524</td>\n",
       "      <td>0.645342</td>\n",
       "    </tr>\n",
       "    <tr>\n",
       "      <th>2</th>\n",
       "      <td>LR: ROS</td>\n",
       "      <td>0.639321</td>\n",
       "      <td>0.238215</td>\n",
       "      <td>0.642420</td>\n",
       "      <td>0.347554</td>\n",
       "      <td>0.640598</td>\n",
       "    </tr>\n",
       "    <tr>\n",
       "      <th>3</th>\n",
       "      <td>LR: RUS</td>\n",
       "      <td>0.641151</td>\n",
       "      <td>0.238241</td>\n",
       "      <td>0.636982</td>\n",
       "      <td>0.346780</td>\n",
       "      <td>0.639433</td>\n",
       "    </tr>\n",
       "  </tbody>\n",
       "</table>\n",
       "</div>"
      ],
      "text/plain": [
       "       Model  Accuracy  Precision    Recall  F1 Score  ROC-AUC Score\n",
       "0         LR  0.639219   0.238551  0.644460  0.348209       0.641379\n",
       "1  LR: Smote  0.638813   0.240269  0.654657  0.351524       0.645342\n",
       "2    LR: ROS  0.639321   0.238215  0.642420  0.347554       0.640598\n",
       "3    LR: RUS  0.641151   0.238241  0.636982  0.346780       0.639433"
      ]
     },
     "execution_count": 62,
     "metadata": {},
     "output_type": "execute_result"
    }
   ],
   "source": [
    "# create a dictionary of scores for each model\n",
    "lr_scores_dict = {\n",
    "    'Model': ['LR','LR: Smote', 'LR: ROS', 'LR: RUS'],\n",
    "    'Accuracy': [lr_acc, sm_lr_acc, ros_lr_acc, rus_lr_acc],\n",
    "    'Precision': [lr_prec, sm_lr_prec, ros_lr_prec, rus_lr_prec],\n",
    "    'Recall': [lr_rec, sm_lr_rec, ros_lr_rec, rus_lr_rec],\n",
    "    'F1 Score': [lr_f1, sm_lr_f1, ros_lr_f1, rus_lr_f1],\n",
    "    'ROC-AUC Score': [lr_roc_auc, sm_lr_roc_auc, ros_lr_roc_auc, rus_lr_roc_auc]\n",
    "}\n",
    "\n",
    "# create the DataFrame\n",
    "lr_scores_df = pd.DataFrame(lr_scores_dict)\n",
    "lr_scores_df"
   ]
  },
  {
   "cell_type": "markdown",
   "id": "9e161ca7",
   "metadata": {},
   "source": [
    "**I will use SMOTE synthetic oversampling to tune my hyperparameters. It had the highest scores in all metrics except accuracy which I am less concerned with.**"
   ]
  },
  {
   "cell_type": "code",
   "execution_count": 66,
   "id": "0773fe60",
   "metadata": {},
   "outputs": [
    {
     "name": "stderr",
     "output_type": "stream",
     "text": [
      "/opt/anaconda3/lib/python3.9/site-packages/sklearn/linear_model/_logistic.py:1483: UserWarning: Setting penalty='none' will ignore the C and l1_ratio parameters\n",
      "  warnings.warn(\n",
      "/opt/anaconda3/lib/python3.9/site-packages/sklearn/linear_model/_sag.py:352: ConvergenceWarning: The max_iter was reached which means the coef_ did not converge\n",
      "  warnings.warn(\n",
      "/opt/anaconda3/lib/python3.9/site-packages/sklearn/linear_model/_logistic.py:1483: UserWarning: Setting penalty='none' will ignore the C and l1_ratio parameters\n",
      "  warnings.warn(\n",
      "/opt/anaconda3/lib/python3.9/site-packages/sklearn/linear_model/_sag.py:352: ConvergenceWarning: The max_iter was reached which means the coef_ did not converge\n",
      "  warnings.warn(\n",
      "/opt/anaconda3/lib/python3.9/site-packages/sklearn/linear_model/_logistic.py:1483: UserWarning: Setting penalty='none' will ignore the C and l1_ratio parameters\n",
      "  warnings.warn(\n",
      "/opt/anaconda3/lib/python3.9/site-packages/sklearn/linear_model/_sag.py:352: ConvergenceWarning: The max_iter was reached which means the coef_ did not converge\n",
      "  warnings.warn(\n",
      "/opt/anaconda3/lib/python3.9/site-packages/sklearn/linear_model/_logistic.py:1483: UserWarning: Setting penalty='none' will ignore the C and l1_ratio parameters\n",
      "  warnings.warn(\n",
      "/opt/anaconda3/lib/python3.9/site-packages/sklearn/linear_model/_sag.py:352: ConvergenceWarning: The max_iter was reached which means the coef_ did not converge\n",
      "  warnings.warn(\n",
      "/opt/anaconda3/lib/python3.9/site-packages/sklearn/linear_model/_logistic.py:1483: UserWarning: Setting penalty='none' will ignore the C and l1_ratio parameters\n",
      "  warnings.warn(\n",
      "/opt/anaconda3/lib/python3.9/site-packages/sklearn/linear_model/_sag.py:352: ConvergenceWarning: The max_iter was reached which means the coef_ did not converge\n",
      "  warnings.warn(\n",
      "/opt/anaconda3/lib/python3.9/site-packages/sklearn/model_selection/_validation.py:372: FitFailedWarning: \n",
      "20 fits failed out of a total of 50.\n",
      "The score on these train-test partitions for these parameters will be set to nan.\n",
      "If these failures are not expected, you can try to debug them by setting error_score='raise'.\n",
      "\n",
      "Below are more details about the failures:\n",
      "--------------------------------------------------------------------------------\n",
      "5 fits failed with the following error:\n",
      "Traceback (most recent call last):\n",
      "  File \"/opt/anaconda3/lib/python3.9/site-packages/sklearn/model_selection/_validation.py\", line 680, in _fit_and_score\n",
      "    estimator.fit(X_train, y_train, **fit_params)\n",
      "  File \"/opt/anaconda3/lib/python3.9/site-packages/sklearn/linear_model/_logistic.py\", line 1461, in fit\n",
      "    solver = _check_solver(self.solver, self.penalty, self.dual)\n",
      "  File \"/opt/anaconda3/lib/python3.9/site-packages/sklearn/linear_model/_logistic.py\", line 464, in _check_solver\n",
      "    raise ValueError(\"penalty='none' is not supported for the liblinear solver\")\n",
      "ValueError: penalty='none' is not supported for the liblinear solver\n",
      "\n",
      "--------------------------------------------------------------------------------\n",
      "5 fits failed with the following error:\n",
      "Traceback (most recent call last):\n",
      "  File \"/opt/anaconda3/lib/python3.9/site-packages/sklearn/model_selection/_validation.py\", line 680, in _fit_and_score\n",
      "    estimator.fit(X_train, y_train, **fit_params)\n",
      "  File \"/opt/anaconda3/lib/python3.9/site-packages/sklearn/linear_model/_logistic.py\", line 1461, in fit\n",
      "    solver = _check_solver(self.solver, self.penalty, self.dual)\n",
      "  File \"/opt/anaconda3/lib/python3.9/site-packages/sklearn/linear_model/_logistic.py\", line 447, in _check_solver\n",
      "    raise ValueError(\n",
      "ValueError: Solver lbfgs supports only 'l2' or 'none' penalties, got l1 penalty.\n",
      "\n",
      "--------------------------------------------------------------------------------\n",
      "10 fits failed with the following error:\n",
      "Traceback (most recent call last):\n",
      "  File \"/opt/anaconda3/lib/python3.9/site-packages/sklearn/model_selection/_validation.py\", line 680, in _fit_and_score\n",
      "    estimator.fit(X_train, y_train, **fit_params)\n",
      "  File \"/opt/anaconda3/lib/python3.9/site-packages/sklearn/linear_model/_logistic.py\", line 1461, in fit\n",
      "    solver = _check_solver(self.solver, self.penalty, self.dual)\n",
      "  File \"/opt/anaconda3/lib/python3.9/site-packages/sklearn/linear_model/_logistic.py\", line 447, in _check_solver\n",
      "    raise ValueError(\n",
      "ValueError: Solver newton-cg supports only 'l2' or 'none' penalties, got elasticnet penalty.\n",
      "\n",
      "  warnings.warn(some_fits_failed_message, FitFailedWarning)\n",
      "/opt/anaconda3/lib/python3.9/site-packages/sklearn/model_selection/_search.py:969: UserWarning: One or more of the test scores are non-finite: [       nan        nan        nan 0.65316837 0.65307811 0.65268699\n",
      " 0.65271707 0.65313828        nan 0.65316837]\n",
      "  warnings.warn(\n"
     ]
    },
    {
     "name": "stdout",
     "output_type": "stream",
     "text": [
      "{'solver': 'newton-cg', 'penalty': 'none', 'max_iter': 100, 'C': 1}\n",
      "Accuracy: 0.6386093321134492\n",
      "Precision: 0.24001996007984033\n",
      "Recall: 0.6539768864717879\n",
      "F1 score: 0.3511589706150758\n",
      "ROC-AUC score: 0.644942065038428\n"
     ]
    }
   ],
   "source": [
    "# Create a logistic regression object\n",
    "lr = LogisticRegression(random_state=42)\n",
    "\n",
    "# Define the hyperparameters to search over\n",
    "params = {\n",
    "    'penalty': ['l1', 'l2', 'elasticnet', 'none'],\n",
    "    'C': [0.1, 1, 10],\n",
    "    'solver': ['saga', 'sag', 'lbfgs', 'newton-cg', 'liblinear'],\n",
    "    'max_iter': [100, 500, 1000]\n",
    "}\n",
    "\n",
    "# Create a RandomizedSearchCV object\n",
    "lr_random = RandomizedSearchCV(estimator=lr, param_distributions=params, n_iter=10, cv=5, random_state=42, scoring='recall')\n",
    "\n",
    "# Train the model on the training data\n",
    "lr_random.fit(X_train_smote, y_train_smote)\n",
    "\n",
    "# Get the best hyperparameters\n",
    "best_params = lr_random.best_params_\n",
    "print(best_params)\n",
    "\n",
    "# Train the model with the best hyperparameters on the training data\n",
    "lr = LogisticRegression(random_state=42, **best_params)\n",
    "lr.fit(X_train_smote, y_train_smote)\n",
    "\n",
    "# Make predictions on the test data\n",
    "y_pred = lr.predict(X_test_scaled)\n",
    "\n",
    "# Calculate the metrics\n",
    "tuned_lr_acc = accuracy_score(y_test, y_pred)\n",
    "tuned_lr_prec = precision_score(y_test, y_pred)\n",
    "tuned_lr_rec = recall_score(y_test, y_pred)\n",
    "tuned_lr_f1 = f1_score(y_test, y_pred)\n",
    "tuned_lr_roc_auc = roc_auc_score(y_test, y_pred)\n",
    "tuned_lr_conf_matrix = confusion_matrix(y_test, y_pred)\n",
    "\n",
    "# Print the metrics\n",
    "print(\"Accuracy:\", tuned_lr_acc)\n",
    "print(\"Precision:\", tuned_lr_prec)\n",
    "print(\"Recall:\", tuned_lr_rec)\n",
    "print(\"F1 score:\", tuned_lr_f1)\n",
    "print(\"ROC-AUC score:\", tuned_lr_roc_auc)"
   ]
  },
  {
   "cell_type": "code",
   "execution_count": 67,
   "id": "fd0b4c2e",
   "metadata": {},
   "outputs": [
    {
     "data": {
      "text/html": [
       "<div>\n",
       "<style scoped>\n",
       "    .dataframe tbody tr th:only-of-type {\n",
       "        vertical-align: middle;\n",
       "    }\n",
       "\n",
       "    .dataframe tbody tr th {\n",
       "        vertical-align: top;\n",
       "    }\n",
       "\n",
       "    .dataframe thead th {\n",
       "        text-align: right;\n",
       "    }\n",
       "</style>\n",
       "<table border=\"1\" class=\"dataframe\">\n",
       "  <thead>\n",
       "    <tr style=\"text-align: right;\">\n",
       "      <th></th>\n",
       "      <th>Model</th>\n",
       "      <th>Accuracy</th>\n",
       "      <th>Precision</th>\n",
       "      <th>Recall</th>\n",
       "      <th>F1 Score</th>\n",
       "      <th>ROC-AUC Score</th>\n",
       "    </tr>\n",
       "  </thead>\n",
       "  <tbody>\n",
       "    <tr>\n",
       "      <th>0</th>\n",
       "      <td>LR: Smote</td>\n",
       "      <td>0.639219</td>\n",
       "      <td>0.238551</td>\n",
       "      <td>0.644460</td>\n",
       "      <td>0.348209</td>\n",
       "      <td>0.641379</td>\n",
       "    </tr>\n",
       "    <tr>\n",
       "      <th>1</th>\n",
       "      <td>LR: Smote - Tuned</td>\n",
       "      <td>0.638609</td>\n",
       "      <td>0.240020</td>\n",
       "      <td>0.653977</td>\n",
       "      <td>0.351159</td>\n",
       "      <td>0.644942</td>\n",
       "    </tr>\n",
       "  </tbody>\n",
       "</table>\n",
       "</div>"
      ],
      "text/plain": [
       "               Model  Accuracy  Precision    Recall  F1 Score  ROC-AUC Score\n",
       "0          LR: Smote  0.639219   0.238551  0.644460  0.348209       0.641379\n",
       "1  LR: Smote - Tuned  0.638609   0.240020  0.653977  0.351159       0.644942"
      ]
     },
     "execution_count": 67,
     "metadata": {},
     "output_type": "execute_result"
    }
   ],
   "source": [
    "# create a dictionary of scores for each model\n",
    "lr_tuned_scores_dict = {\n",
    "    'Model': ['LR: Smote', 'LR: Smote - Tuned'],\n",
    "    'Accuracy': [lr_acc, tuned_lr_acc],\n",
    "    'Precision': [lr_prec, tuned_lr_prec],\n",
    "    'Recall': [lr_rec, tuned_lr_rec],\n",
    "    'F1 Score': [lr_f1, tuned_lr_f1],\n",
    "    'ROC-AUC Score': [lr_roc_auc, tuned_lr_roc_auc]\n",
    "}\n",
    "\n",
    "# create the DataFrame\n",
    "lr_tuned_scores_df = pd.DataFrame(lr_tuned_scores_dict)\n",
    "lr_tuned_scores_df"
   ]
  },
  {
   "cell_type": "markdown",
   "id": "e4dda475",
   "metadata": {},
   "source": [
    "**Plot the feature importance & the coefficient matrix.**"
   ]
  },
  {
   "cell_type": "code",
   "execution_count": 131,
   "id": "3fac36aa",
   "metadata": {
    "scrolled": true
   },
   "outputs": [
    {
     "data": {
      "image/png": "[encoded data removed]",
      "text/plain": [
       "<Figure size 1080x432 with 1 Axes>"
      ]
     },
     "metadata": {
      "needs_background": "light"
     },
     "output_type": "display_data"
    }
   ],
   "source": [
    "# Create a color gradient for the bar chart\n",
    "color_map = plt.cm.get_cmap('Blues')\n",
    "\n",
    "# Get the absolute coefficients and feature names\n",
    "coefs = np.abs(lr.coef_[0])\n",
    "features = list(X_train.columns)\n",
    "\n",
    "# Sort the coefficients in descending order\n",
    "sorted_idx = coefs.argsort()[::-1]\n",
    "sorted_coefs = coefs[sorted_idx]\n",
    "sorted_features = [features[i] for i in sorted_idx]\n",
    "\n",
    "# Plot the feature importance with a color gradient\n",
    "plt.figure(figsize=(15, 6))\n",
    "bars = plt.bar(sorted_features, sorted_coefs, color=color_map(sorted_coefs / max(sorted_coefs)))\n",
    "plt.xticks(rotation=90)\n",
    "plt.xlabel('Features', size=12, color='navy')\n",
    "plt.ylabel('Absolute Coefficients', size=12, color='navy')\n",
    "plt.title('Feature Importance', size=15, color='navy')\n",
    "\n",
    "# Add horizontal lines behind the bars.\n",
    "for i in range(1, 6):\n",
    "    plt.axhline(y=i/10, color='lightblue', zorder=-1, linewidth=0.5)\n",
    "\n",
    "# Add space between the bars\n",
    "plt.subplots_adjust(bottom=0.3)\n",
    "\n",
    "plt.show()\n"
   ]
  },
  {
   "cell_type": "code",
   "execution_count": 130,
   "id": "94134e6d",
   "metadata": {},
   "outputs": [
    {
     "data": {
      "image/png": "[encoded data removed]",
      "text/plain": [
       "<Figure size 1080x432 with 1 Axes>"
      ]
     },
     "metadata": {
      "needs_background": "light"
     },
     "output_type": "display_data"
    }
   ],
   "source": [
    "# Create a color gradient for the bar chart\n",
    "color_map = plt.cm.get_cmap('Blues')\n",
    "\n",
    "# Get the absolute coefficients and feature names\n",
    "coefs = np.abs(lr.coef_[0])\n",
    "features = list(X_train.columns)\n",
    "\n",
    "# Sort the coefficients in descending order\n",
    "sorted_idx = coefs.argsort()[::-1]\n",
    "sorted_coefs = coefs[sorted_idx][:5]\n",
    "sorted_features = [features[i] for i in sorted_idx][:5]\n",
    "\n",
    "# Plot the feature importance with a color gradient\n",
    "plt.figure(figsize=(15, 6))\n",
    "bars = plt.bar(sorted_features, sorted_coefs, color=color_map(sorted_coefs / max(sorted_coefs)))\n",
    "plt.xticks(range(len(sorted_features)), ['Total Limit', 'Total Revolving Balance',\\\n",
    "                                         'Accounts Opened in \\nPast 24 Hours', 'Total Revolving Limit',\\\n",
    "                                         'Reason Loan: \\nDebt Consolodation'])\n",
    "plt.xlabel('Features', size=12, color='navy')\n",
    "plt.ylabel('Absolute Coefficients', size=12, color='navy')\n",
    "plt.title('Feature Importance', size=15, color='navy')\n",
    "\n",
    "# Add horizontal lines behind the bars.\n",
    "for i in range(1, 6):\n",
    "    plt.axhline(y=i/10, color='lightblue', zorder=-1, linewidth=0.5)\n",
    "\n",
    "# Add space between the bars\n",
    "plt.subplots_adjust(bottom=0.3)\n",
    "\n",
    "plt.show()"
   ]
  },
  {
   "cell_type": "code",
   "execution_count": 90,
   "id": "56a07743",
   "metadata": {
    "scrolled": true
   },
   "outputs": [
    {
     "data": {
      "text/html": [
       "<div>\n",
       "<style scoped>\n",
       "    .dataframe tbody tr th:only-of-type {\n",
       "        vertical-align: middle;\n",
       "    }\n",
       "\n",
       "    .dataframe tbody tr th {\n",
       "        vertical-align: top;\n",
       "    }\n",
       "\n",
       "    .dataframe thead th {\n",
       "        text-align: right;\n",
       "    }\n",
       "</style>\n",
       "<table border=\"1\" class=\"dataframe\">\n",
       "  <thead>\n",
       "    <tr style=\"text-align: right;\">\n",
       "      <th></th>\n",
       "      <th>Feature</th>\n",
       "      <th>Coefficient</th>\n",
       "    </tr>\n",
       "  </thead>\n",
       "  <tbody>\n",
       "    <tr>\n",
       "      <th>0</th>\n",
       "      <td>totalIlLim</td>\n",
       "      <td>0.653503</td>\n",
       "    </tr>\n",
       "    <tr>\n",
       "      <th>1</th>\n",
       "      <td>totalRevBal</td>\n",
       "      <td>0.544052</td>\n",
       "    </tr>\n",
       "    <tr>\n",
       "      <th>2</th>\n",
       "      <td>accOpen24</td>\n",
       "      <td>0.423631</td>\n",
       "    </tr>\n",
       "    <tr>\n",
       "      <th>3</th>\n",
       "      <td>totalRevLim</td>\n",
       "      <td>0.377999</td>\n",
       "    </tr>\n",
       "    <tr>\n",
       "      <th>4</th>\n",
       "      <td>reason_debt_consolidation</td>\n",
       "      <td>0.352019</td>\n",
       "    </tr>\n",
       "    <tr>\n",
       "      <th>5</th>\n",
       "      <td>debtIncRat</td>\n",
       "      <td>0.232986</td>\n",
       "    </tr>\n",
       "    <tr>\n",
       "      <th>6</th>\n",
       "      <td>term_ 60 months</td>\n",
       "      <td>0.221573</td>\n",
       "    </tr>\n",
       "    <tr>\n",
       "      <th>7</th>\n",
       "      <td>state_Quartile_3</td>\n",
       "      <td>0.219992</td>\n",
       "    </tr>\n",
       "    <tr>\n",
       "      <th>8</th>\n",
       "      <td>reason_credit_card</td>\n",
       "      <td>0.212426</td>\n",
       "    </tr>\n",
       "    <tr>\n",
       "      <th>9</th>\n",
       "      <td>avgBal</td>\n",
       "      <td>0.200047</td>\n",
       "    </tr>\n",
       "    <tr>\n",
       "      <th>10</th>\n",
       "      <td>state_Quartile_4</td>\n",
       "      <td>0.200045</td>\n",
       "    </tr>\n",
       "    <tr>\n",
       "      <th>11</th>\n",
       "      <td>reason_home_improvement</td>\n",
       "      <td>0.186445</td>\n",
       "    </tr>\n",
       "    <tr>\n",
       "      <th>12</th>\n",
       "      <td>amount</td>\n",
       "      <td>0.185786</td>\n",
       "    </tr>\n",
       "    <tr>\n",
       "      <th>13</th>\n",
       "      <td>totalBcLim</td>\n",
       "      <td>0.177237</td>\n",
       "    </tr>\n",
       "    <tr>\n",
       "      <th>14</th>\n",
       "      <td>reason_other</td>\n",
       "      <td>0.171294</td>\n",
       "    </tr>\n",
       "    <tr>\n",
       "      <th>15</th>\n",
       "      <td>totalAcc</td>\n",
       "      <td>0.165658</td>\n",
       "    </tr>\n",
       "    <tr>\n",
       "      <th>16</th>\n",
       "      <td>reason_small_business</td>\n",
       "      <td>0.155173</td>\n",
       "    </tr>\n",
       "    <tr>\n",
       "      <th>17</th>\n",
       "      <td>inq6mth</td>\n",
       "      <td>0.131325</td>\n",
       "    </tr>\n",
       "    <tr>\n",
       "      <th>18</th>\n",
       "      <td>state_Quartile_2</td>\n",
       "      <td>0.128637</td>\n",
       "    </tr>\n",
       "    <tr>\n",
       "      <th>19</th>\n",
       "      <td>reason_medical</td>\n",
       "      <td>0.126216</td>\n",
       "    </tr>\n",
       "    <tr>\n",
       "      <th>20</th>\n",
       "      <td>totalBal</td>\n",
       "      <td>0.118938</td>\n",
       "    </tr>\n",
       "    <tr>\n",
       "      <th>21</th>\n",
       "      <td>income</td>\n",
       "      <td>0.114994</td>\n",
       "    </tr>\n",
       "    <tr>\n",
       "      <th>22</th>\n",
       "      <td>reason_wedding</td>\n",
       "      <td>0.103219</td>\n",
       "    </tr>\n",
       "    <tr>\n",
       "      <th>23</th>\n",
       "      <td>home_RENT</td>\n",
       "      <td>0.101641</td>\n",
       "    </tr>\n",
       "    <tr>\n",
       "      <th>24</th>\n",
       "      <td>verified_Verified</td>\n",
       "      <td>0.097823</td>\n",
       "    </tr>\n",
       "    <tr>\n",
       "      <th>25</th>\n",
       "      <td>reason_major_purchase</td>\n",
       "      <td>0.097777</td>\n",
       "    </tr>\n",
       "    <tr>\n",
       "      <th>26</th>\n",
       "      <td>reason_moving</td>\n",
       "      <td>0.096533</td>\n",
       "    </tr>\n",
       "    <tr>\n",
       "      <th>27</th>\n",
       "      <td>bcOpen</td>\n",
       "      <td>0.075611</td>\n",
       "    </tr>\n",
       "    <tr>\n",
       "      <th>28</th>\n",
       "      <td>bcRatio</td>\n",
       "      <td>0.065139</td>\n",
       "    </tr>\n",
       "    <tr>\n",
       "      <th>29</th>\n",
       "      <td>reason_vacation</td>\n",
       "      <td>0.063783</td>\n",
       "    </tr>\n",
       "    <tr>\n",
       "      <th>30</th>\n",
       "      <td>length</td>\n",
       "      <td>0.057202</td>\n",
       "    </tr>\n",
       "    <tr>\n",
       "      <th>31</th>\n",
       "      <td>revolRatio</td>\n",
       "      <td>0.056104</td>\n",
       "    </tr>\n",
       "    <tr>\n",
       "      <th>32</th>\n",
       "      <td>delinq2yr</td>\n",
       "      <td>0.055517</td>\n",
       "    </tr>\n",
       "    <tr>\n",
       "      <th>33</th>\n",
       "      <td>reason_house</td>\n",
       "      <td>0.043785</td>\n",
       "    </tr>\n",
       "    <tr>\n",
       "      <th>34</th>\n",
       "      <td>reason_renewable_energy</td>\n",
       "      <td>0.028669</td>\n",
       "    </tr>\n",
       "    <tr>\n",
       "      <th>35</th>\n",
       "      <td>pubRec</td>\n",
       "      <td>0.015275</td>\n",
       "    </tr>\n",
       "    <tr>\n",
       "      <th>36</th>\n",
       "      <td>openAcc</td>\n",
       "      <td>0.013267</td>\n",
       "    </tr>\n",
       "    <tr>\n",
       "      <th>37</th>\n",
       "      <td>home_OWN</td>\n",
       "      <td>0.000106</td>\n",
       "    </tr>\n",
       "  </tbody>\n",
       "</table>\n",
       "</div>"
      ],
      "text/plain": [
       "                      Feature  Coefficient\n",
       "0                  totalIlLim     0.653503\n",
       "1                 totalRevBal     0.544052\n",
       "2                   accOpen24     0.423631\n",
       "3                 totalRevLim     0.377999\n",
       "4   reason_debt_consolidation     0.352019\n",
       "5                  debtIncRat     0.232986\n",
       "6             term_ 60 months     0.221573\n",
       "7            state_Quartile_3     0.219992\n",
       "8          reason_credit_card     0.212426\n",
       "9                      avgBal     0.200047\n",
       "10           state_Quartile_4     0.200045\n",
       "11    reason_home_improvement     0.186445\n",
       "12                     amount     0.185786\n",
       "13                 totalBcLim     0.177237\n",
       "14               reason_other     0.171294\n",
       "15                   totalAcc     0.165658\n",
       "16      reason_small_business     0.155173\n",
       "17                    inq6mth     0.131325\n",
       "18           state_Quartile_2     0.128637\n",
       "19             reason_medical     0.126216\n",
       "20                   totalBal     0.118938\n",
       "21                     income     0.114994\n",
       "22             reason_wedding     0.103219\n",
       "23                  home_RENT     0.101641\n",
       "24          verified_Verified     0.097823\n",
       "25      reason_major_purchase     0.097777\n",
       "26              reason_moving     0.096533\n",
       "27                     bcOpen     0.075611\n",
       "28                    bcRatio     0.065139\n",
       "29            reason_vacation     0.063783\n",
       "30                     length     0.057202\n",
       "31                 revolRatio     0.056104\n",
       "32                  delinq2yr     0.055517\n",
       "33               reason_house     0.043785\n",
       "34    reason_renewable_energy     0.028669\n",
       "35                     pubRec     0.015275\n",
       "36                    openAcc     0.013267\n",
       "37                   home_OWN     0.000106"
      ]
     },
     "execution_count": 90,
     "metadata": {},
     "output_type": "execute_result"
    }
   ],
   "source": [
    "# Sort the coefficients in descending order\n",
    "sorted_idx = coefs.argsort()[::-1]\n",
    "sorted_features = [features[i] for i in sorted_idx]\n",
    "sorted_coefs = coefs[sorted_idx]\n",
    "\n",
    "# Create a DataFrame with the sorted features and coefficients\n",
    "df_feature_importance = pd.DataFrame({'Feature': sorted_features, 'Coefficient': sorted_coefs})\n",
    "\n",
    "# Print the DataFrame with the feature importance\n",
    "df_feature_importance"
   ]
  },
  {
   "cell_type": "code",
   "execution_count": 134,
   "id": "bacdd346",
   "metadata": {
    "scrolled": false
   },
   "outputs": [
    {
     "data": {
      "image/png": "[encoded data removed]",
      "text/plain": [
       "<Figure size 576x432 with 2 Axes>"
      ]
     },
     "metadata": {
      "needs_background": "light"
     },
     "output_type": "display_data"
    }
   ],
   "source": [
    "# Calculate the confusion matrix\n",
    "conf_matrix = confusion_matrix(y_test, y_pred)\n",
    "\n",
    "# Plot the confusion matrix using a heatmap\n",
    "plt.figure(figsize=(8, 6))\n",
    "sns.heatmap(cm, annot=True, fmt='d', cmap='Blues')\n",
    "plt.xlabel('Predicted Labels', size=12, color='navy')\n",
    "plt.ylabel('True Labels', size=12, color='navy')\n",
    "plt.title('Confusion Matrix', size=15, color='navy')\n",
    "plt.show()"
   ]
  }
 ],
 "metadata": {
  "kernelspec": {
   "display_name": "Python 3 (ipykernel)",
   "language": "python",
   "name": "python3"
  },
  "language_info": {
   "codemirror_mode": {
    "name": "ipython",
    "version": 3
   },
   "file_extension": ".py",
   "mimetype": "text/x-python",
   "name": "python",
   "nbconvert_exporter": "python",
   "pygments_lexer": "ipython3",
   "version": "3.9.12"
  }
 },
 "nbformat": 4,
 "nbformat_minor": 5
}
