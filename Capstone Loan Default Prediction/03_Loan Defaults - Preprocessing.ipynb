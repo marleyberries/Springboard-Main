{
 "cells": [
  {
   "cell_type": "code",
   "execution_count": 1,
   "id": "4bd592f8",
   "metadata": {},
   "outputs": [],
   "source": [
    "import matplotlib.pyplot as plt\n",
    "import numpy as np \n",
    "from numpy import linspace\n",
    "import pandas as pd \n",
    "import matplotlib.pyplot as plt \n",
    "import seaborn as sns \n",
    "from sklearn.preprocessing import OneHotEncoder\n",
    "from sklearn.preprocessing import StandardScaler\n",
    "from scipy.stats import chi2_contingency\n",
    "import statsmodels.api as sm\n",
    "from statsmodels.graphics.api import abline_plot\n",
    "from sklearn.metrics import mean_squared_error, r2_score\n",
    "from sklearn.model_selection import train_test_split\n",
    "from sklearn import linear_model, preprocessing"
   ]
  },
  {
   "cell_type": "code",
   "execution_count": 2,
   "id": "73ea8b1f",
   "metadata": {},
   "outputs": [],
   "source": [
    "df = pd.read_csv('data/03_eda_loans50k.csv')"
   ]
  },
  {
   "cell_type": "code",
   "execution_count": 3,
   "id": "55249da4",
   "metadata": {
    "scrolled": true
   },
   "outputs": [
    {
     "data": {
      "text/html": [
       "<div>\n",
       "<style scoped>\n",
       "    .dataframe tbody tr th:only-of-type {\n",
       "        vertical-align: middle;\n",
       "    }\n",
       "\n",
       "    .dataframe tbody tr th {\n",
       "        vertical-align: top;\n",
       "    }\n",
       "\n",
       "    .dataframe thead th {\n",
       "        text-align: right;\n",
       "    }\n",
       "</style>\n",
       "<table border=\"1\" class=\"dataframe\">\n",
       "  <thead>\n",
       "    <tr style=\"text-align: right;\">\n",
       "      <th></th>\n",
       "      <th>Unnamed: 0</th>\n",
       "      <th>loanID</th>\n",
       "      <th>amount</th>\n",
       "      <th>term</th>\n",
       "      <th>rate</th>\n",
       "      <th>payment</th>\n",
       "      <th>grade</th>\n",
       "      <th>employment</th>\n",
       "      <th>length</th>\n",
       "      <th>home</th>\n",
       "      <th>...</th>\n",
       "      <th>totalAcc</th>\n",
       "      <th>totalBal</th>\n",
       "      <th>totalRevLim</th>\n",
       "      <th>accOpen24</th>\n",
       "      <th>avgBal</th>\n",
       "      <th>bcOpen</th>\n",
       "      <th>bcRatio</th>\n",
       "      <th>totalRevBal</th>\n",
       "      <th>totalBcLim</th>\n",
       "      <th>totalIlLim</th>\n",
       "    </tr>\n",
       "  </thead>\n",
       "  <tbody>\n",
       "    <tr>\n",
       "      <th>0</th>\n",
       "      <td>0</td>\n",
       "      <td>188861</td>\n",
       "      <td>8000.0</td>\n",
       "      <td>36</td>\n",
       "      <td>0.14</td>\n",
       "      <td>272.07</td>\n",
       "      <td>C</td>\n",
       "      <td>Warehouseman</td>\n",
       "      <td>3 years</td>\n",
       "      <td>RENT</td>\n",
       "      <td>...</td>\n",
       "      <td>15.0</td>\n",
       "      <td>48054.0</td>\n",
       "      <td>8100.0</td>\n",
       "      <td>8.0</td>\n",
       "      <td>4369.0</td>\n",
       "      <td>43.0</td>\n",
       "      <td>95.7</td>\n",
       "      <td>48054.0</td>\n",
       "      <td>1000.0</td>\n",
       "      <td>52529.0</td>\n",
       "    </tr>\n",
       "    <tr>\n",
       "      <th>1</th>\n",
       "      <td>1</td>\n",
       "      <td>517703</td>\n",
       "      <td>11000.0</td>\n",
       "      <td>36</td>\n",
       "      <td>0.10</td>\n",
       "      <td>354.89</td>\n",
       "      <td>B</td>\n",
       "      <td>Vice President</td>\n",
       "      <td>10+ years</td>\n",
       "      <td>MORTGAGE</td>\n",
       "      <td>...</td>\n",
       "      <td>15.0</td>\n",
       "      <td>265838.0</td>\n",
       "      <td>33400.0</td>\n",
       "      <td>4.0</td>\n",
       "      <td>22153.0</td>\n",
       "      <td>19756.0</td>\n",
       "      <td>37.5</td>\n",
       "      <td>11844.0</td>\n",
       "      <td>31600.0</td>\n",
       "      <td>0.0</td>\n",
       "    </tr>\n",
       "    <tr>\n",
       "      <th>2</th>\n",
       "      <td>2</td>\n",
       "      <td>268587</td>\n",
       "      <td>35000.0</td>\n",
       "      <td>36</td>\n",
       "      <td>0.15</td>\n",
       "      <td>1220.33</td>\n",
       "      <td>D</td>\n",
       "      <td>Owner/Attorney</td>\n",
       "      <td>10+ years</td>\n",
       "      <td>RENT</td>\n",
       "      <td>...</td>\n",
       "      <td>14.0</td>\n",
       "      <td>850150.0</td>\n",
       "      <td>83000.0</td>\n",
       "      <td>2.0</td>\n",
       "      <td>121450.0</td>\n",
       "      <td>7686.0</td>\n",
       "      <td>83.2</td>\n",
       "      <td>173260.0</td>\n",
       "      <td>83000.0</td>\n",
       "      <td>100000.0</td>\n",
       "    </tr>\n",
       "    <tr>\n",
       "      <th>3</th>\n",
       "      <td>3</td>\n",
       "      <td>579902</td>\n",
       "      <td>20000.0</td>\n",
       "      <td>60</td>\n",
       "      <td>0.12</td>\n",
       "      <td>447.83</td>\n",
       "      <td>C</td>\n",
       "      <td>Analyst</td>\n",
       "      <td>2 years</td>\n",
       "      <td>MORTGAGE</td>\n",
       "      <td>...</td>\n",
       "      <td>48.0</td>\n",
       "      <td>20671.0</td>\n",
       "      <td>14200.0</td>\n",
       "      <td>8.0</td>\n",
       "      <td>1723.0</td>\n",
       "      <td>11061.0</td>\n",
       "      <td>1.2</td>\n",
       "      <td>20671.0</td>\n",
       "      <td>11200.0</td>\n",
       "      <td>32764.0</td>\n",
       "    </tr>\n",
       "    <tr>\n",
       "      <th>4</th>\n",
       "      <td>4</td>\n",
       "      <td>617630</td>\n",
       "      <td>12000.0</td>\n",
       "      <td>60</td>\n",
       "      <td>0.12</td>\n",
       "      <td>266.88</td>\n",
       "      <td>B</td>\n",
       "      <td>medical technician</td>\n",
       "      <td>10+ years</td>\n",
       "      <td>MORTGAGE</td>\n",
       "      <td>...</td>\n",
       "      <td>22.0</td>\n",
       "      <td>128034.0</td>\n",
       "      <td>14600.0</td>\n",
       "      <td>3.0</td>\n",
       "      <td>18291.0</td>\n",
       "      <td>5904.0</td>\n",
       "      <td>58.4</td>\n",
       "      <td>8475.0</td>\n",
       "      <td>14200.0</td>\n",
       "      <td>0.0</td>\n",
       "    </tr>\n",
       "  </tbody>\n",
       "</table>\n",
       "<p>5 rows × 31 columns</p>\n",
       "</div>"
      ],
      "text/plain": [
       "   Unnamed: 0  loanID   amount  term  rate  payment grade          employment  \\\n",
       "0           0  188861   8000.0    36  0.14   272.07     C       Warehouseman    \n",
       "1           1  517703  11000.0    36  0.10   354.89     B      Vice President   \n",
       "2           2  268587  35000.0    36  0.15  1220.33     D      Owner/Attorney   \n",
       "3           3  579902  20000.0    60  0.12   447.83     C             Analyst   \n",
       "4           4  617630  12000.0    60  0.12   266.88     B  medical technician   \n",
       "\n",
       "      length      home  ...  totalAcc  totalBal totalRevLim accOpen24  \\\n",
       "0    3 years      RENT  ...      15.0   48054.0      8100.0       8.0   \n",
       "1  10+ years  MORTGAGE  ...      15.0  265838.0     33400.0       4.0   \n",
       "2  10+ years      RENT  ...      14.0  850150.0     83000.0       2.0   \n",
       "3    2 years  MORTGAGE  ...      48.0   20671.0     14200.0       8.0   \n",
       "4  10+ years  MORTGAGE  ...      22.0  128034.0     14600.0       3.0   \n",
       "\n",
       "     avgBal   bcOpen  bcRatio  totalRevBal  totalBcLim  totalIlLim  \n",
       "0    4369.0     43.0     95.7      48054.0      1000.0     52529.0  \n",
       "1   22153.0  19756.0     37.5      11844.0     31600.0         0.0  \n",
       "2  121450.0   7686.0     83.2     173260.0     83000.0    100000.0  \n",
       "3    1723.0  11061.0      1.2      20671.0     11200.0     32764.0  \n",
       "4   18291.0   5904.0     58.4       8475.0     14200.0         0.0  \n",
       "\n",
       "[5 rows x 31 columns]"
      ]
     },
     "execution_count": 3,
     "metadata": {},
     "output_type": "execute_result"
    }
   ],
   "source": [
    "df.head()"
   ]
  },
  {
   "cell_type": "markdown",
   "id": "f5c02cd3",
   "metadata": {},
   "source": [
    "**Confirm that loanIDs are all unqiue. This number is not important. Using the index is adequate to identify records.**"
   ]
  },
  {
   "cell_type": "code",
   "execution_count": 4,
   "id": "289b43b6",
   "metadata": {},
   "outputs": [
    {
     "data": {
      "text/plain": [
       "(49184, 31)"
      ]
     },
     "execution_count": 4,
     "metadata": {},
     "output_type": "execute_result"
    }
   ],
   "source": [
    "df.shape"
   ]
  },
  {
   "cell_type": "code",
   "execution_count": 5,
   "id": "9c534ace",
   "metadata": {},
   "outputs": [
    {
     "data": {
      "text/plain": [
       "49184"
      ]
     },
     "execution_count": 5,
     "metadata": {},
     "output_type": "execute_result"
    }
   ],
   "source": [
    "df.loanID.nunique()"
   ]
  },
  {
   "cell_type": "markdown",
   "id": "40bcfa1c",
   "metadata": {},
   "source": [
    "**Delete duplicated index row, replace existing index with loanID column. Rate, payment & grade are all determined by the bank after approving the loan. These are not predictive features.**"
   ]
  },
  {
   "cell_type": "code",
   "execution_count": 6,
   "id": "231fe053",
   "metadata": {},
   "outputs": [],
   "source": [
    "df = df.drop(['Unnamed: 0', 'rate', 'payment', 'grade'], axis=1).set_index('loanID')"
   ]
  },
  {
   "cell_type": "markdown",
   "id": "fad160e1",
   "metadata": {},
   "source": [
    "**I wanted to see if the employmet field could be used as a predictor. There are over 18,000 unique professions. I also looked to see how many might be duplicates by looking at any employment that contains 'nurse.' There are many that could be grouped but some are pretty different (like registered nurse vs certified nurse assistant). In the end, it's too much to figure out so I dropped that feature. I still have length (employment legth) so I am able to capture some of a related feature still.**"
   ]
  },
  {
   "cell_type": "code",
   "execution_count": 7,
   "id": "9533d49f",
   "metadata": {},
   "outputs": [],
   "source": [
    "df.employment = df.employment.str.lower()"
   ]
  },
  {
   "cell_type": "code",
   "execution_count": 8,
   "id": "3292c01a",
   "metadata": {},
   "outputs": [
    {
     "data": {
      "text/plain": [
       "18272"
      ]
     },
     "execution_count": 8,
     "metadata": {},
     "output_type": "execute_result"
    }
   ],
   "source": [
    "df.employment.nunique()"
   ]
  },
  {
   "cell_type": "code",
   "execution_count": 9,
   "id": "16c157fa",
   "metadata": {},
   "outputs": [
    {
     "data": {
      "text/html": [
       "<div>\n",
       "<style scoped>\n",
       "    .dataframe tbody tr th:only-of-type {\n",
       "        vertical-align: middle;\n",
       "    }\n",
       "\n",
       "    .dataframe tbody tr th {\n",
       "        vertical-align: top;\n",
       "    }\n",
       "\n",
       "    .dataframe thead th {\n",
       "        text-align: right;\n",
       "    }\n",
       "</style>\n",
       "<table border=\"1\" class=\"dataframe\">\n",
       "  <thead>\n",
       "    <tr style=\"text-align: right;\">\n",
       "      <th></th>\n",
       "      <th>amount</th>\n",
       "      <th>term</th>\n",
       "      <th>employment</th>\n",
       "      <th>length</th>\n",
       "      <th>home</th>\n",
       "      <th>income</th>\n",
       "      <th>verified</th>\n",
       "      <th>status</th>\n",
       "      <th>reason</th>\n",
       "      <th>state</th>\n",
       "      <th>...</th>\n",
       "      <th>totalAcc</th>\n",
       "      <th>totalBal</th>\n",
       "      <th>totalRevLim</th>\n",
       "      <th>accOpen24</th>\n",
       "      <th>avgBal</th>\n",
       "      <th>bcOpen</th>\n",
       "      <th>bcRatio</th>\n",
       "      <th>totalRevBal</th>\n",
       "      <th>totalBcLim</th>\n",
       "      <th>totalIlLim</th>\n",
       "    </tr>\n",
       "    <tr>\n",
       "      <th>loanID</th>\n",
       "      <th></th>\n",
       "      <th></th>\n",
       "      <th></th>\n",
       "      <th></th>\n",
       "      <th></th>\n",
       "      <th></th>\n",
       "      <th></th>\n",
       "      <th></th>\n",
       "      <th></th>\n",
       "      <th></th>\n",
       "      <th></th>\n",
       "      <th></th>\n",
       "      <th></th>\n",
       "      <th></th>\n",
       "      <th></th>\n",
       "      <th></th>\n",
       "      <th></th>\n",
       "      <th></th>\n",
       "      <th></th>\n",
       "      <th></th>\n",
       "      <th></th>\n",
       "    </tr>\n",
       "  </thead>\n",
       "  <tbody>\n",
       "    <tr>\n",
       "      <th>281259</th>\n",
       "      <td>10000.0</td>\n",
       "      <td>36</td>\n",
       "      <td>registered nurse</td>\n",
       "      <td>2 years</td>\n",
       "      <td>RENT</td>\n",
       "      <td>75000.0</td>\n",
       "      <td>Not Verified</td>\n",
       "      <td>Current</td>\n",
       "      <td>debt_consolidation</td>\n",
       "      <td>CA</td>\n",
       "      <td>...</td>\n",
       "      <td>31.0</td>\n",
       "      <td>93495.0</td>\n",
       "      <td>39900.0</td>\n",
       "      <td>2.0</td>\n",
       "      <td>4921.0</td>\n",
       "      <td>31333.00</td>\n",
       "      <td>10.7</td>\n",
       "      <td>93495.0</td>\n",
       "      <td>35100.0</td>\n",
       "      <td>101320.0</td>\n",
       "    </tr>\n",
       "    <tr>\n",
       "      <th>54149</th>\n",
       "      <td>18825.0</td>\n",
       "      <td>60</td>\n",
       "      <td>nurse</td>\n",
       "      <td>1 year</td>\n",
       "      <td>MORTGAGE</td>\n",
       "      <td>53000.0</td>\n",
       "      <td>Verified</td>\n",
       "      <td>Current</td>\n",
       "      <td>debt_consolidation</td>\n",
       "      <td>IL</td>\n",
       "      <td>...</td>\n",
       "      <td>12.0</td>\n",
       "      <td>197390.0</td>\n",
       "      <td>13600.0</td>\n",
       "      <td>5.0</td>\n",
       "      <td>28199.0</td>\n",
       "      <td>1868.00</td>\n",
       "      <td>75.4</td>\n",
       "      <td>44885.0</td>\n",
       "      <td>7600.0</td>\n",
       "      <td>44953.0</td>\n",
       "    </tr>\n",
       "    <tr>\n",
       "      <th>281495</th>\n",
       "      <td>17000.0</td>\n",
       "      <td>36</td>\n",
       "      <td>registered nurse</td>\n",
       "      <td>7 years</td>\n",
       "      <td>MORTGAGE</td>\n",
       "      <td>140000.0</td>\n",
       "      <td>Not Verified</td>\n",
       "      <td>Current</td>\n",
       "      <td>credit_card</td>\n",
       "      <td>CA</td>\n",
       "      <td>...</td>\n",
       "      <td>32.0</td>\n",
       "      <td>506667.0</td>\n",
       "      <td>47800.0</td>\n",
       "      <td>6.0</td>\n",
       "      <td>31667.0</td>\n",
       "      <td>12753.00</td>\n",
       "      <td>62.4</td>\n",
       "      <td>36045.0</td>\n",
       "      <td>33900.0</td>\n",
       "      <td>30108.0</td>\n",
       "    </tr>\n",
       "    <tr>\n",
       "      <th>351772</th>\n",
       "      <td>6000.0</td>\n",
       "      <td>36</td>\n",
       "      <td>certified nurse assistant</td>\n",
       "      <td>2 years</td>\n",
       "      <td>RENT</td>\n",
       "      <td>20000.0</td>\n",
       "      <td>Verified</td>\n",
       "      <td>Default</td>\n",
       "      <td>home_improvement</td>\n",
       "      <td>CA</td>\n",
       "      <td>...</td>\n",
       "      <td>19.0</td>\n",
       "      <td>38782.0</td>\n",
       "      <td>14000.0</td>\n",
       "      <td>8.0</td>\n",
       "      <td>2155.0</td>\n",
       "      <td>9855.00</td>\n",
       "      <td>4.3</td>\n",
       "      <td>38782.0</td>\n",
       "      <td>10300.0</td>\n",
       "      <td>35250.0</td>\n",
       "    </tr>\n",
       "    <tr>\n",
       "      <th>616263</th>\n",
       "      <td>8675.0</td>\n",
       "      <td>36</td>\n",
       "      <td>travel nurse</td>\n",
       "      <td>&lt; 1 year</td>\n",
       "      <td>RENT</td>\n",
       "      <td>56400.0</td>\n",
       "      <td>Not Verified</td>\n",
       "      <td>Current</td>\n",
       "      <td>house</td>\n",
       "      <td>SC</td>\n",
       "      <td>...</td>\n",
       "      <td>15.0</td>\n",
       "      <td>29088.0</td>\n",
       "      <td>5800.0</td>\n",
       "      <td>2.0</td>\n",
       "      <td>2909.0</td>\n",
       "      <td>9154.93</td>\n",
       "      <td>63.2</td>\n",
       "      <td>29088.0</td>\n",
       "      <td>0.0</td>\n",
       "      <td>29997.0</td>\n",
       "    </tr>\n",
       "    <tr>\n",
       "      <th>214963</th>\n",
       "      <td>25000.0</td>\n",
       "      <td>36</td>\n",
       "      <td>reg nurse</td>\n",
       "      <td>2 years</td>\n",
       "      <td>MORTGAGE</td>\n",
       "      <td>150000.0</td>\n",
       "      <td>Verified</td>\n",
       "      <td>Current</td>\n",
       "      <td>debt_consolidation</td>\n",
       "      <td>MD</td>\n",
       "      <td>...</td>\n",
       "      <td>21.0</td>\n",
       "      <td>463748.0</td>\n",
       "      <td>31800.0</td>\n",
       "      <td>0.0</td>\n",
       "      <td>51528.0</td>\n",
       "      <td>3699.00</td>\n",
       "      <td>87.6</td>\n",
       "      <td>39625.0</td>\n",
       "      <td>29800.0</td>\n",
       "      <td>18006.0</td>\n",
       "    </tr>\n",
       "    <tr>\n",
       "      <th>345517</th>\n",
       "      <td>28000.0</td>\n",
       "      <td>36</td>\n",
       "      <td>nurse- aprn</td>\n",
       "      <td>10+ years</td>\n",
       "      <td>MORTGAGE</td>\n",
       "      <td>110000.0</td>\n",
       "      <td>Not Verified</td>\n",
       "      <td>Current</td>\n",
       "      <td>debt_consolidation</td>\n",
       "      <td>SC</td>\n",
       "      <td>...</td>\n",
       "      <td>32.0</td>\n",
       "      <td>134087.0</td>\n",
       "      <td>109200.0</td>\n",
       "      <td>1.0</td>\n",
       "      <td>7449.0</td>\n",
       "      <td>38235.00</td>\n",
       "      <td>48.1</td>\n",
       "      <td>48256.0</td>\n",
       "      <td>73700.0</td>\n",
       "      <td>14986.0</td>\n",
       "    </tr>\n",
       "    <tr>\n",
       "      <th>455922</th>\n",
       "      <td>23550.0</td>\n",
       "      <td>36</td>\n",
       "      <td>registered nurse</td>\n",
       "      <td>&lt; 1 year</td>\n",
       "      <td>OWN</td>\n",
       "      <td>56100.0</td>\n",
       "      <td>Verified</td>\n",
       "      <td>Current</td>\n",
       "      <td>debt_consolidation</td>\n",
       "      <td>VA</td>\n",
       "      <td>...</td>\n",
       "      <td>29.0</td>\n",
       "      <td>43342.0</td>\n",
       "      <td>10600.0</td>\n",
       "      <td>3.0</td>\n",
       "      <td>8668.0</td>\n",
       "      <td>342.00</td>\n",
       "      <td>82.9</td>\n",
       "      <td>43342.0</td>\n",
       "      <td>2000.0</td>\n",
       "      <td>44928.0</td>\n",
       "    </tr>\n",
       "    <tr>\n",
       "      <th>397210</th>\n",
       "      <td>9000.0</td>\n",
       "      <td>36</td>\n",
       "      <td>public health nurse</td>\n",
       "      <td>1 year</td>\n",
       "      <td>RENT</td>\n",
       "      <td>62000.0</td>\n",
       "      <td>Verified</td>\n",
       "      <td>Current</td>\n",
       "      <td>medical</td>\n",
       "      <td>CO</td>\n",
       "      <td>...</td>\n",
       "      <td>21.0</td>\n",
       "      <td>49724.0</td>\n",
       "      <td>12300.0</td>\n",
       "      <td>2.0</td>\n",
       "      <td>4972.0</td>\n",
       "      <td>2792.00</td>\n",
       "      <td>71.5</td>\n",
       "      <td>49724.0</td>\n",
       "      <td>9800.0</td>\n",
       "      <td>61942.0</td>\n",
       "    </tr>\n",
       "    <tr>\n",
       "      <th>506295</th>\n",
       "      <td>8300.0</td>\n",
       "      <td>36</td>\n",
       "      <td>registered nurse</td>\n",
       "      <td>2 years</td>\n",
       "      <td>RENT</td>\n",
       "      <td>73000.0</td>\n",
       "      <td>Not Verified</td>\n",
       "      <td>Current</td>\n",
       "      <td>credit_card</td>\n",
       "      <td>NY</td>\n",
       "      <td>...</td>\n",
       "      <td>30.0</td>\n",
       "      <td>60838.0</td>\n",
       "      <td>12900.0</td>\n",
       "      <td>1.0</td>\n",
       "      <td>3579.0</td>\n",
       "      <td>7252.00</td>\n",
       "      <td>42.4</td>\n",
       "      <td>60838.0</td>\n",
       "      <td>12600.0</td>\n",
       "      <td>61323.0</td>\n",
       "    </tr>\n",
       "  </tbody>\n",
       "</table>\n",
       "<p>10 rows × 26 columns</p>\n",
       "</div>"
      ],
      "text/plain": [
       "         amount  term                 employment     length      home  \\\n",
       "loanID                                                                  \n",
       "281259  10000.0    36           registered nurse    2 years      RENT   \n",
       "54149   18825.0    60                      nurse     1 year  MORTGAGE   \n",
       "281495  17000.0    36          registered nurse     7 years  MORTGAGE   \n",
       "351772   6000.0    36  certified nurse assistant    2 years      RENT   \n",
       "616263   8675.0    36               travel nurse   < 1 year      RENT   \n",
       "214963  25000.0    36                  reg nurse    2 years  MORTGAGE   \n",
       "345517  28000.0    36                nurse- aprn  10+ years  MORTGAGE   \n",
       "455922  23550.0    36           registered nurse   < 1 year       OWN   \n",
       "397210   9000.0    36        public health nurse     1 year      RENT   \n",
       "506295   8300.0    36           registered nurse    2 years      RENT   \n",
       "\n",
       "          income      verified   status              reason state  ...  \\\n",
       "loanID                                                             ...   \n",
       "281259   75000.0  Not Verified  Current  debt_consolidation    CA  ...   \n",
       "54149    53000.0      Verified  Current  debt_consolidation    IL  ...   \n",
       "281495  140000.0  Not Verified  Current         credit_card    CA  ...   \n",
       "351772   20000.0      Verified  Default    home_improvement    CA  ...   \n",
       "616263   56400.0  Not Verified  Current               house    SC  ...   \n",
       "214963  150000.0      Verified  Current  debt_consolidation    MD  ...   \n",
       "345517  110000.0  Not Verified  Current  debt_consolidation    SC  ...   \n",
       "455922   56100.0      Verified  Current  debt_consolidation    VA  ...   \n",
       "397210   62000.0      Verified  Current             medical    CO  ...   \n",
       "506295   73000.0  Not Verified  Current         credit_card    NY  ...   \n",
       "\n",
       "        totalAcc  totalBal  totalRevLim  accOpen24   avgBal    bcOpen  \\\n",
       "loanID                                                                  \n",
       "281259      31.0   93495.0      39900.0        2.0   4921.0  31333.00   \n",
       "54149       12.0  197390.0      13600.0        5.0  28199.0   1868.00   \n",
       "281495      32.0  506667.0      47800.0        6.0  31667.0  12753.00   \n",
       "351772      19.0   38782.0      14000.0        8.0   2155.0   9855.00   \n",
       "616263      15.0   29088.0       5800.0        2.0   2909.0   9154.93   \n",
       "214963      21.0  463748.0      31800.0        0.0  51528.0   3699.00   \n",
       "345517      32.0  134087.0     109200.0        1.0   7449.0  38235.00   \n",
       "455922      29.0   43342.0      10600.0        3.0   8668.0    342.00   \n",
       "397210      21.0   49724.0      12300.0        2.0   4972.0   2792.00   \n",
       "506295      30.0   60838.0      12900.0        1.0   3579.0   7252.00   \n",
       "\n",
       "        bcRatio  totalRevBal  totalBcLim  totalIlLim  \n",
       "loanID                                                \n",
       "281259     10.7      93495.0     35100.0    101320.0  \n",
       "54149      75.4      44885.0      7600.0     44953.0  \n",
       "281495     62.4      36045.0     33900.0     30108.0  \n",
       "351772      4.3      38782.0     10300.0     35250.0  \n",
       "616263     63.2      29088.0         0.0     29997.0  \n",
       "214963     87.6      39625.0     29800.0     18006.0  \n",
       "345517     48.1      48256.0     73700.0     14986.0  \n",
       "455922     82.9      43342.0      2000.0     44928.0  \n",
       "397210     71.5      49724.0      9800.0     61942.0  \n",
       "506295     42.4      60838.0     12600.0     61323.0  \n",
       "\n",
       "[10 rows x 26 columns]"
      ]
     },
     "execution_count": 9,
     "metadata": {},
     "output_type": "execute_result"
    }
   ],
   "source": [
    "search_word = 'nurse'\n",
    "pattern = f'.*{search_word}.*'  # regular expression pattern to match any string that contains the search_word\n",
    "result = df[df['employment'].str.contains(pattern)]\n",
    "result.head(10)"
   ]
  },
  {
   "cell_type": "code",
   "execution_count": 10,
   "id": "3a8b660b",
   "metadata": {},
   "outputs": [],
   "source": [
    "df = df.drop('employment', axis=1)"
   ]
  },
  {
   "cell_type": "markdown",
   "id": "7c12f111",
   "metadata": {},
   "source": [
    "**Feature Encoding using One Hot Encoding on all categorical data. This took the number of features from 26 to 95.**"
   ]
  },
  {
   "cell_type": "code",
   "execution_count": 11,
   "id": "bda54605",
   "metadata": {},
   "outputs": [
    {
     "name": "stdout",
     "output_type": "stream",
     "text": [
      "<class 'pandas.core.frame.DataFrame'>\n",
      "Int64Index: 49184 entries, 188861 to 500393\n",
      "Data columns (total 25 columns):\n",
      " #   Column       Non-Null Count  Dtype  \n",
      "---  ------       --------------  -----  \n",
      " 0   amount       49184 non-null  float64\n",
      " 1   term         49184 non-null  int64  \n",
      " 2   length       49184 non-null  object \n",
      " 3   home         49184 non-null  object \n",
      " 4   income       49184 non-null  float64\n",
      " 5   verified     49184 non-null  object \n",
      " 6   status       49184 non-null  object \n",
      " 7   reason       49184 non-null  object \n",
      " 8   state        49184 non-null  object \n",
      " 9   debtIncRat   49184 non-null  float64\n",
      " 10  delinq2yr    49184 non-null  float64\n",
      " 11  inq6mth      49184 non-null  float64\n",
      " 12  openAcc      49184 non-null  float64\n",
      " 13  pubRec       49184 non-null  float64\n",
      " 14  revolRatio   49184 non-null  float64\n",
      " 15  totalAcc     49184 non-null  float64\n",
      " 16  totalBal     49184 non-null  float64\n",
      " 17  totalRevLim  49184 non-null  float64\n",
      " 18  accOpen24    49184 non-null  float64\n",
      " 19  avgBal       49184 non-null  float64\n",
      " 20  bcOpen       49184 non-null  float64\n",
      " 21  bcRatio      49184 non-null  float64\n",
      " 22  totalRevBal  49184 non-null  float64\n",
      " 23  totalBcLim   49184 non-null  float64\n",
      " 24  totalIlLim   49184 non-null  float64\n",
      "dtypes: float64(18), int64(1), object(6)\n",
      "memory usage: 9.8+ MB\n"
     ]
    }
   ],
   "source": [
    "df.info()"
   ]
  },
  {
   "cell_type": "code",
   "execution_count": 12,
   "id": "39e191ed",
   "metadata": {},
   "outputs": [
    {
     "data": {
      "text/plain": [
       "Index(['amount', 'income', 'debtIncRat', 'delinq2yr', 'inq6mth', 'openAcc',\n",
       "       'pubRec', 'revolRatio', 'totalAcc', 'totalBal', 'totalRevLim',\n",
       "       'accOpen24', 'avgBal', 'bcOpen', 'bcRatio', 'totalRevBal', 'totalBcLim',\n",
       "       'totalIlLim', 'term_60', 'length_1 year', 'length_10+ years',\n",
       "       'length_2 years', 'length_3 years', 'length_4 years', 'length_5 years',\n",
       "       'length_6 years', 'length_7 years', 'length_8 years', 'length_9 years',\n",
       "       'length_< 1 year', 'home_OWN', 'home_RENT', 'verified_Verified',\n",
       "       'status_Default', 'reason_credit_card', 'reason_debt_consolidation',\n",
       "       'reason_home_improvement', 'reason_house', 'reason_major_purchase',\n",
       "       'reason_medical', 'reason_moving', 'reason_other',\n",
       "       'reason_renewable_energy', 'reason_small_business', 'reason_vacation',\n",
       "       'reason_wedding', 'state_AL', 'state_AR', 'state_AZ', 'state_CA',\n",
       "       'state_CO', 'state_CT', 'state_DC', 'state_DE', 'state_FL', 'state_GA',\n",
       "       'state_HI', 'state_IL', 'state_IN', 'state_KS', 'state_KY', 'state_LA',\n",
       "       'state_MA', 'state_MD', 'state_ME', 'state_MI', 'state_MN', 'state_MO',\n",
       "       'state_MS', 'state_MT', 'state_NC', 'state_ND', 'state_NE', 'state_NH',\n",
       "       'state_NJ', 'state_NM', 'state_NV', 'state_NY', 'state_OH', 'state_OK',\n",
       "       'state_OR', 'state_PA', 'state_RI', 'state_SC', 'state_SD', 'state_TN',\n",
       "       'state_TX', 'state_UT', 'state_VA', 'state_VT', 'state_WA', 'state_WI',\n",
       "       'state_WV', 'state_WY'],\n",
       "      dtype='object')"
      ]
     },
     "execution_count": 12,
     "metadata": {},
     "output_type": "execute_result"
    }
   ],
   "source": [
    "# Select the categorical variables to be encoded\n",
    "cat_vars = ['term', 'length', 'home', 'verified', 'status', 'reason', 'state']\n",
    "\n",
    "df_encoded = pd.get_dummies(df, columns=cat_vars, drop_first=True)\n",
    "df_encoded.columns"
   ]
  },
  {
   "cell_type": "code",
   "execution_count": 13,
   "id": "3998ad3f",
   "metadata": {},
   "outputs": [
    {
     "data": {
      "text/plain": [
       "94"
      ]
     },
     "execution_count": 13,
     "metadata": {},
     "output_type": "execute_result"
    }
   ],
   "source": [
    "len(df_encoded.columns)"
   ]
  },
  {
   "cell_type": "code",
   "execution_count": 14,
   "id": "37381b2e",
   "metadata": {},
   "outputs": [
    {
     "data": {
      "text/plain": [
       "uint8      76\n",
       "float64    18\n",
       "dtype: int64"
      ]
     },
     "execution_count": 14,
     "metadata": {},
     "output_type": "execute_result"
    }
   ],
   "source": [
    "df_encoded.dtypes.value_counts()"
   ]
  },
  {
   "cell_type": "code",
   "execution_count": 15,
   "id": "f20f954f",
   "metadata": {},
   "outputs": [],
   "source": [
    "# Change uint8 data tpes to int\n",
    "uint8_cols = df_encoded.select_dtypes(include='uint8').columns\n",
    "df_encoded[uint8_cols] = df_encoded[uint8_cols].astype('int')"
   ]
  },
  {
   "cell_type": "code",
   "execution_count": 16,
   "id": "898539a5",
   "metadata": {},
   "outputs": [
    {
     "data": {
      "text/plain": [
       "int64      76\n",
       "float64    18\n",
       "dtype: int64"
      ]
     },
     "execution_count": 16,
     "metadata": {},
     "output_type": "execute_result"
    }
   ],
   "source": [
    "df_encoded.dtypes.value_counts()"
   ]
  },
  {
   "cell_type": "markdown",
   "id": "59a1549e",
   "metadata": {},
   "source": [
    "**Separate the features and target variable.**"
   ]
  },
  {
   "cell_type": "code",
   "execution_count": 17,
   "id": "ef499338",
   "metadata": {},
   "outputs": [],
   "source": [
    "X = df_encoded.drop('status_Default', axis=1)\n",
    "y = df_encoded['status_Default']"
   ]
  },
  {
   "cell_type": "markdown",
   "id": "b0667951",
   "metadata": {},
   "source": [
    "**Use chi-squared test to limit features.**"
   ]
  },
  {
   "cell_type": "code",
   "execution_count": 18,
   "id": "75e48786",
   "metadata": {},
   "outputs": [],
   "source": [
    "# Calculate the chi-squared test statistic and p-value for each feature\n",
    "chi2, p_values = [], []\n",
    "for feature in X.columns:\n",
    "    contingency_table = pd.crosstab(X[feature], y)\n",
    "    chi2_stat, p_value, _, _ = chi2_contingency(contingency_table)\n",
    "    chi2.append(chi2_stat)\n",
    "    p_values.append(p_value)\n",
    "\n",
    "# Select the top k features with the highest chi-squared test statistic\n",
    "k = 15\n",
    "top_features = X.columns[np.argsort(chi2)[-k:]]"
   ]
  },
  {
   "cell_type": "code",
   "execution_count": 19,
   "id": "9c2e2dbb",
   "metadata": {},
   "outputs": [
    {
     "data": {
      "text/plain": [
       "Index(['verified_Verified', 'inq6mth', 'term_60', 'accOpen24', 'bcRatio',\n",
       "       'totalBcLim', 'amount', 'totalRevLim', 'debtIncRat', 'income', 'bcOpen',\n",
       "       'avgBal', 'totalIlLim', 'totalRevBal', 'totalBal'],\n",
       "      dtype='object')"
      ]
     },
     "execution_count": 19,
     "metadata": {},
     "output_type": "execute_result"
    }
   ],
   "source": [
    "top_features"
   ]
  },
  {
   "cell_type": "code",
   "execution_count": 20,
   "id": "fe22fd14",
   "metadata": {},
   "outputs": [],
   "source": [
    "X = X[top_features]"
   ]
  },
  {
   "cell_type": "markdown",
   "id": "279f3cfa",
   "metadata": {},
   "source": [
    "**Train / Test Split & Scale using StandardScaler.**"
   ]
  },
  {
   "cell_type": "code",
   "execution_count": 21,
   "id": "9ec931da",
   "metadata": {},
   "outputs": [],
   "source": [
    "# split the data into training and test sets\n",
    "X_train, X_test, y_train, y_test = train_test_split(X, y, test_size=0.2, random_state=42)\n",
    "\n",
    "# initialize a StandardScaler object and fit it on the training data\n",
    "scaler = StandardScaler()\n",
    "scaler.fit(X_train)\n",
    "\n",
    "# apply the scaling transformation to both the training and test data\n",
    "X_train_scaled = scaler.transform(X_train)\n",
    "X_test_scaled = scaler.transform(X_test)"
   ]
  },
  {
   "cell_type": "markdown",
   "id": "0c3165f3",
   "metadata": {},
   "source": [
    "**I wanted to check to see if there were a similar amount of defaults in the training and test set. The ratio is close enough.**"
   ]
  },
  {
   "cell_type": "code",
   "execution_count": 22,
   "id": "41b3883e",
   "metadata": {},
   "outputs": [
    {
     "name": "stdout",
     "output_type": "stream",
     "text": [
      "The ratio of defaults in the training set is 15.53% and the ratio in the test set is 14.95%\n"
     ]
    }
   ],
   "source": [
    "ratio_defaults_train = y_train.sum() / len(y_train)\n",
    "ratio_defaults_test = y_test.sum() / len(y_test)\n",
    "print(f\"The ratio of defaults in the training set is {ratio_defaults_train:.2%} and the ratio in the test set is \\\n",
    "{ratio_defaults_test:.2%}\")"
   ]
  },
  {
   "cell_type": "markdown",
   "id": "61a8a88c",
   "metadata": {},
   "source": [
    "**Data is ready for modeling.**"
   ]
  },
  {
   "cell_type": "code",
   "execution_count": 23,
   "id": "fec8a6e7",
   "metadata": {},
   "outputs": [],
   "source": [
    "df_encoded.to_csv('data/04_preprocess_loans50k.csv') "
   ]
  }
 ],
 "metadata": {
  "kernelspec": {
   "display_name": "Python 3 (ipykernel)",
   "language": "python",
   "name": "python3"
  },
  "language_info": {
   "codemirror_mode": {
    "name": "ipython",
    "version": 3
   },
   "file_extension": ".py",
   "mimetype": "text/x-python",
   "name": "python",
   "nbconvert_exporter": "python",
   "pygments_lexer": "ipython3",
   "version": "3.9.12"
  }
 },
 "nbformat": 4,
 "nbformat_minor": 5
}
