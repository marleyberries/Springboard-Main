{
 "cells": [
  {
   "cell_type": "code",
   "execution_count": 1,
   "id": "87172eda",
   "metadata": {},
   "outputs": [],
   "source": [
    "import matplotlib.pyplot as plt\n",
    "import numpy as np \n",
    "from numpy import linspace\n",
    "import pandas as pd \n",
    "import matplotlib.pyplot as plt \n",
    "import seaborn as sns \n",
    "import statsmodels.api as sm\n",
    "from statsmodels.graphics.api import abline_plot\n",
    "from sklearn.metrics import mean_squared_error, r2_score\n",
    "from sklearn.model_selection import train_test_split\n",
    "from sklearn import linear_model, preprocessing\n",
    "from scipy.stats import gaussian_kde\n",
    "import warnings\n",
    "warnings.simplefilter(action=\"ignore\", category=FutureWarning)\n",
    "warnings.filterwarnings(action=\"ignore\", module=\"scipy\", message=\"^internal gelsd\")\n",
    "from scipy.stats import chi2_contingency"
   ]
  },
  {
   "cell_type": "code",
   "execution_count": 2,
   "id": "97ab8e1e",
   "metadata": {},
   "outputs": [],
   "source": [
    "df = pd.read_csv('data/02_clean_loans50k.csv', index_col=0)"
   ]
  },
  {
   "cell_type": "code",
   "execution_count": 3,
   "id": "d1cee978",
   "metadata": {
    "scrolled": true
   },
   "outputs": [
    {
     "data": {
      "text/html": [
       "<div>\n",
       "<style scoped>\n",
       "    .dataframe tbody tr th:only-of-type {\n",
       "        vertical-align: middle;\n",
       "    }\n",
       "\n",
       "    .dataframe tbody tr th {\n",
       "        vertical-align: top;\n",
       "    }\n",
       "\n",
       "    .dataframe thead th {\n",
       "        text-align: right;\n",
       "    }\n",
       "</style>\n",
       "<table border=\"1\" class=\"dataframe\">\n",
       "  <thead>\n",
       "    <tr style=\"text-align: right;\">\n",
       "      <th></th>\n",
       "      <th>0</th>\n",
       "      <th>1</th>\n",
       "      <th>2</th>\n",
       "      <th>3</th>\n",
       "      <th>4</th>\n",
       "    </tr>\n",
       "  </thead>\n",
       "  <tbody>\n",
       "    <tr>\n",
       "      <th>loanID</th>\n",
       "      <td>188861</td>\n",
       "      <td>517703</td>\n",
       "      <td>268587</td>\n",
       "      <td>579902</td>\n",
       "      <td>617630</td>\n",
       "    </tr>\n",
       "    <tr>\n",
       "      <th>amount</th>\n",
       "      <td>8000.0</td>\n",
       "      <td>11000.0</td>\n",
       "      <td>35000.0</td>\n",
       "      <td>20000.0</td>\n",
       "      <td>12000.0</td>\n",
       "    </tr>\n",
       "    <tr>\n",
       "      <th>term</th>\n",
       "      <td>36 months</td>\n",
       "      <td>36 months</td>\n",
       "      <td>36 months</td>\n",
       "      <td>60 months</td>\n",
       "      <td>60 months</td>\n",
       "    </tr>\n",
       "    <tr>\n",
       "      <th>rate</th>\n",
       "      <td>0.14</td>\n",
       "      <td>0.1</td>\n",
       "      <td>0.15</td>\n",
       "      <td>0.12</td>\n",
       "      <td>0.12</td>\n",
       "    </tr>\n",
       "    <tr>\n",
       "      <th>payment</th>\n",
       "      <td>272.07</td>\n",
       "      <td>354.89</td>\n",
       "      <td>1220.33</td>\n",
       "      <td>447.83</td>\n",
       "      <td>266.88</td>\n",
       "    </tr>\n",
       "    <tr>\n",
       "      <th>grade</th>\n",
       "      <td>C</td>\n",
       "      <td>B</td>\n",
       "      <td>D</td>\n",
       "      <td>C</td>\n",
       "      <td>B</td>\n",
       "    </tr>\n",
       "    <tr>\n",
       "      <th>employment</th>\n",
       "      <td>Warehouseman</td>\n",
       "      <td>Vice President</td>\n",
       "      <td>Owner/Attorney</td>\n",
       "      <td>Analyst</td>\n",
       "      <td>medical technician</td>\n",
       "    </tr>\n",
       "    <tr>\n",
       "      <th>length</th>\n",
       "      <td>3 years</td>\n",
       "      <td>10+ years</td>\n",
       "      <td>10+ years</td>\n",
       "      <td>2 years</td>\n",
       "      <td>10+ years</td>\n",
       "    </tr>\n",
       "    <tr>\n",
       "      <th>home</th>\n",
       "      <td>RENT</td>\n",
       "      <td>MORTGAGE</td>\n",
       "      <td>RENT</td>\n",
       "      <td>MORTGAGE</td>\n",
       "      <td>MORTGAGE</td>\n",
       "    </tr>\n",
       "    <tr>\n",
       "      <th>income</th>\n",
       "      <td>49966.0</td>\n",
       "      <td>50000.0</td>\n",
       "      <td>360000.0</td>\n",
       "      <td>60000.0</td>\n",
       "      <td>64000.0</td>\n",
       "    </tr>\n",
       "    <tr>\n",
       "      <th>verified</th>\n",
       "      <td>Source Verified</td>\n",
       "      <td>Not Verified</td>\n",
       "      <td>Verified</td>\n",
       "      <td>Source Verified</td>\n",
       "      <td>Source Verified</td>\n",
       "    </tr>\n",
       "    <tr>\n",
       "      <th>status</th>\n",
       "      <td>Default</td>\n",
       "      <td>Current</td>\n",
       "      <td>Current</td>\n",
       "      <td>Current</td>\n",
       "      <td>Current</td>\n",
       "    </tr>\n",
       "    <tr>\n",
       "      <th>reason</th>\n",
       "      <td>credit_card</td>\n",
       "      <td>debt_consolidation</td>\n",
       "      <td>debt_consolidation</td>\n",
       "      <td>debt_consolidation</td>\n",
       "      <td>debt_consolidation</td>\n",
       "    </tr>\n",
       "    <tr>\n",
       "      <th>state</th>\n",
       "      <td>CA</td>\n",
       "      <td>PA</td>\n",
       "      <td>CA</td>\n",
       "      <td>CA</td>\n",
       "      <td>NJ</td>\n",
       "    </tr>\n",
       "    <tr>\n",
       "      <th>debtIncRat</th>\n",
       "      <td>30.05</td>\n",
       "      <td>8.74</td>\n",
       "      <td>14.5</td>\n",
       "      <td>14.14</td>\n",
       "      <td>5.14</td>\n",
       "    </tr>\n",
       "    <tr>\n",
       "      <th>delinq2yr</th>\n",
       "      <td>0.0</td>\n",
       "      <td>0.0</td>\n",
       "      <td>0.0</td>\n",
       "      <td>0.0</td>\n",
       "      <td>0.0</td>\n",
       "    </tr>\n",
       "    <tr>\n",
       "      <th>inq6mth</th>\n",
       "      <td>0.0</td>\n",
       "      <td>2.0</td>\n",
       "      <td>1.0</td>\n",
       "      <td>0.0</td>\n",
       "      <td>0.0</td>\n",
       "    </tr>\n",
       "    <tr>\n",
       "      <th>openAcc</th>\n",
       "      <td>11.0</td>\n",
       "      <td>12.0</td>\n",
       "      <td>8.0</td>\n",
       "      <td>12.0</td>\n",
       "      <td>8.0</td>\n",
       "    </tr>\n",
       "    <tr>\n",
       "      <th>pubRec</th>\n",
       "      <td>0.0</td>\n",
       "      <td>0.0</td>\n",
       "      <td>0.0</td>\n",
       "      <td>3.0</td>\n",
       "      <td>0.0</td>\n",
       "    </tr>\n",
       "    <tr>\n",
       "      <th>revolRatio</th>\n",
       "      <td>0.55</td>\n",
       "      <td>0.36</td>\n",
       "      <td>0.83</td>\n",
       "      <td>0.01</td>\n",
       "      <td>0.58</td>\n",
       "    </tr>\n",
       "    <tr>\n",
       "      <th>totalAcc</th>\n",
       "      <td>15.0</td>\n",
       "      <td>15.0</td>\n",
       "      <td>14.0</td>\n",
       "      <td>48.0</td>\n",
       "      <td>22.0</td>\n",
       "    </tr>\n",
       "    <tr>\n",
       "      <th>totalPaid</th>\n",
       "      <td>5914.67</td>\n",
       "      <td>12024.75</td>\n",
       "      <td>31668.65</td>\n",
       "      <td>23827.23</td>\n",
       "      <td>9599.69</td>\n",
       "    </tr>\n",
       "    <tr>\n",
       "      <th>totalBal</th>\n",
       "      <td>48054.0</td>\n",
       "      <td>265838.0</td>\n",
       "      <td>850150.0</td>\n",
       "      <td>20671.0</td>\n",
       "      <td>128034.0</td>\n",
       "    </tr>\n",
       "    <tr>\n",
       "      <th>totalRevLim</th>\n",
       "      <td>8100.0</td>\n",
       "      <td>33400.0</td>\n",
       "      <td>83000.0</td>\n",
       "      <td>14200.0</td>\n",
       "      <td>14600.0</td>\n",
       "    </tr>\n",
       "    <tr>\n",
       "      <th>accOpen24</th>\n",
       "      <td>8.0</td>\n",
       "      <td>4.0</td>\n",
       "      <td>2.0</td>\n",
       "      <td>8.0</td>\n",
       "      <td>3.0</td>\n",
       "    </tr>\n",
       "    <tr>\n",
       "      <th>avgBal</th>\n",
       "      <td>4369.0</td>\n",
       "      <td>22153.0</td>\n",
       "      <td>121450.0</td>\n",
       "      <td>1723.0</td>\n",
       "      <td>18291.0</td>\n",
       "    </tr>\n",
       "    <tr>\n",
       "      <th>bcOpen</th>\n",
       "      <td>43.0</td>\n",
       "      <td>19756.0</td>\n",
       "      <td>7686.0</td>\n",
       "      <td>11061.0</td>\n",
       "      <td>5904.0</td>\n",
       "    </tr>\n",
       "    <tr>\n",
       "      <th>bcRatio</th>\n",
       "      <td>95.7</td>\n",
       "      <td>37.5</td>\n",
       "      <td>83.2</td>\n",
       "      <td>1.2</td>\n",
       "      <td>58.4</td>\n",
       "    </tr>\n",
       "    <tr>\n",
       "      <th>totalLim</th>\n",
       "      <td>60629.0</td>\n",
       "      <td>297500.0</td>\n",
       "      <td>907300.0</td>\n",
       "      <td>46964.0</td>\n",
       "      <td>134600.0</td>\n",
       "    </tr>\n",
       "    <tr>\n",
       "      <th>totalRevBal</th>\n",
       "      <td>48054.0</td>\n",
       "      <td>11844.0</td>\n",
       "      <td>173260.0</td>\n",
       "      <td>20671.0</td>\n",
       "      <td>8475.0</td>\n",
       "    </tr>\n",
       "    <tr>\n",
       "      <th>totalBcLim</th>\n",
       "      <td>1000.0</td>\n",
       "      <td>31600.0</td>\n",
       "      <td>83000.0</td>\n",
       "      <td>11200.0</td>\n",
       "      <td>14200.0</td>\n",
       "    </tr>\n",
       "    <tr>\n",
       "      <th>totalIlLim</th>\n",
       "      <td>52529.0</td>\n",
       "      <td>0.0</td>\n",
       "      <td>100000.0</td>\n",
       "      <td>32764.0</td>\n",
       "      <td>0.0</td>\n",
       "    </tr>\n",
       "  </tbody>\n",
       "</table>\n",
       "</div>"
      ],
      "text/plain": [
       "                           0                   1                   2  \\\n",
       "loanID                188861              517703              268587   \n",
       "amount                8000.0             11000.0             35000.0   \n",
       "term               36 months           36 months           36 months   \n",
       "rate                    0.14                 0.1                0.15   \n",
       "payment               272.07              354.89             1220.33   \n",
       "grade                      C                   B                   D   \n",
       "employment     Warehouseman       Vice President      Owner/Attorney   \n",
       "length               3 years           10+ years           10+ years   \n",
       "home                    RENT            MORTGAGE                RENT   \n",
       "income               49966.0             50000.0            360000.0   \n",
       "verified     Source Verified        Not Verified            Verified   \n",
       "status               Default             Current             Current   \n",
       "reason           credit_card  debt_consolidation  debt_consolidation   \n",
       "state                     CA                  PA                  CA   \n",
       "debtIncRat             30.05                8.74                14.5   \n",
       "delinq2yr                0.0                 0.0                 0.0   \n",
       "inq6mth                  0.0                 2.0                 1.0   \n",
       "openAcc                 11.0                12.0                 8.0   \n",
       "pubRec                   0.0                 0.0                 0.0   \n",
       "revolRatio              0.55                0.36                0.83   \n",
       "totalAcc                15.0                15.0                14.0   \n",
       "totalPaid            5914.67            12024.75            31668.65   \n",
       "totalBal             48054.0            265838.0            850150.0   \n",
       "totalRevLim           8100.0             33400.0             83000.0   \n",
       "accOpen24                8.0                 4.0                 2.0   \n",
       "avgBal                4369.0             22153.0            121450.0   \n",
       "bcOpen                  43.0             19756.0              7686.0   \n",
       "bcRatio                 95.7                37.5                83.2   \n",
       "totalLim             60629.0            297500.0            907300.0   \n",
       "totalRevBal          48054.0             11844.0            173260.0   \n",
       "totalBcLim            1000.0             31600.0             83000.0   \n",
       "totalIlLim           52529.0                 0.0            100000.0   \n",
       "\n",
       "                              3                   4  \n",
       "loanID                   579902              617630  \n",
       "amount                  20000.0             12000.0  \n",
       "term                  60 months           60 months  \n",
       "rate                       0.12                0.12  \n",
       "payment                  447.83              266.88  \n",
       "grade                         C                   B  \n",
       "employment              Analyst  medical technician  \n",
       "length                  2 years           10+ years  \n",
       "home                   MORTGAGE            MORTGAGE  \n",
       "income                  60000.0             64000.0  \n",
       "verified        Source Verified     Source Verified  \n",
       "status                  Current             Current  \n",
       "reason       debt_consolidation  debt_consolidation  \n",
       "state                        CA                  NJ  \n",
       "debtIncRat                14.14                5.14  \n",
       "delinq2yr                   0.0                 0.0  \n",
       "inq6mth                     0.0                 0.0  \n",
       "openAcc                    12.0                 8.0  \n",
       "pubRec                      3.0                 0.0  \n",
       "revolRatio                 0.01                0.58  \n",
       "totalAcc                   48.0                22.0  \n",
       "totalPaid              23827.23             9599.69  \n",
       "totalBal                20671.0            128034.0  \n",
       "totalRevLim             14200.0             14600.0  \n",
       "accOpen24                   8.0                 3.0  \n",
       "avgBal                   1723.0             18291.0  \n",
       "bcOpen                  11061.0              5904.0  \n",
       "bcRatio                     1.2                58.4  \n",
       "totalLim                46964.0            134600.0  \n",
       "totalRevBal             20671.0              8475.0  \n",
       "totalBcLim              11200.0             14200.0  \n",
       "totalIlLim              32764.0                 0.0  "
      ]
     },
     "execution_count": 3,
     "metadata": {},
     "output_type": "execute_result"
    }
   ],
   "source": [
    "df.head().T"
   ]
  },
  {
   "cell_type": "markdown",
   "id": "e5be80d4",
   "metadata": {},
   "source": [
    "**Quite a large amount of the info is text data, rather than numerical.**"
   ]
  },
  {
   "cell_type": "code",
   "execution_count": 4,
   "id": "379aa230",
   "metadata": {
    "scrolled": true
   },
   "outputs": [
    {
     "name": "stdout",
     "output_type": "stream",
     "text": [
      "<class 'pandas.core.frame.DataFrame'>\n",
      "Int64Index: 49184 entries, 0 to 49998\n",
      "Data columns (total 32 columns):\n",
      " #   Column       Non-Null Count  Dtype  \n",
      "---  ------       --------------  -----  \n",
      " 0   loanID       49184 non-null  int64  \n",
      " 1   amount       49184 non-null  float64\n",
      " 2   term         49184 non-null  object \n",
      " 3   rate         49184 non-null  float64\n",
      " 4   payment      49184 non-null  float64\n",
      " 5   grade        49184 non-null  object \n",
      " 6   employment   49184 non-null  object \n",
      " 7   length       49184 non-null  object \n",
      " 8   home         49184 non-null  object \n",
      " 9   income       49184 non-null  float64\n",
      " 10  verified     49184 non-null  object \n",
      " 11  status       49184 non-null  object \n",
      " 12  reason       49184 non-null  object \n",
      " 13  state        49184 non-null  object \n",
      " 14  debtIncRat   49184 non-null  float64\n",
      " 15  delinq2yr    49184 non-null  float64\n",
      " 16  inq6mth      49184 non-null  float64\n",
      " 17  openAcc      49184 non-null  float64\n",
      " 18  pubRec       49184 non-null  float64\n",
      " 19  revolRatio   49184 non-null  float64\n",
      " 20  totalAcc     49184 non-null  float64\n",
      " 21  totalPaid    49184 non-null  float64\n",
      " 22  totalBal     49184 non-null  float64\n",
      " 23  totalRevLim  49184 non-null  float64\n",
      " 24  accOpen24    49184 non-null  float64\n",
      " 25  avgBal       49184 non-null  float64\n",
      " 26  bcOpen       49184 non-null  float64\n",
      " 27  bcRatio      49184 non-null  float64\n",
      " 28  totalLim     49184 non-null  float64\n",
      " 29  totalRevBal  49184 non-null  float64\n",
      " 30  totalBcLim   49184 non-null  float64\n",
      " 31  totalIlLim   49184 non-null  float64\n",
      "dtypes: float64(22), int64(1), object(9)\n",
      "memory usage: 12.4+ MB\n"
     ]
    }
   ],
   "source": [
    "df.info()"
   ]
  },
  {
   "cell_type": "markdown",
   "id": "baf82a1e",
   "metadata": {},
   "source": [
    "**I changed Source Verified to match the other entries as 'Verified'. <br> Lastly, I dropped the 'totalPaid' as this feature isn't created until after the loan is issued and cannot be used as a predictor of default**"
   ]
  },
  {
   "cell_type": "code",
   "execution_count": 5,
   "id": "6a049024",
   "metadata": {},
   "outputs": [
    {
     "data": {
      "text/plain": [
       "Current    41604\n",
       "Default     7580\n",
       "Name: status, dtype: int64"
      ]
     },
     "execution_count": 5,
     "metadata": {},
     "output_type": "execute_result"
    }
   ],
   "source": [
    "df.status.value_counts()"
   ]
  },
  {
   "cell_type": "code",
   "execution_count": 6,
   "id": "abc45668",
   "metadata": {},
   "outputs": [
    {
     "name": "stdout",
     "output_type": "stream",
     "text": [
      "Percent of data that is Status default 15.41\n"
     ]
    }
   ],
   "source": [
    "percent_default = round(len(df[df.status == 'Default']) / len(df.status)  * 100,2)\n",
    "print('Percent of data that is Status default', percent_default)"
   ]
  },
  {
   "cell_type": "code",
   "execution_count": 7,
   "id": "611dcedf",
   "metadata": {},
   "outputs": [],
   "source": [
    "df['verified'] = df['verified'].replace(['Source Verified'], 'Verified')\n",
    "df = df.drop(['totalPaid'], axis=1)"
   ]
  },
  {
   "cell_type": "markdown",
   "id": "f9fd9d8a",
   "metadata": {},
   "source": [
    "**Next I wanted to check what correlations exist in the data. Since there was a 99% correlation between totalBal and totalLim, I removed the totalLim feature as it doesn't provide additional information.**"
   ]
  },
  {
   "cell_type": "code",
   "execution_count": 8,
   "id": "761cc549",
   "metadata": {
    "scrolled": false
   },
   "outputs": [
    {
     "data": {
      "image/png": "[encoded data removed]",
      "text/plain": [
       "<Figure size 1440x1440 with 2 Axes>"
      ]
     },
     "metadata": {
      "needs_background": "light"
     },
     "output_type": "display_data"
    }
   ],
   "source": [
    "# Create a correlation matrix\n",
    "corr = round(df.corr(), 1)\n",
    "\n",
    "# Create a mask to hide the upper triangle of the heatmap\n",
    "mask = np.zeros_like(corr)\n",
    "mask[np.triu_indices_from(mask)] = True\n",
    "\n",
    "# Plot the heatmap with the mask\n",
    "plt.figure(figsize=(20, 20))\n",
    "ax = sns.heatmap(corr, annot=True, cmap='BrBG', mask=mask)\n",
    "plt.title('Correlation Between Numerical Features', size=15)\n",
    "\n",
    "# Save the figure as a PNG image\n",
    "plt.savefig('Images/Heatmap', dpi=300, bbox_inches='tight')\n",
    "\n",
    "plt.show()"
   ]
  },
  {
   "cell_type": "code",
   "execution_count": 9,
   "id": "3c90b1ef",
   "metadata": {},
   "outputs": [],
   "source": [
    "# Drop totalLim feature\n",
    "df = df.drop(['totalLim'], axis=1)"
   ]
  },
  {
   "cell_type": "markdown",
   "id": "0263f8f0",
   "metadata": {},
   "source": [
    "**Confirm that loanIDs are all unqiue. Since they are, I will use the loanID as the index.**"
   ]
  },
  {
   "cell_type": "code",
   "execution_count": 10,
   "id": "d2588dc0",
   "metadata": {},
   "outputs": [
    {
     "data": {
      "text/plain": [
       "(49184, 30)"
      ]
     },
     "execution_count": 10,
     "metadata": {},
     "output_type": "execute_result"
    }
   ],
   "source": [
    "# Check shape to compare against length of unique loanIDs\n",
    "df.shape"
   ]
  },
  {
   "cell_type": "code",
   "execution_count": 11,
   "id": "8d72b8ef",
   "metadata": {},
   "outputs": [
    {
     "data": {
      "text/plain": [
       "49184"
      ]
     },
     "execution_count": 11,
     "metadata": {},
     "output_type": "execute_result"
    }
   ],
   "source": [
    "# Confirm all loanIDs are unique\n",
    "df.loanID.nunique()"
   ]
  },
  {
   "cell_type": "markdown",
   "id": "27f3e4b3",
   "metadata": {},
   "source": [
    "**Replace existing index with loanID column. Rate, payment & grade are determined by the bank after approving the loan. These are not predictive features.**"
   ]
  },
  {
   "cell_type": "code",
   "execution_count": 12,
   "id": "7b71826c",
   "metadata": {},
   "outputs": [],
   "source": [
    "df = df.drop(['rate', 'payment', 'grade'], axis=1).set_index('loanID')"
   ]
  },
  {
   "cell_type": "markdown",
   "id": "257c06a9",
   "metadata": {},
   "source": [
    "**I wanted to see if the employmet field could be used as a predictor. There are over 18,000 unique professions. I also looked to see how many might be duplicates by looking at any employment that contains 'nurse.' There are many that could be grouped but some are pretty different (like registered nurse vs certified nurse assistant). In the end, it's too much to figure out so I dropped that feature. I still have (employment) length so I am able to capture some of a related feature.**"
   ]
  },
  {
   "cell_type": "code",
   "execution_count": 13,
   "id": "41c8c8b2",
   "metadata": {},
   "outputs": [],
   "source": [
    "df.employment = df.employment.str.lower()"
   ]
  },
  {
   "cell_type": "code",
   "execution_count": 14,
   "id": "286502d3",
   "metadata": {},
   "outputs": [
    {
     "data": {
      "text/plain": [
       "18272"
      ]
     },
     "execution_count": 14,
     "metadata": {},
     "output_type": "execute_result"
    }
   ],
   "source": [
    "df.employment.nunique()"
   ]
  },
  {
   "cell_type": "code",
   "execution_count": 15,
   "id": "acc967a3",
   "metadata": {},
   "outputs": [
    {
     "data": {
      "text/html": [
       "<div>\n",
       "<style scoped>\n",
       "    .dataframe tbody tr th:only-of-type {\n",
       "        vertical-align: middle;\n",
       "    }\n",
       "\n",
       "    .dataframe tbody tr th {\n",
       "        vertical-align: top;\n",
       "    }\n",
       "\n",
       "    .dataframe thead th {\n",
       "        text-align: right;\n",
       "    }\n",
       "</style>\n",
       "<table border=\"1\" class=\"dataframe\">\n",
       "  <thead>\n",
       "    <tr style=\"text-align: right;\">\n",
       "      <th></th>\n",
       "      <th>amount</th>\n",
       "      <th>term</th>\n",
       "      <th>employment</th>\n",
       "      <th>length</th>\n",
       "      <th>home</th>\n",
       "      <th>income</th>\n",
       "      <th>verified</th>\n",
       "      <th>status</th>\n",
       "      <th>reason</th>\n",
       "      <th>state</th>\n",
       "      <th>...</th>\n",
       "      <th>totalAcc</th>\n",
       "      <th>totalBal</th>\n",
       "      <th>totalRevLim</th>\n",
       "      <th>accOpen24</th>\n",
       "      <th>avgBal</th>\n",
       "      <th>bcOpen</th>\n",
       "      <th>bcRatio</th>\n",
       "      <th>totalRevBal</th>\n",
       "      <th>totalBcLim</th>\n",
       "      <th>totalIlLim</th>\n",
       "    </tr>\n",
       "    <tr>\n",
       "      <th>loanID</th>\n",
       "      <th></th>\n",
       "      <th></th>\n",
       "      <th></th>\n",
       "      <th></th>\n",
       "      <th></th>\n",
       "      <th></th>\n",
       "      <th></th>\n",
       "      <th></th>\n",
       "      <th></th>\n",
       "      <th></th>\n",
       "      <th></th>\n",
       "      <th></th>\n",
       "      <th></th>\n",
       "      <th></th>\n",
       "      <th></th>\n",
       "      <th></th>\n",
       "      <th></th>\n",
       "      <th></th>\n",
       "      <th></th>\n",
       "      <th></th>\n",
       "      <th></th>\n",
       "    </tr>\n",
       "  </thead>\n",
       "  <tbody>\n",
       "    <tr>\n",
       "      <th>281259</th>\n",
       "      <td>10000.0</td>\n",
       "      <td>36 months</td>\n",
       "      <td>registered nurse</td>\n",
       "      <td>2 years</td>\n",
       "      <td>RENT</td>\n",
       "      <td>75000.0</td>\n",
       "      <td>Not Verified</td>\n",
       "      <td>Current</td>\n",
       "      <td>debt_consolidation</td>\n",
       "      <td>CA</td>\n",
       "      <td>...</td>\n",
       "      <td>31.0</td>\n",
       "      <td>93495.0</td>\n",
       "      <td>39900.0</td>\n",
       "      <td>2.0</td>\n",
       "      <td>4921.0</td>\n",
       "      <td>31333.00</td>\n",
       "      <td>10.7</td>\n",
       "      <td>93495.0</td>\n",
       "      <td>35100.0</td>\n",
       "      <td>101320.0</td>\n",
       "    </tr>\n",
       "    <tr>\n",
       "      <th>54149</th>\n",
       "      <td>18825.0</td>\n",
       "      <td>60 months</td>\n",
       "      <td>nurse</td>\n",
       "      <td>1 year</td>\n",
       "      <td>MORTGAGE</td>\n",
       "      <td>53000.0</td>\n",
       "      <td>Verified</td>\n",
       "      <td>Current</td>\n",
       "      <td>debt_consolidation</td>\n",
       "      <td>IL</td>\n",
       "      <td>...</td>\n",
       "      <td>12.0</td>\n",
       "      <td>197390.0</td>\n",
       "      <td>13600.0</td>\n",
       "      <td>5.0</td>\n",
       "      <td>28199.0</td>\n",
       "      <td>1868.00</td>\n",
       "      <td>75.4</td>\n",
       "      <td>44885.0</td>\n",
       "      <td>7600.0</td>\n",
       "      <td>44953.0</td>\n",
       "    </tr>\n",
       "    <tr>\n",
       "      <th>281495</th>\n",
       "      <td>17000.0</td>\n",
       "      <td>36 months</td>\n",
       "      <td>registered nurse</td>\n",
       "      <td>7 years</td>\n",
       "      <td>MORTGAGE</td>\n",
       "      <td>140000.0</td>\n",
       "      <td>Not Verified</td>\n",
       "      <td>Current</td>\n",
       "      <td>credit_card</td>\n",
       "      <td>CA</td>\n",
       "      <td>...</td>\n",
       "      <td>32.0</td>\n",
       "      <td>506667.0</td>\n",
       "      <td>47800.0</td>\n",
       "      <td>6.0</td>\n",
       "      <td>31667.0</td>\n",
       "      <td>12753.00</td>\n",
       "      <td>62.4</td>\n",
       "      <td>36045.0</td>\n",
       "      <td>33900.0</td>\n",
       "      <td>30108.0</td>\n",
       "    </tr>\n",
       "    <tr>\n",
       "      <th>351772</th>\n",
       "      <td>6000.0</td>\n",
       "      <td>36 months</td>\n",
       "      <td>certified nurse assistant</td>\n",
       "      <td>2 years</td>\n",
       "      <td>RENT</td>\n",
       "      <td>20000.0</td>\n",
       "      <td>Verified</td>\n",
       "      <td>Default</td>\n",
       "      <td>home_improvement</td>\n",
       "      <td>CA</td>\n",
       "      <td>...</td>\n",
       "      <td>19.0</td>\n",
       "      <td>38782.0</td>\n",
       "      <td>14000.0</td>\n",
       "      <td>8.0</td>\n",
       "      <td>2155.0</td>\n",
       "      <td>9855.00</td>\n",
       "      <td>4.3</td>\n",
       "      <td>38782.0</td>\n",
       "      <td>10300.0</td>\n",
       "      <td>35250.0</td>\n",
       "    </tr>\n",
       "    <tr>\n",
       "      <th>616263</th>\n",
       "      <td>8675.0</td>\n",
       "      <td>36 months</td>\n",
       "      <td>travel nurse</td>\n",
       "      <td>&lt; 1 year</td>\n",
       "      <td>RENT</td>\n",
       "      <td>56400.0</td>\n",
       "      <td>Not Verified</td>\n",
       "      <td>Current</td>\n",
       "      <td>house</td>\n",
       "      <td>SC</td>\n",
       "      <td>...</td>\n",
       "      <td>15.0</td>\n",
       "      <td>29088.0</td>\n",
       "      <td>5800.0</td>\n",
       "      <td>2.0</td>\n",
       "      <td>2909.0</td>\n",
       "      <td>9154.93</td>\n",
       "      <td>63.2</td>\n",
       "      <td>29088.0</td>\n",
       "      <td>0.0</td>\n",
       "      <td>29997.0</td>\n",
       "    </tr>\n",
       "    <tr>\n",
       "      <th>214963</th>\n",
       "      <td>25000.0</td>\n",
       "      <td>36 months</td>\n",
       "      <td>reg nurse</td>\n",
       "      <td>2 years</td>\n",
       "      <td>MORTGAGE</td>\n",
       "      <td>150000.0</td>\n",
       "      <td>Verified</td>\n",
       "      <td>Current</td>\n",
       "      <td>debt_consolidation</td>\n",
       "      <td>MD</td>\n",
       "      <td>...</td>\n",
       "      <td>21.0</td>\n",
       "      <td>463748.0</td>\n",
       "      <td>31800.0</td>\n",
       "      <td>0.0</td>\n",
       "      <td>51528.0</td>\n",
       "      <td>3699.00</td>\n",
       "      <td>87.6</td>\n",
       "      <td>39625.0</td>\n",
       "      <td>29800.0</td>\n",
       "      <td>18006.0</td>\n",
       "    </tr>\n",
       "    <tr>\n",
       "      <th>345517</th>\n",
       "      <td>28000.0</td>\n",
       "      <td>36 months</td>\n",
       "      <td>nurse- aprn</td>\n",
       "      <td>10+ years</td>\n",
       "      <td>MORTGAGE</td>\n",
       "      <td>110000.0</td>\n",
       "      <td>Not Verified</td>\n",
       "      <td>Current</td>\n",
       "      <td>debt_consolidation</td>\n",
       "      <td>SC</td>\n",
       "      <td>...</td>\n",
       "      <td>32.0</td>\n",
       "      <td>134087.0</td>\n",
       "      <td>109200.0</td>\n",
       "      <td>1.0</td>\n",
       "      <td>7449.0</td>\n",
       "      <td>38235.00</td>\n",
       "      <td>48.1</td>\n",
       "      <td>48256.0</td>\n",
       "      <td>73700.0</td>\n",
       "      <td>14986.0</td>\n",
       "    </tr>\n",
       "    <tr>\n",
       "      <th>455922</th>\n",
       "      <td>23550.0</td>\n",
       "      <td>36 months</td>\n",
       "      <td>registered nurse</td>\n",
       "      <td>&lt; 1 year</td>\n",
       "      <td>OWN</td>\n",
       "      <td>56100.0</td>\n",
       "      <td>Verified</td>\n",
       "      <td>Current</td>\n",
       "      <td>debt_consolidation</td>\n",
       "      <td>VA</td>\n",
       "      <td>...</td>\n",
       "      <td>29.0</td>\n",
       "      <td>43342.0</td>\n",
       "      <td>10600.0</td>\n",
       "      <td>3.0</td>\n",
       "      <td>8668.0</td>\n",
       "      <td>342.00</td>\n",
       "      <td>82.9</td>\n",
       "      <td>43342.0</td>\n",
       "      <td>2000.0</td>\n",
       "      <td>44928.0</td>\n",
       "    </tr>\n",
       "    <tr>\n",
       "      <th>397210</th>\n",
       "      <td>9000.0</td>\n",
       "      <td>36 months</td>\n",
       "      <td>public health nurse</td>\n",
       "      <td>1 year</td>\n",
       "      <td>RENT</td>\n",
       "      <td>62000.0</td>\n",
       "      <td>Verified</td>\n",
       "      <td>Current</td>\n",
       "      <td>medical</td>\n",
       "      <td>CO</td>\n",
       "      <td>...</td>\n",
       "      <td>21.0</td>\n",
       "      <td>49724.0</td>\n",
       "      <td>12300.0</td>\n",
       "      <td>2.0</td>\n",
       "      <td>4972.0</td>\n",
       "      <td>2792.00</td>\n",
       "      <td>71.5</td>\n",
       "      <td>49724.0</td>\n",
       "      <td>9800.0</td>\n",
       "      <td>61942.0</td>\n",
       "    </tr>\n",
       "    <tr>\n",
       "      <th>506295</th>\n",
       "      <td>8300.0</td>\n",
       "      <td>36 months</td>\n",
       "      <td>registered nurse</td>\n",
       "      <td>2 years</td>\n",
       "      <td>RENT</td>\n",
       "      <td>73000.0</td>\n",
       "      <td>Not Verified</td>\n",
       "      <td>Current</td>\n",
       "      <td>credit_card</td>\n",
       "      <td>NY</td>\n",
       "      <td>...</td>\n",
       "      <td>30.0</td>\n",
       "      <td>60838.0</td>\n",
       "      <td>12900.0</td>\n",
       "      <td>1.0</td>\n",
       "      <td>3579.0</td>\n",
       "      <td>7252.00</td>\n",
       "      <td>42.4</td>\n",
       "      <td>60838.0</td>\n",
       "      <td>12600.0</td>\n",
       "      <td>61323.0</td>\n",
       "    </tr>\n",
       "  </tbody>\n",
       "</table>\n",
       "<p>10 rows × 26 columns</p>\n",
       "</div>"
      ],
      "text/plain": [
       "         amount        term                 employment     length      home  \\\n",
       "loanID                                                                        \n",
       "281259  10000.0   36 months           registered nurse    2 years      RENT   \n",
       "54149   18825.0   60 months                      nurse     1 year  MORTGAGE   \n",
       "281495  17000.0   36 months          registered nurse     7 years  MORTGAGE   \n",
       "351772   6000.0   36 months  certified nurse assistant    2 years      RENT   \n",
       "616263   8675.0   36 months               travel nurse   < 1 year      RENT   \n",
       "214963  25000.0   36 months                  reg nurse    2 years  MORTGAGE   \n",
       "345517  28000.0   36 months                nurse- aprn  10+ years  MORTGAGE   \n",
       "455922  23550.0   36 months           registered nurse   < 1 year       OWN   \n",
       "397210   9000.0   36 months        public health nurse     1 year      RENT   \n",
       "506295   8300.0   36 months           registered nurse    2 years      RENT   \n",
       "\n",
       "          income      verified   status              reason state  ...  \\\n",
       "loanID                                                             ...   \n",
       "281259   75000.0  Not Verified  Current  debt_consolidation    CA  ...   \n",
       "54149    53000.0      Verified  Current  debt_consolidation    IL  ...   \n",
       "281495  140000.0  Not Verified  Current         credit_card    CA  ...   \n",
       "351772   20000.0      Verified  Default    home_improvement    CA  ...   \n",
       "616263   56400.0  Not Verified  Current               house    SC  ...   \n",
       "214963  150000.0      Verified  Current  debt_consolidation    MD  ...   \n",
       "345517  110000.0  Not Verified  Current  debt_consolidation    SC  ...   \n",
       "455922   56100.0      Verified  Current  debt_consolidation    VA  ...   \n",
       "397210   62000.0      Verified  Current             medical    CO  ...   \n",
       "506295   73000.0  Not Verified  Current         credit_card    NY  ...   \n",
       "\n",
       "        totalAcc  totalBal  totalRevLim  accOpen24   avgBal    bcOpen  \\\n",
       "loanID                                                                  \n",
       "281259      31.0   93495.0      39900.0        2.0   4921.0  31333.00   \n",
       "54149       12.0  197390.0      13600.0        5.0  28199.0   1868.00   \n",
       "281495      32.0  506667.0      47800.0        6.0  31667.0  12753.00   \n",
       "351772      19.0   38782.0      14000.0        8.0   2155.0   9855.00   \n",
       "616263      15.0   29088.0       5800.0        2.0   2909.0   9154.93   \n",
       "214963      21.0  463748.0      31800.0        0.0  51528.0   3699.00   \n",
       "345517      32.0  134087.0     109200.0        1.0   7449.0  38235.00   \n",
       "455922      29.0   43342.0      10600.0        3.0   8668.0    342.00   \n",
       "397210      21.0   49724.0      12300.0        2.0   4972.0   2792.00   \n",
       "506295      30.0   60838.0      12900.0        1.0   3579.0   7252.00   \n",
       "\n",
       "        bcRatio  totalRevBal  totalBcLim  totalIlLim  \n",
       "loanID                                                \n",
       "281259     10.7      93495.0     35100.0    101320.0  \n",
       "54149      75.4      44885.0      7600.0     44953.0  \n",
       "281495     62.4      36045.0     33900.0     30108.0  \n",
       "351772      4.3      38782.0     10300.0     35250.0  \n",
       "616263     63.2      29088.0         0.0     29997.0  \n",
       "214963     87.6      39625.0     29800.0     18006.0  \n",
       "345517     48.1      48256.0     73700.0     14986.0  \n",
       "455922     82.9      43342.0      2000.0     44928.0  \n",
       "397210     71.5      49724.0      9800.0     61942.0  \n",
       "506295     42.4      60838.0     12600.0     61323.0  \n",
       "\n",
       "[10 rows x 26 columns]"
      ]
     },
     "execution_count": 15,
     "metadata": {},
     "output_type": "execute_result"
    }
   ],
   "source": [
    "search_word = 'nurse'\n",
    "pattern = f'.*{search_word}.*'  # regular expression pattern to match any string that contains the search_word\n",
    "result = df[df['employment'].str.contains(pattern)]\n",
    "result.head(10)"
   ]
  },
  {
   "cell_type": "code",
   "execution_count": 16,
   "id": "2a27d349",
   "metadata": {},
   "outputs": [],
   "source": [
    "df = df.drop('employment', axis=1)"
   ]
  },
  {
   "cell_type": "markdown",
   "id": "d94197b0",
   "metadata": {},
   "source": [
    "**Separate the features and target variable. Use chi-squared test to look see which features might make the biggest impact in when modeling later.**"
   ]
  },
  {
   "cell_type": "code",
   "execution_count": 17,
   "id": "d34e3a76",
   "metadata": {},
   "outputs": [],
   "source": [
    "X = df.drop('status', axis=1)\n",
    "y = df['status']"
   ]
  },
  {
   "cell_type": "code",
   "execution_count": 18,
   "id": "d132cb09",
   "metadata": {},
   "outputs": [
    {
     "data": {
      "text/plain": [
       "24"
      ]
     },
     "execution_count": 18,
     "metadata": {},
     "output_type": "execute_result"
    }
   ],
   "source": [
    "len(X.columns)"
   ]
  },
  {
   "cell_type": "code",
   "execution_count": 34,
   "id": "7ce8a560",
   "metadata": {},
   "outputs": [],
   "source": [
    "# Calculate the chi-squared test statistic and p-value for each feature\n",
    "chi2, p_values = [], []\n",
    "for feature in X.columns:\n",
    "    contingency_table = pd.crosstab(X[feature], y)\n",
    "    chi2_stat, p_value, _, _ = chi2_contingency(contingency_table)\n",
    "    chi2.append(chi2_stat)\n",
    "    p_values.append(p_value)\n",
    "\n",
    "# Select the top k features with the highest chi-squared test statistic\n",
    "k = 5\n",
    "top_features_chi = X.columns[np.argsort(chi2)[-k:]]\n",
    "top_scores_chi = np.sort(chi2)[-k:]\n",
    "\n",
    "# Select the top k features with the lowest p-values\n",
    "top_features_p = X.columns[np.argsort(p_values)[:k]]\n",
    "top_scores_p = np.sort(p_values)[:k]\n",
    "\n",
    "# Create a dataframe with the selected features and their scores\n",
    "features_scores_df = pd.DataFrame({\n",
    "    'Feature': np.concatenate((top_features_chi, top_features_p)),\n",
    "    'Chi Squared': np.concatenate((top_scores_chi, np.zeros(k))),\n",
    "    'P-Values': np.concatenate((np.zeros(k), top_scores_p))\n",
    "})\n",
    "\n",
    "# Sort the dataframe by the chi-squared test statistic score\n",
    "features_scores_df = features_scores_df.sort_values('Chi Squared', ascending=False)\n",
    "\n",
    "# Reset the index of the dataframe\n",
    "features_scores_df = features_scores_df.reset_index(drop=True)"
   ]
  },
  {
   "cell_type": "code",
   "execution_count": 41,
   "id": "54899195",
   "metadata": {},
   "outputs": [
    {
     "data": {
      "text/html": [
       "<div>\n",
       "<style scoped>\n",
       "    .dataframe tbody tr th:only-of-type {\n",
       "        vertical-align: middle;\n",
       "    }\n",
       "\n",
       "    .dataframe tbody tr th {\n",
       "        vertical-align: top;\n",
       "    }\n",
       "\n",
       "    .dataframe thead th {\n",
       "        text-align: right;\n",
       "    }\n",
       "</style>\n",
       "<table border=\"1\" class=\"dataframe\">\n",
       "  <thead>\n",
       "    <tr style=\"text-align: right;\">\n",
       "      <th></th>\n",
       "      <th>Feature</th>\n",
       "      <th>Chi Squared</th>\n",
       "      <th>P-Values</th>\n",
       "    </tr>\n",
       "  </thead>\n",
       "  <tbody>\n",
       "    <tr>\n",
       "      <th>0</th>\n",
       "      <td>totalBal</td>\n",
       "      <td>44053.736608</td>\n",
       "      <td>0.000000e+00</td>\n",
       "    </tr>\n",
       "    <tr>\n",
       "      <th>1</th>\n",
       "      <td>totalRevBal</td>\n",
       "      <td>38634.197000</td>\n",
       "      <td>0.000000e+00</td>\n",
       "    </tr>\n",
       "    <tr>\n",
       "      <th>2</th>\n",
       "      <td>totalIlLim</td>\n",
       "      <td>32945.336049</td>\n",
       "      <td>0.000000e+00</td>\n",
       "    </tr>\n",
       "    <tr>\n",
       "      <th>3</th>\n",
       "      <td>avgBal</td>\n",
       "      <td>22435.096839</td>\n",
       "      <td>0.000000e+00</td>\n",
       "    </tr>\n",
       "    <tr>\n",
       "      <th>4</th>\n",
       "      <td>bcOpen</td>\n",
       "      <td>17367.455814</td>\n",
       "      <td>0.000000e+00</td>\n",
       "    </tr>\n",
       "    <tr>\n",
       "      <th>5</th>\n",
       "      <td>accOpen24</td>\n",
       "      <td>0.000000</td>\n",
       "      <td>1.830568e-164</td>\n",
       "    </tr>\n",
       "    <tr>\n",
       "      <th>6</th>\n",
       "      <td>term</td>\n",
       "      <td>0.000000</td>\n",
       "      <td>5.490641e-89</td>\n",
       "    </tr>\n",
       "    <tr>\n",
       "      <th>7</th>\n",
       "      <td>inq6mth</td>\n",
       "      <td>0.000000</td>\n",
       "      <td>1.026460e-77</td>\n",
       "    </tr>\n",
       "    <tr>\n",
       "      <th>8</th>\n",
       "      <td>verified</td>\n",
       "      <td>0.000000</td>\n",
       "      <td>8.902881e-52</td>\n",
       "    </tr>\n",
       "    <tr>\n",
       "      <th>9</th>\n",
       "      <td>amount</td>\n",
       "      <td>0.000000</td>\n",
       "      <td>1.093108e-47</td>\n",
       "    </tr>\n",
       "  </tbody>\n",
       "</table>\n",
       "</div>"
      ],
      "text/plain": [
       "       Feature   Chi Squared       P-Values\n",
       "0     totalBal  44053.736608   0.000000e+00\n",
       "1  totalRevBal  38634.197000   0.000000e+00\n",
       "2   totalIlLim  32945.336049   0.000000e+00\n",
       "3       avgBal  22435.096839   0.000000e+00\n",
       "4       bcOpen  17367.455814   0.000000e+00\n",
       "5    accOpen24      0.000000  1.830568e-164\n",
       "6         term      0.000000   5.490641e-89\n",
       "7      inq6mth      0.000000   1.026460e-77\n",
       "8     verified      0.000000   8.902881e-52\n",
       "9       amount      0.000000   1.093108e-47"
      ]
     },
     "execution_count": 41,
     "metadata": {},
     "output_type": "execute_result"
    }
   ],
   "source": [
    "features_scores_df"
   ]
  },
  {
   "cell_type": "code",
   "execution_count": 29,
   "id": "17682a9e",
   "metadata": {},
   "outputs": [],
   "source": [
    "# Creat lists of the top chi2 and p-value scores\n",
    "top_chi2 = sorted(chi2, reverse = True)[:5]\n",
    "top_pvals = sorted(p_values, reverse = True)[:5]\n",
    "\n",
    "# Creat a dataframe with those featues\n",
    "top_features = pd.DataFrame({'Chi Squared':top_features_chi, 'P-Values':top_features_p})"
   ]
  },
  {
   "cell_type": "code",
   "execution_count": 30,
   "id": "8e07154e",
   "metadata": {},
   "outputs": [
    {
     "data": {
      "text/html": [
       "<div>\n",
       "<style scoped>\n",
       "    .dataframe tbody tr th:only-of-type {\n",
       "        vertical-align: middle;\n",
       "    }\n",
       "\n",
       "    .dataframe tbody tr th {\n",
       "        vertical-align: top;\n",
       "    }\n",
       "\n",
       "    .dataframe thead th {\n",
       "        text-align: right;\n",
       "    }\n",
       "</style>\n",
       "<table border=\"1\" class=\"dataframe\">\n",
       "  <thead>\n",
       "    <tr style=\"text-align: right;\">\n",
       "      <th></th>\n",
       "      <th>Chi Squared</th>\n",
       "      <th>P-Values</th>\n",
       "    </tr>\n",
       "  </thead>\n",
       "  <tbody>\n",
       "    <tr>\n",
       "      <th>0</th>\n",
       "      <td>bcOpen</td>\n",
       "      <td>accOpen24</td>\n",
       "    </tr>\n",
       "    <tr>\n",
       "      <th>1</th>\n",
       "      <td>avgBal</td>\n",
       "      <td>term</td>\n",
       "    </tr>\n",
       "    <tr>\n",
       "      <th>2</th>\n",
       "      <td>totalIlLim</td>\n",
       "      <td>inq6mth</td>\n",
       "    </tr>\n",
       "    <tr>\n",
       "      <th>3</th>\n",
       "      <td>totalRevBal</td>\n",
       "      <td>verified</td>\n",
       "    </tr>\n",
       "    <tr>\n",
       "      <th>4</th>\n",
       "      <td>totalBal</td>\n",
       "      <td>amount</td>\n",
       "    </tr>\n",
       "  </tbody>\n",
       "</table>\n",
       "</div>"
      ],
      "text/plain": [
       "   Chi Squared   P-Values\n",
       "0       bcOpen  accOpen24\n",
       "1       avgBal       term\n",
       "2   totalIlLim    inq6mth\n",
       "3  totalRevBal   verified\n",
       "4     totalBal     amount"
      ]
     },
     "execution_count": 30,
     "metadata": {},
     "output_type": "execute_result"
    }
   ],
   "source": [
    "top_features"
   ]
  },
  {
   "cell_type": "code",
   "execution_count": 31,
   "id": "89c788c3",
   "metadata": {},
   "outputs": [
    {
     "data": {
      "image/png": "[encoded data removed]",
      "text/plain": [
       "<Figure size 864x432 with 1 Axes>"
      ]
     },
     "metadata": {
      "needs_background": "light"
     },
     "output_type": "display_data"
    }
   ],
   "source": [
    "# Make bar chart for P-Value Top Scores\n",
    "# Create a color gradient for the bar chart\n",
    "color_map = plt.cm.get_cmap('BrBG')\n",
    "\n",
    "x_labels = ['Total Unused Credit \\non Credit Cards','Average Balance \\nPer Account',\\\n",
    "                                      'Total of Credit Limits \\nfor Installment Accounts',\\\n",
    "                                      'Total Credit Balance \\n(Except Mortgages)',\\\n",
    "                                      'Total Current Balance of \\nAll Credit Accounts']\n",
    "\n",
    "# Plot the top P-Values results with a color gradient\n",
    "plt.figure(figsize=(12, 6))\n",
    "bars = plt.bar(top_features_p, top_pvals, color=color_map(top_pvals / max(top_pvals)))\n",
    "plt.xticks(range(len(top_features)), x_labels)\n",
    "plt.xlabel('Features', size=13)\n",
    "plt.ylabel('P-Values', size=13)\n",
    "plt.title('Top Features: P-Values', size=15)\n",
    "\n",
    "# Add horizontal lines behind the bars.\n",
    "for i in range(1, 1):\n",
    "    plt.axhline(y=i/10, color='lightblue', zorder=-1, linewidth=0.5)\n",
    "\n",
    "# Add space between the bars\n",
    "plt.subplots_adjust(bottom=0.3)\n",
    "\n",
    "# Remove the spines of the plot & box around the legend\n",
    "sns.despine(bottom=True, left=True)\n",
    "\n",
    "# Save the figure as a PNG image\n",
    "plt.savefig('Images/Top Features: P-Values', dpi=300, bbox_inches='tight')\n",
    "\n",
    "plt.show()"
   ]
  },
  {
   "cell_type": "code",
   "execution_count": null,
   "id": "505ef1d5",
   "metadata": {},
   "outputs": [],
   "source": [
    "# Make bar chart for Chi2 Top Scores\n",
    "# Create a color gradient for the bar chart\n",
    "color_map = plt.cm.get_cmap('BrBG')\n",
    "\n",
    "x_labels = ['Total Unused Credit \\non Credit Cards','Average Balance \\nPer Account',\\\n",
    "                                      'Total of Credit Limits \\nfor Installment Accounts',\\\n",
    "                                      'Total Credit Balance \\n(Except Mortgages)',\\\n",
    "                                      'Total Current Balance of \\nAll Credit Accounts']\n",
    "\n",
    "# Plot the top Chi2 results with a color gradient\n",
    "plt.figure(figsize=(12, 6))\n",
    "bars = plt.bar(top_features_chi, top_chi2, color=color_map(top_chi2 / max(top_chi2)))\n",
    "plt.xticks(range(len(top_features)), labels=x_labels)\n",
    "plt.xlabel('Features', size=13)\n",
    "plt.ylabel('Chi-Squared Test Statistic', size=13)\n",
    "plt.title('Top Features: Chi-Squared Test Statistic', size=15)\n",
    "\n",
    "# Add horizontal lines behind the bars\n",
    "for i in [10000, 20000, 30000, 40000]:\n",
    "    plt.axhline(y=i, color='lightblue', zorder=-1, linewidth=0.5)\n",
    "\n",
    "# Add space between the bars\n",
    "plt.subplots_adjust(bottom=0.3)\n",
    "\n",
    "# Remove the spines of the plot & box around the legend\n",
    "sns.despine(bottom=True, left=True)\n",
    "\n",
    "# Save the figure as a PNG image\n",
    "plt.savefig('Images/Top Features: Chi-Squared Test Statistic', dpi=300, bbox_inches='tight')\n",
    "\n",
    "plt.show()"
   ]
  },
  {
   "cell_type": "code",
   "execution_count": null,
   "id": "2c8494eb",
   "metadata": {},
   "outputs": [],
   "source": [
    "top_features"
   ]
  },
  {
   "cell_type": "code",
   "execution_count": null,
   "id": "f32f253e",
   "metadata": {},
   "outputs": [],
   "source": [
    "X = X[top_features]"
   ]
  },
  {
   "cell_type": "markdown",
   "id": "f807b0c6",
   "metadata": {},
   "source": [
    "**I was curious about a possible relation between loan status and 'debtIncRat'. Looks like is a slighly higher trend for those who default.**"
   ]
  },
  {
   "cell_type": "code",
   "execution_count": null,
   "id": "ac16fb07",
   "metadata": {
    "scrolled": true
   },
   "outputs": [],
   "source": [
    "sns.catplot(data=df, x=\"status\", y='debtIncRat', kind=\"box\", palette={\"Default\": \"goldenrod\", \"Current\": \"teal\"})\n",
    "\n",
    "# Set the title & labels for the x-axis & y-axis\n",
    "plt.title(\"Defaulters Have A Highter \\nDebt to Income Ratio\", size=15)\n",
    "plt.xlabel('Loan Status', size=13)\n",
    "plt.ylabel('Dent to Income Ratio', size=13)\n",
    "\n",
    "# Remove the spines of the plot & box around the legend\n",
    "sns.despine(bottom=True, left=True)\n",
    "\n",
    "# Save the figure as a PNG image\n",
    "plt.savefig('Images/Defaulter Box Plot', dpi=300, bbox_inches='tight')\n",
    "\n",
    "plt.show()"
   ]
  },
  {
   "cell_type": "markdown",
   "id": "b2762a16",
   "metadata": {},
   "source": [
    "**I wanted to see if there was a difference in defaults based on home ownership. Looks like home owners and those with mortages are muhc more prone to defult than those that rent.**"
   ]
  },
  {
   "cell_type": "code",
   "execution_count": null,
   "id": "a91ea462",
   "metadata": {},
   "outputs": [],
   "source": [
    "df.home.unique()"
   ]
  },
  {
   "cell_type": "code",
   "execution_count": null,
   "id": "c3cffe2f",
   "metadata": {},
   "outputs": [],
   "source": [
    "rent = df[(df['home'] == 'RENT') & (df['status'] == 'Default')]\n",
    "mortgage = df[(df['home'] == 'MORTGAGE') & (df['status'] == 'Default')]\n",
    "own = df[(df['home'] == 'OWN') & (df['status'] == 'Default')]\n",
    "\n",
    "home_values = pd.DataFrame({'home': ['OWN', 'MORTGAGE', 'RENT'], 'default': [len(rent), len(mortgage), len(own)]})\n",
    "home_totals = pd.DataFrame(df['home'].value_counts()).reset_index()\n",
    "home_totals.rename(columns = {'index':'home', 'home':'count'}, inplace = True)\n",
    "\n",
    "home_summary = pd.merge(home_values, home_totals)\n",
    "home_summary['%'] = (100*home_summary['default']/home_summary['count']).round(2)\n",
    "home_summary = home_summary.sort_values(by=['%'], ascending=False)"
   ]
  },
  {
   "cell_type": "code",
   "execution_count": null,
   "id": "30ca6db5",
   "metadata": {
    "scrolled": false
   },
   "outputs": [],
   "source": [
    "home_summary"
   ]
  },
  {
   "cell_type": "code",
   "execution_count": null,
   "id": "58c46587",
   "metadata": {},
   "outputs": [],
   "source": [
    "y_pos = np.arange(len(home_summary['home']))\n",
    "plt.bar(y_pos, home_summary['%'], width = .5, color='goldenrod')\n",
    "\n",
    "# Create a list of labels with the first letter capitalized\n",
    "labels = [s.capitalize() for s in home_summary['home']]\n",
    "\n",
    "plt.xticks(y_pos, labels)\n",
    "\n",
    "# Set the title & labels for the x-axis & y-axis\n",
    "plt.title(\"Homeowners Default Much More\", size=15)\n",
    "plt.xlabel('Home Status', size=13)\n",
    "plt.ylabel('Number of Defaults', size=13)\n",
    "\n",
    "# Remove the spines of the plot & box around the legend\n",
    "sns.despine(bottom=True, left=True)\n",
    "plt.yticks(size=10, color='grey')\n",
    "\n",
    "# Save the figure as a PNG image\n",
    "plt.savefig('Images/Dont Loan Money to Homeowners', dpi=300, bbox_inches='tight')\n",
    "\n",
    "plt.show()"
   ]
  },
  {
   "cell_type": "markdown",
   "id": "68f902ef",
   "metadata": {},
   "source": [
    "**I wanted to try the same experiment with the reason the loan was originated. I speculated that debt consolodation would be the feature with the highest percentage of defaults. Turns out Small Business loans were by far the highest.**"
   ]
  },
  {
   "cell_type": "code",
   "execution_count": null,
   "id": "e836f00c",
   "metadata": {},
   "outputs": [],
   "source": [
    "df.reason.unique()"
   ]
  },
  {
   "cell_type": "code",
   "execution_count": null,
   "id": "e54adff9",
   "metadata": {},
   "outputs": [],
   "source": [
    "default_by_reason = {reason: group[group['status'] == 'Default'] for reason, group in df.groupby('reason')}"
   ]
  },
  {
   "cell_type": "code",
   "execution_count": null,
   "id": "baec5ceb",
   "metadata": {},
   "outputs": [],
   "source": [
    "credit_card = default_by_reason['credit_card']\n",
    "debt_consolidation = default_by_reason['debt_consolidation']\n",
    "other = default_by_reason['other']\n",
    "car = default_by_reason['car']\n",
    "home_improvement = default_by_reason['home_improvement']\n",
    "vacation = default_by_reason['vacation']\n",
    "medical = default_by_reason['medical']\n",
    "small_business = default_by_reason['small_business']\n",
    "house = default_by_reason['house']\n",
    "moving = default_by_reason['moving']\n",
    "major_purchase = default_by_reason['major_purchase']\n",
    "renewable_energy = default_by_reason['renewable_energy']\n",
    "wedding = default_by_reason['wedding']"
   ]
  },
  {
   "cell_type": "code",
   "execution_count": null,
   "id": "d49faefa",
   "metadata": {},
   "outputs": [],
   "source": [
    "values = pd.DataFrame({'reason': list(default_by_reason.keys()), 'defaults': [len(default_by_reason[reason]) for reason in default_by_reason]})"
   ]
  },
  {
   "cell_type": "code",
   "execution_count": null,
   "id": "ffd4db5f",
   "metadata": {},
   "outputs": [],
   "source": [
    "total_values = pd.DataFrame(df['reason'].value_counts()).reset_index()\n",
    "total_values"
   ]
  },
  {
   "cell_type": "code",
   "execution_count": null,
   "id": "89767987",
   "metadata": {},
   "outputs": [],
   "source": [
    "total_values.rename(columns = {'index':'reason', 'reason':'count'}, inplace = True)"
   ]
  },
  {
   "cell_type": "code",
   "execution_count": null,
   "id": "663f00fc",
   "metadata": {},
   "outputs": [],
   "source": [
    "reason_summary = pd.merge(values, total_values)\n",
    "reason_summary['%'] = (100*reason_summary['defaults']/reason_summary['count']).round(2)\n",
    "reason_summary = reason_summary.sort_values(by=['%'], ascending=False)\n",
    "reason_summary.reset_index(inplace=True)"
   ]
  },
  {
   "cell_type": "code",
   "execution_count": null,
   "id": "f8501a25",
   "metadata": {},
   "outputs": [],
   "source": [
    "reason_summary.drop(['index'], axis=1)"
   ]
  },
  {
   "cell_type": "code",
   "execution_count": null,
   "id": "2eb5a3e2",
   "metadata": {},
   "outputs": [],
   "source": [
    "reason_summary.reason"
   ]
  },
  {
   "cell_type": "code",
   "execution_count": null,
   "id": "422fbda3",
   "metadata": {},
   "outputs": [],
   "source": [
    "reasons = ['Wedding', 'Car', 'Credit Card', 'Home Improvement', 'Major Purchase', 'Debt Consolidation',\\\n",
    "           'Renewable Energy', 'Other', 'Vacation', 'House', 'Medical', 'Moving', 'Small Business']\n",
    "reasons.reverse()"
   ]
  },
  {
   "cell_type": "code",
   "execution_count": null,
   "id": "1f9df988",
   "metadata": {
    "scrolled": true
   },
   "outputs": [],
   "source": [
    "my_range=range(1,len(reason_summary.index)+1)\n",
    "\n",
    "plt.hlines(y=my_range, xmin=0, xmax=reason_summary['%'], color='goldenrod', linestyle='dotted')\n",
    "plt.plot(reason_summary['%'], my_range, \"o\", color='goldenrod')\n",
    "plt.yticks(my_range, reasons)\n",
    "plt.xlabel('Percentage of Defaults', size=13)\n",
    "plt.title(\"Small Businesses Are Doomed.\", size=15)\n",
    "\n",
    "# Remove the spines of the plot & box around the legend\n",
    "sns.despine(bottom=True, left=True)\n",
    "\n",
    "# Save the figure as a PNG image\n",
    "plt.savefig('Images/Small Businesses Are Doomed', dpi=300, bbox_inches='tight')\n",
    "\n",
    "plt.show()"
   ]
  },
  {
   "cell_type": "markdown",
   "id": "8f217105",
   "metadata": {},
   "source": [
    "**I separated Current & Default into their own dataframes and created samples of 1000 from each for easier visualization. I did a quick histogram of the separated dataframes to compare to each other.**"
   ]
  },
  {
   "cell_type": "code",
   "execution_count": null,
   "id": "d62e0a76",
   "metadata": {},
   "outputs": [],
   "source": [
    "default = df[df['status']=='Default']\n",
    "current = df[df['status']=='Current']\n",
    "\n",
    "default_sample = default.sample(1000)\n",
    "current_sample = current.sample(1000)\n",
    "df_sample=df.sample(1000)"
   ]
  },
  {
   "cell_type": "code",
   "execution_count": null,
   "id": "dcaeecef",
   "metadata": {},
   "outputs": [],
   "source": [
    "figsize=(10, 10)\n",
    "default.hist(figsize=(15, 10), bins=15, color='goldenrod')\n",
    "plt.subplots_adjust(hspace=0.5)\n",
    "current.hist(figsize=(15, 10), bins=15, color='teal')\n",
    "plt.subplots_adjust(hspace=0.5)\n",
    "plt.show()"
   ]
  },
  {
   "cell_type": "markdown",
   "id": "a9846497",
   "metadata": {},
   "source": [
    "**I tried using describe on each of the newly created dataframes and then subtracted them from each other to see if there were any large diferences. Becuase the data is scaled very differently, it was hard to eaily see what differences might be important. And beyond that, because the data is not normally distributed, these metrics are not as helpful.**"
   ]
  },
  {
   "cell_type": "code",
   "execution_count": null,
   "id": "f864d8cb",
   "metadata": {},
   "outputs": [],
   "source": [
    "default_info = default.describe()\n",
    "current_info = current.describe()\n",
    "\n",
    "default_info = default_info.drop('count')\n",
    "current_info = current_info.drop('count')"
   ]
  },
  {
   "cell_type": "code",
   "execution_count": null,
   "id": "95845abd",
   "metadata": {},
   "outputs": [],
   "source": [
    "default_info.subtract(current_info, axis = 1).T"
   ]
  },
  {
   "cell_type": "markdown",
   "id": "f232f19a",
   "metadata": {},
   "source": [
    "**I looked at the difference between the 50th percentiles (medians). Looks like there are some noticable features that might be relevant later on.**"
   ]
  },
  {
   "cell_type": "code",
   "execution_count": null,
   "id": "493c8584",
   "metadata": {},
   "outputs": [],
   "source": [
    "median_diffs = pd.DataFrame(default.median() - current.median())\n",
    "median_diffs.columns = ['Diffs']\n",
    "median_diffs.T"
   ]
  },
  {
   "cell_type": "markdown",
   "id": "2c05d854",
   "metadata": {},
   "source": [
    "**I looked at why people were getting a loan vs. their income. I used status to further separate the data on the plot.**"
   ]
  },
  {
   "cell_type": "code",
   "execution_count": null,
   "id": "c385c7df",
   "metadata": {},
   "outputs": [],
   "source": [
    "df.columns"
   ]
  },
  {
   "cell_type": "code",
   "execution_count": null,
   "id": "c552f4ee",
   "metadata": {},
   "outputs": [],
   "source": [
    "# Replace underscores with spaces and capitalize each word in 'reason' column\n",
    "df['reason'] = df['reason'].str.replace('_', ' ').str.title()\n",
    "\n",
    "# Create a figure and axis with a specified size\n",
    "fig, ax = plt.subplots(figsize=(20,10))\n",
    "\n",
    "# Create a custom color palette\n",
    "custom_palette = {'Current': 'teal', 'Default': 'goldenrod'}\n",
    "\n",
    "# Create a strip plot showing the relationship between the modified 'reason' column and the 'income' column, \n",
    "# with the 'status' column as the hue, using the custom palette\n",
    "sns.stripplot(x='reason', y=\"income\", data=df, hue='status', palette=custom_palette, jitter=False, size=15, dodge=True, marker='o')\n",
    "\n",
    "# Set the y-axis limits\n",
    "plt.ylim(-10000,900000)\n",
    "\n",
    "# Set the title & labels for the x-axis & y-axis\n",
    "plt.title('Reason for Loan Versus Income', loc='center', size=15)\n",
    "plt.xlabel('Reason for Loan', size=13)\n",
    "plt.ylabel('Income', size=13)\n",
    "\n",
    "# Remove the spines of the plot & box around the legend\n",
    "sns.despine(bottom=True, left=True)\n",
    "plt.legend(frameon=False, title='Loan Status')\n",
    "\n",
    "# Save the figure as a PNG image with a specified resolution and tight bounding box\n",
    "plt.savefig('Images/Reason for Loan versus Income', dpi=300, bbox_inches='tight')\n",
    "\n",
    "# Show the plot\n",
    "plt.show()"
   ]
  },
  {
   "cell_type": "markdown",
   "id": "5b10458b",
   "metadata": {},
   "source": [
    "**Below I used sampled data to scatterplot the revolRatio (Revolving Ratio) against the totalBcLim (total credit limits of credit cards)and added a regression line for both Current & Defaul loans.**"
   ]
  },
  {
   "cell_type": "code",
   "execution_count": null,
   "id": "e6a17d48",
   "metadata": {},
   "outputs": [],
   "source": [
    "x1, y1 = default_sample['revolRatio'], default_sample['totalBcLim']\n",
    "x2, y2 = current_sample['revolRatio'], current_sample['totalBcLim']"
   ]
  },
  {
   "cell_type": "code",
   "execution_count": null,
   "id": "9c782cc2",
   "metadata": {
    "scrolled": false
   },
   "outputs": [],
   "source": [
    "# Import necessary libraries\n",
    "import matplotlib.pyplot as plt\n",
    "import numpy as np\n",
    "\n",
    "# Create a figure and axis with a specified size\n",
    "fig, ax = plt.subplots(figsize=(20,10))\n",
    "\n",
    "# Create scatter plots for two datasets\n",
    "ax.scatter(x1, y1, color='goldenrod', label='Default', alpha=.5)\n",
    "ax.scatter(x2, y2, color='teal', label = 'Current', alpha=.5)\n",
    "\n",
    "# Perform linear regression for each dataset and plot the resulting line\n",
    "m, b = np.polyfit(x1, y1, 1)\n",
    "plt.plot(x1, m*x1+b)\n",
    "\n",
    "m, b = np.polyfit(x2, y2, 1)\n",
    "plt.plot(x2, m*x2+b)\n",
    "\n",
    "# Set the y-axis limits\n",
    "plt.ylim(-20,120000)\n",
    "\n",
    "# Set the title of the plot and labels for the x-axis & y-axis\n",
    "ax.set_title('Revolving Ratio vs Payment', size=15)\n",
    "ax.set_xlabel('Revolving Ratio', size=13)\n",
    "ax.set_ylabel('Payment', size=13)\n",
    "\n",
    "# Remove the spines of the plot\n",
    "sns.despine(bottom=True, left=True)\n",
    "plt.legend(frameon=False, title='Loan Status', loc=(0.90,0.80))\n",
    "\n",
    "# Save the figure as a PNG image with a specified resolution and tight bounding box\n",
    "plt.savefig('Images/Reason for Loan versus Income', dpi=300, bbox_inches='tight')\n",
    "\n",
    "# Show the plot\n",
    "plt.show()"
   ]
  },
  {
   "cell_type": "markdown",
   "id": "54c13a34",
   "metadata": {},
   "source": [
    "**I wanted to sort the defaults by state to see if any states in particular had a higher percentage of defaults. I used a bar plot to visualize the results.**"
   ]
  },
  {
   "cell_type": "code",
   "execution_count": null,
   "id": "32e2ea16",
   "metadata": {},
   "outputs": [],
   "source": [
    "df['status_num'] = df['status']\n",
    "df['status_num'] = df['status_num'].replace(['Current', 'Default'], [0, 1])"
   ]
  },
  {
   "cell_type": "code",
   "execution_count": null,
   "id": "366fd169",
   "metadata": {},
   "outputs": [],
   "source": [
    "df.status_num = df.status_num\n",
    "state_counts = df.groupby('state').agg({'status_num': 'sum'}).reset_index()\n",
    "\n",
    "state_num = df.groupby('state')['state'].count().reset_index(name='count')\n",
    "\n",
    "state_summary = pd.merge(state_counts, state_num)\n",
    "state_summary.columns=['state', 'number_of_defaults', 'total_loans']\n",
    "state_summary['%_of_defaults'] = state_summary['number_of_defaults']/state_summary['total_loans']\n",
    "state_summary = state_summary.sort_values(by=['%_of_defaults'], ascending=False).reset_index()"
   ]
  },
  {
   "cell_type": "code",
   "execution_count": null,
   "id": "bf9e5156",
   "metadata": {
    "scrolled": true
   },
   "outputs": [],
   "source": [
    "state_summary"
   ]
  },
  {
   "cell_type": "code",
   "execution_count": null,
   "id": "c72944ec",
   "metadata": {},
   "outputs": [],
   "source": [
    "state_summary.describe().T"
   ]
  },
  {
   "cell_type": "code",
   "execution_count": null,
   "id": "ad5417b3",
   "metadata": {},
   "outputs": [],
   "source": [
    "# Calculate the quartiles\n",
    "quantile_25 = state_summary['%_of_defaults'].quantile(0.25)\n",
    "quantile_50 = state_summary['%_of_defaults'].quantile(0.50)\n",
    "quantile_75 = state_summary['%_of_defaults'].quantile(0.75)\n",
    "\n",
    "\n",
    "# Create the bar plot\n",
    "plt.figure(figsize=(18, 4))\n",
    "\n",
    "y_pos = np.arange(len(state_summary['state']))\n",
    "\n",
    "plt.bar(y_pos, state_summary['%_of_defaults'], width = .5, color='goldenrod')\n",
    "plt.xlabel('State', size=13)\n",
    "plt.ylabel('Percentage of Defaults', size=13)\n",
    "plt.xticks(y_pos, state_summary['state'], rotation=90)\n",
    "plt.title('Alaska, New Mexico & Oklahoma \\nHave the Highest Defaults', size=15)\n",
    "\n",
    "# Add the horizontal dashed line at the quantiles\n",
    "plt.axhline(quantile_25, linestyle='--', color='turquoise', label=f'25th Quantile: {quantile_25:.2f}%')\n",
    "plt.axhline(quantile_50, linestyle='--', color='teal', label=f'50th Quantile: {quantile_50:.2f}%')\n",
    "plt.axhline(quantile_75, linestyle='--', color='mediumseagreen', label=f'75th Quantile: {quantile_75:.2f}%')\n",
    "\n",
    "# Change the order of the legend\n",
    "handles, labels = plt.gca().get_legend_handles_labels()\n",
    "order = [2, 1, 0]\n",
    "plt.legend([handles[idx] for idx in order], [labels[idx] for idx in order], loc=(0.75, 0.9))\n",
    "\n",
    "# Remove the spines of the plot\n",
    "sns.despine(bottom=True, left=True)\n",
    "\n",
    "# Save the figure as a PNG image with a specified resolution and tight bounding box\n",
    "plt.savefig('Images/Alaska, New Mexico & Oklahoma Have the Highest Defaults', dpi=300, bbox_inches='tight')\n",
    "\n",
    "plt.show()"
   ]
  },
  {
   "cell_type": "markdown",
   "id": "7a9c07ee",
   "metadata": {},
   "source": [
    "**Because our data will be dummy encoded, it will be helpful to group the states by quartiles. This will give us 3 features columns instead of 50.**"
   ]
  },
  {
   "cell_type": "code",
   "execution_count": null,
   "id": "b3397e29",
   "metadata": {
    "scrolled": false
   },
   "outputs": [],
   "source": [
    "# Create the four groups using cut()\n",
    "state_summary['group'] = pd.cut(state_summary['%_of_defaults'], \n",
    "                                bins=[0, quantile_25, quantile_50, quantile_75, 100], \n",
    "                                labels=['Quartile_1', 'Quartile_2', 'Quartile_3', 'Quartile_4'])\n",
    "\n",
    "# Group the data by the quartile\n",
    "groups = state_summary.groupby('group')['state'].apply(list)\n",
    "\n",
    "df['state'] = df['state'].replace(groups['Quartile_1'], 'Quartile_1')\n",
    "df['state'] = df['state'].replace(groups['Quartile_2'], 'Quartile_2')\n",
    "df['state'] = df['state'].replace(groups['Quartile_3'], 'Quartile_3')\n",
    "df['state'] = df['state'].replace(groups['Quartile_4'], 'Quartile_4')"
   ]
  },
  {
   "cell_type": "code",
   "execution_count": null,
   "id": "f086a012",
   "metadata": {},
   "outputs": [],
   "source": [
    "# Confirm states are not quartile categories.\n",
    "df.state.unique()"
   ]
  },
  {
   "cell_type": "markdown",
   "id": "79cde7a7",
   "metadata": {},
   "source": [
    "**I tried another scatter plot to look for any patterns in the data. I plotted the totalAcc (total number of credit lines) against the debtIncRat (debt to income ratio).**"
   ]
  },
  {
   "cell_type": "code",
   "execution_count": null,
   "id": "14113a7e",
   "metadata": {},
   "outputs": [],
   "source": [
    "# Set the size of the figure\n",
    "plt.figure(figsize=(18, 8))\n",
    "\n",
    "# Plot 'totalAcc' on the x-axis and 'debtIncRat' on the y-axis using data from df_sample\n",
    "sns.regplot(x='totalAcc', y='debtIncRat', data=df_sample, color='teal', line_kws={'color': 'goldenrod'})\n",
    "\n",
    "# Set the title & labels for the x-axis and y-axis\n",
    "plt.title('Total Credit Lines vs Debt to Income Ratio', size=15)\n",
    "plt.xlabel('Total number of credit lines', size=13)\n",
    "plt.ylabel('Debt to income ratio', size=13)\n",
    "\n",
    "# Remove the spines of the plot\n",
    "sns.despine(bottom=True, left=True)\n",
    "\n",
    "# Save the figure as a PNG image\n",
    "plt.savefig('Images/Total Credit Lines vs Debt to Income Ratio', dpi=300, bbox_inches='tight')\n",
    "\n",
    "# Show the plot\n",
    "plt.show()"
   ]
  },
  {
   "cell_type": "markdown",
   "id": "f2cfbc0a",
   "metadata": {},
   "source": [
    "**I used a histogram to plot the number of records across the debtIncRat (debt to income ratio). By splitting Default & Current, I'm able to see a trend of where current loans outnumber defaults at the lower debtIncRat and then defaults outnumber currents at the high debIncRat. It's hard to see so I tried to mirror the plot.**"
   ]
  },
  {
   "cell_type": "code",
   "execution_count": null,
   "id": "7c9f9f8b",
   "metadata": {
    "scrolled": true
   },
   "outputs": [],
   "source": [
    "# Set the default style to \"white\"\n",
    "sns.set_theme(style=\"white\")\n",
    "\n",
    "# Create two histograms with different colors for the \"default\" and \"current\" samples\n",
    "sns.histplot(data=default_sample, x=\"debtIncRat\", color='goldenrod', label='Default', bins=16)\n",
    "sns.histplot(data=current_sample, x=\"debtIncRat\", color='teal', label='Current', bins=16)\n",
    "\n",
    "# Add a legend to the plot\n",
    "plt.legend()\n",
    "\n",
    "# Set the title, x-axis label, and y-axis label of the plot\n",
    "plt.title('More Defaults as Debt to Income Increases', size=15)\n",
    "plt.xlabel('Debt to Income Ratio', size=13)\n",
    "plt.ylabel('Count', size=13)\n",
    "\n",
    "# Remove the spines of the plot\n",
    "sns.despine(bottom=True, left=True)\n",
    "\n",
    "# Display the plot\n",
    "plt.show()"
   ]
  },
  {
   "cell_type": "code",
   "execution_count": null,
   "id": "11ac9e90",
   "metadata": {
    "scrolled": false
   },
   "outputs": [],
   "source": [
    "# Filter the data based on status and income criteria\n",
    "default_o = df[(df['status'] == 'Default') & (df['income'] <= 200000)]\n",
    "current_o = df[(df['status'] == 'Current') & (df['income'] <= 200000)]\n",
    "\n",
    "plt.figure(figsize=(10, 10)) # create a figure object with specified dimensions\n",
    "\n",
    "# Plot a histogram for current status using seaborn's histplot function\n",
    "sns.histplot(data=current_o['income'], stat=\"density\", bins=20, color='teal', label='Current', edgecolor='white')\n",
    "\n",
    "# Compute heights and bins for default status histogram\n",
    "heights, bins = np.histogram(default_o['income'], density=True, bins=20)\n",
    "heights *= -1 # Reverse the heights to plot upside down\n",
    "bin_width = np.diff(bins)[0] # Compute the bin width\n",
    "bin_pos =( bins[:-1] + bin_width / 2) # Compute the bin positions for plotting\n",
    "\n",
    "# Plot the default status histogram using matplotlib's bar function\n",
    "plt.bar(bin_pos, heights, width=bin_width, color='goldenrod', label='Default', edgecolor='white')\n",
    "\n",
    "# Set the title, x=axis label & y-axis label\n",
    "plt.title('Comparison of Income Distribution for \\nCurrent and Default Status (Removing Outliers)', size=15)\n",
    "plt.xlabel('Income', size=13)\n",
    "plt.ylabel('Density', size=13)\n",
    "\n",
    "# Remove the spines of the plot & the y tick labesl\n",
    "sns.despine(bottom=True, left=True)\n",
    "plt.yticks([])\n",
    "\n",
    "# Save the plot as a PNG image\n",
    "plt.savefig('Images/Butterfly', dpi=300, bbox_inches='tight')\n",
    "\n",
    "# Show the plot & legend\n",
    "plt.legend()\n",
    "plt.show()"
   ]
  },
  {
   "cell_type": "code",
   "execution_count": null,
   "id": "cd0eb342",
   "metadata": {},
   "outputs": [],
   "source": [
    "#Remove status_num column. Data will be encoded in pre-processing.\n",
    "df = df.drop('status_num', axis=1)"
   ]
  },
  {
   "cell_type": "code",
   "execution_count": null,
   "id": "76749205",
   "metadata": {},
   "outputs": [],
   "source": [
    "df.to_csv('data/03_eda_loans50k.csv') \n",
    "top_features.to_csv('data/top_features.csv') "
   ]
  }
 ],
 "metadata": {
  "kernelspec": {
   "display_name": "Python 3 (ipykernel)",
   "language": "python",
   "name": "python3"
  },
  "language_info": {
   "codemirror_mode": {
    "name": "ipython",
    "version": 3
   },
   "file_extension": ".py",
   "mimetype": "text/x-python",
   "name": "python",
   "nbconvert_exporter": "python",
   "pygments_lexer": "ipython3",
   "version": "3.9.12"
  }
 },
 "nbformat": 4,
 "nbformat_minor": 5
}
