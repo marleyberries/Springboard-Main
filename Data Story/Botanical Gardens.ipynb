{
 "cells": [
  {
   "cell_type": "code",
   "execution_count": 32,
   "id": "9acf3484",
   "metadata": {},
   "outputs": [],
   "source": [
    "import pandas as pd\n",
    "import matplotlib.pyplot as plt\n",
    "import matplotlib.cm as cm"
   ]
  },
  {
   "cell_type": "code",
   "execution_count": 2,
   "id": "51d0e6cc",
   "metadata": {},
   "outputs": [],
   "source": [
    "df = pd.read_csv('museums_separated.csv')"
   ]
  },
  {
   "cell_type": "code",
   "execution_count": 3,
   "id": "cd4a1579",
   "metadata": {},
   "outputs": [
    {
     "data": {
      "text/plain": [
       "(11862, 8)"
      ]
     },
     "execution_count": 3,
     "metadata": {},
     "output_type": "execute_result"
    }
   ],
   "source": [
    "# Check out size of dataframe\n",
    "df.shape"
   ]
  },
  {
   "cell_type": "code",
   "execution_count": 4,
   "id": "833b7629",
   "metadata": {},
   "outputs": [
    {
     "data": {
      "text/html": [
       "<div>\n",
       "<style scoped>\n",
       "    .dataframe tbody tr th:only-of-type {\n",
       "        vertical-align: middle;\n",
       "    }\n",
       "\n",
       "    .dataframe tbody tr th {\n",
       "        vertical-align: top;\n",
       "    }\n",
       "\n",
       "    .dataframe thead th {\n",
       "        text-align: right;\n",
       "    }\n",
       "</style>\n",
       "<table border=\"1\" class=\"dataframe\">\n",
       "  <thead>\n",
       "    <tr style=\"text-align: right;\">\n",
       "      <th></th>\n",
       "      <th>Museum.Name</th>\n",
       "      <th>Legal.Name</th>\n",
       "      <th>Museum.Type</th>\n",
       "      <th>State..Administrative.Location.</th>\n",
       "      <th>Region.Code..AAM.</th>\n",
       "      <th>Is.Museum</th>\n",
       "      <th>Tax.Year</th>\n",
       "      <th>Annual.Revenue</th>\n",
       "    </tr>\n",
       "  </thead>\n",
       "  <tbody>\n",
       "    <tr>\n",
       "      <th>0</th>\n",
       "      <td>ALASKA AVIATION HERITAGE MUSEUM</td>\n",
       "      <td>ALASKA AVIATION HERITAGE MUSEUM</td>\n",
       "      <td>HISTORY MUSEUM</td>\n",
       "      <td>AK</td>\n",
       "      <td>6</td>\n",
       "      <td>True</td>\n",
       "      <td>2013</td>\n",
       "      <td>1100472.0</td>\n",
       "    </tr>\n",
       "    <tr>\n",
       "      <th>1</th>\n",
       "      <td>ALASKA BOTANICAL GARDEN</td>\n",
       "      <td>ALASKA BOTANICAL GARDEN INC</td>\n",
       "      <td>ARBORETUM, BOTANICAL GARDEN, OR NATURE CENTER</td>\n",
       "      <td>AK</td>\n",
       "      <td>6</td>\n",
       "      <td>False</td>\n",
       "      <td>2013</td>\n",
       "      <td>1323742.0</td>\n",
       "    </tr>\n",
       "    <tr>\n",
       "      <th>2</th>\n",
       "      <td>ALASKA CHALLENGER CENTER FOR SPACE SCIENCE TEC...</td>\n",
       "      <td>ALASKA CHALLENGER CENTER FOR SPACE SCIENCE TEC...</td>\n",
       "      <td>SCIENCE &amp; TECHNOLOGY MUSEUM OR PLANETARIUM</td>\n",
       "      <td>AK</td>\n",
       "      <td>6</td>\n",
       "      <td>True</td>\n",
       "      <td>2013</td>\n",
       "      <td>729080.0</td>\n",
       "    </tr>\n",
       "    <tr>\n",
       "      <th>3</th>\n",
       "      <td>ALASKA HERITAGE MUSEUM</td>\n",
       "      <td>ALASKA AVIATION HERITAGE MUSEUM</td>\n",
       "      <td>HISTORY MUSEUM</td>\n",
       "      <td>AK</td>\n",
       "      <td>6</td>\n",
       "      <td>True</td>\n",
       "      <td>2013</td>\n",
       "      <td>1100472.0</td>\n",
       "    </tr>\n",
       "    <tr>\n",
       "      <th>4</th>\n",
       "      <td>ALASKA JEWISH MUSEUM</td>\n",
       "      <td>ALASKA JEWISH HISTORICAL MUSEUM AND CULTURAL C...</td>\n",
       "      <td>GENERAL MUSEUM</td>\n",
       "      <td>AK</td>\n",
       "      <td>6</td>\n",
       "      <td>True</td>\n",
       "      <td>2013</td>\n",
       "      <td>68748.0</td>\n",
       "    </tr>\n",
       "  </tbody>\n",
       "</table>\n",
       "</div>"
      ],
      "text/plain": [
       "                                         Museum.Name  \\\n",
       "0                    ALASKA AVIATION HERITAGE MUSEUM   \n",
       "1                            ALASKA BOTANICAL GARDEN   \n",
       "2  ALASKA CHALLENGER CENTER FOR SPACE SCIENCE TEC...   \n",
       "3                             ALASKA HERITAGE MUSEUM   \n",
       "4                               ALASKA JEWISH MUSEUM   \n",
       "\n",
       "                                          Legal.Name  \\\n",
       "0                    ALASKA AVIATION HERITAGE MUSEUM   \n",
       "1                        ALASKA BOTANICAL GARDEN INC   \n",
       "2  ALASKA CHALLENGER CENTER FOR SPACE SCIENCE TEC...   \n",
       "3                    ALASKA AVIATION HERITAGE MUSEUM   \n",
       "4  ALASKA JEWISH HISTORICAL MUSEUM AND CULTURAL C...   \n",
       "\n",
       "                                     Museum.Type  \\\n",
       "0                                 HISTORY MUSEUM   \n",
       "1  ARBORETUM, BOTANICAL GARDEN, OR NATURE CENTER   \n",
       "2     SCIENCE & TECHNOLOGY MUSEUM OR PLANETARIUM   \n",
       "3                                 HISTORY MUSEUM   \n",
       "4                                 GENERAL MUSEUM   \n",
       "\n",
       "  State..Administrative.Location.  Region.Code..AAM.  Is.Museum  Tax.Year  \\\n",
       "0                              AK                  6       True      2013   \n",
       "1                              AK                  6      False      2013   \n",
       "2                              AK                  6       True      2013   \n",
       "3                              AK                  6       True      2013   \n",
       "4                              AK                  6       True      2013   \n",
       "\n",
       "   Annual.Revenue  \n",
       "0       1100472.0  \n",
       "1       1323742.0  \n",
       "2        729080.0  \n",
       "3       1100472.0  \n",
       "4         68748.0  "
      ]
     },
     "execution_count": 4,
     "metadata": {},
     "output_type": "execute_result"
    }
   ],
   "source": [
    "# Look at the first 5 rows and see what the features are. \n",
    "df.head()"
   ]
  },
  {
   "cell_type": "code",
   "execution_count": 5,
   "id": "d987817c",
   "metadata": {},
   "outputs": [
    {
     "data": {
      "text/plain": [
       "array([2013])"
      ]
     },
     "execution_count": 5,
     "metadata": {},
     "output_type": "execute_result"
    }
   ],
   "source": [
    "# Check for unique values in Tax Year\n",
    "df['Tax.Year'].unique()"
   ]
  },
  {
   "cell_type": "code",
   "execution_count": 6,
   "id": "631b0930",
   "metadata": {},
   "outputs": [],
   "source": [
    "# Drop Tax Year since all years are 2013\n",
    "df = df.drop('Tax.Year', axis=1)"
   ]
  },
  {
   "cell_type": "code",
   "execution_count": 7,
   "id": "ebfb6ad1",
   "metadata": {
    "scrolled": true
   },
   "outputs": [
    {
     "data": {
      "text/plain": [
       "439"
      ]
     },
     "execution_count": 7,
     "metadata": {},
     "output_type": "execute_result"
    }
   ],
   "source": [
    "# Check to see how many entries are in the category of Arboretum, Botanical Garden or Nature Center.\n",
    "len(df[df['Museum.Type'] == 'ARBORETUM, BOTANICAL GARDEN, OR NATURE CENTER'])"
   ]
  },
  {
   "cell_type": "code",
   "execution_count": 16,
   "id": "51d2215c",
   "metadata": {},
   "outputs": [],
   "source": [
    "# Let's make a new dataframe with just the Arboretums, Botanical Gardens & Nature Centers.\n",
    "gardens = df[df['Museum.Type'] == 'ARBORETUM, BOTANICAL GARDEN, OR NATURE CENTER']\n",
    "# We'll drop the Legal Name, Museum Type (all the same now), and Is Museum (also all the same now).\n",
    "gardens = gardens.drop(['Legal.Name','Museum.Type', 'Is.Museum'], axis=1)"
   ]
  },
  {
   "cell_type": "code",
   "execution_count": 17,
   "id": "6ff38abe",
   "metadata": {
    "scrolled": true
   },
   "outputs": [
    {
     "data": {
      "text/html": [
       "<div>\n",
       "<style scoped>\n",
       "    .dataframe tbody tr th:only-of-type {\n",
       "        vertical-align: middle;\n",
       "    }\n",
       "\n",
       "    .dataframe tbody tr th {\n",
       "        vertical-align: top;\n",
       "    }\n",
       "\n",
       "    .dataframe thead th {\n",
       "        text-align: right;\n",
       "    }\n",
       "</style>\n",
       "<table border=\"1\" class=\"dataframe\">\n",
       "  <thead>\n",
       "    <tr style=\"text-align: right;\">\n",
       "      <th></th>\n",
       "      <th>Museum.Name</th>\n",
       "      <th>State..Administrative.Location.</th>\n",
       "      <th>Region.Code..AAM.</th>\n",
       "      <th>Annual.Revenue</th>\n",
       "    </tr>\n",
       "  </thead>\n",
       "  <tbody>\n",
       "    <tr>\n",
       "      <th>1</th>\n",
       "      <td>ALASKA BOTANICAL GARDEN</td>\n",
       "      <td>AK</td>\n",
       "      <td>6</td>\n",
       "      <td>1323742.0</td>\n",
       "    </tr>\n",
       "    <tr>\n",
       "      <th>9</th>\n",
       "      <td>ALASKA WILDLIFE CONSERVATION CENTER</td>\n",
       "      <td>AK</td>\n",
       "      <td>6</td>\n",
       "      <td>2793744.0</td>\n",
       "    </tr>\n",
       "    <tr>\n",
       "      <th>18</th>\n",
       "      <td>CENTER FOR ALASKAN COASTAL STUDIES</td>\n",
       "      <td>AK</td>\n",
       "      <td>6</td>\n",
       "      <td>908922.0</td>\n",
       "    </tr>\n",
       "    <tr>\n",
       "      <th>25</th>\n",
       "      <td>EAGLE RIVER NATURE CENTER</td>\n",
       "      <td>AK</td>\n",
       "      <td>6</td>\n",
       "      <td>268677.0</td>\n",
       "    </tr>\n",
       "    <tr>\n",
       "      <th>35</th>\n",
       "      <td>KACHEMAK HERITAGE LAND TRUST</td>\n",
       "      <td>AK</td>\n",
       "      <td>6</td>\n",
       "      <td>287801.0</td>\n",
       "    </tr>\n",
       "  </tbody>\n",
       "</table>\n",
       "</div>"
      ],
      "text/plain": [
       "                            Museum.Name State..Administrative.Location.  \\\n",
       "1               ALASKA BOTANICAL GARDEN                              AK   \n",
       "9   ALASKA WILDLIFE CONSERVATION CENTER                              AK   \n",
       "18   CENTER FOR ALASKAN COASTAL STUDIES                              AK   \n",
       "25            EAGLE RIVER NATURE CENTER                              AK   \n",
       "35         KACHEMAK HERITAGE LAND TRUST                              AK   \n",
       "\n",
       "    Region.Code..AAM.  Annual.Revenue  \n",
       "1                   6       1323742.0  \n",
       "9                   6       2793744.0  \n",
       "18                  6        908922.0  \n",
       "25                  6        268677.0  \n",
       "35                  6        287801.0  "
      ]
     },
     "execution_count": 17,
     "metadata": {},
     "output_type": "execute_result"
    }
   ],
   "source": [
    "gardens.head()"
   ]
  },
  {
   "cell_type": "code",
   "execution_count": 20,
   "id": "f3c8451a",
   "metadata": {},
   "outputs": [],
   "source": [
    "# Make column names simpler.\n",
    "new_cols = ['Name', 'State', 'Region', 'Annual_Revenue']\n",
    "\n",
    "gardens.columns = new_cols"
   ]
  },
  {
   "cell_type": "code",
   "execution_count": 22,
   "id": "dbdfbb18",
   "metadata": {},
   "outputs": [
    {
     "data": {
      "text/html": [
       "<div>\n",
       "<style scoped>\n",
       "    .dataframe tbody tr th:only-of-type {\n",
       "        vertical-align: middle;\n",
       "    }\n",
       "\n",
       "    .dataframe tbody tr th {\n",
       "        vertical-align: top;\n",
       "    }\n",
       "\n",
       "    .dataframe thead th {\n",
       "        text-align: right;\n",
       "    }\n",
       "</style>\n",
       "<table border=\"1\" class=\"dataframe\">\n",
       "  <thead>\n",
       "    <tr style=\"text-align: right;\">\n",
       "      <th></th>\n",
       "      <th>Name</th>\n",
       "      <th>State</th>\n",
       "      <th>Region</th>\n",
       "      <th>Annual_Revenue</th>\n",
       "    </tr>\n",
       "  </thead>\n",
       "  <tbody>\n",
       "    <tr>\n",
       "      <th>1</th>\n",
       "      <td>ALASKA BOTANICAL GARDEN</td>\n",
       "      <td>AK</td>\n",
       "      <td>6</td>\n",
       "      <td>1323742.0</td>\n",
       "    </tr>\n",
       "    <tr>\n",
       "      <th>9</th>\n",
       "      <td>ALASKA WILDLIFE CONSERVATION CENTER</td>\n",
       "      <td>AK</td>\n",
       "      <td>6</td>\n",
       "      <td>2793744.0</td>\n",
       "    </tr>\n",
       "    <tr>\n",
       "      <th>18</th>\n",
       "      <td>CENTER FOR ALASKAN COASTAL STUDIES</td>\n",
       "      <td>AK</td>\n",
       "      <td>6</td>\n",
       "      <td>908922.0</td>\n",
       "    </tr>\n",
       "    <tr>\n",
       "      <th>25</th>\n",
       "      <td>EAGLE RIVER NATURE CENTER</td>\n",
       "      <td>AK</td>\n",
       "      <td>6</td>\n",
       "      <td>268677.0</td>\n",
       "    </tr>\n",
       "    <tr>\n",
       "      <th>35</th>\n",
       "      <td>KACHEMAK HERITAGE LAND TRUST</td>\n",
       "      <td>AK</td>\n",
       "      <td>6</td>\n",
       "      <td>287801.0</td>\n",
       "    </tr>\n",
       "  </tbody>\n",
       "</table>\n",
       "</div>"
      ],
      "text/plain": [
       "                                   Name State  Region  Annual_Revenue\n",
       "1               ALASKA BOTANICAL GARDEN    AK       6       1323742.0\n",
       "9   ALASKA WILDLIFE CONSERVATION CENTER    AK       6       2793744.0\n",
       "18   CENTER FOR ALASKAN COASTAL STUDIES    AK       6        908922.0\n",
       "25            EAGLE RIVER NATURE CENTER    AK       6        268677.0\n",
       "35         KACHEMAK HERITAGE LAND TRUST    AK       6        287801.0"
      ]
     },
     "execution_count": 22,
     "metadata": {},
     "output_type": "execute_result"
    }
   ],
   "source": [
    "# Check to make sure it's nice and tidy. \n",
    "gardens.head()"
   ]
  },
  {
   "cell_type": "code",
   "execution_count": 60,
   "id": "71b75220",
   "metadata": {
    "scrolled": true
   },
   "outputs": [
    {
     "data": {
      "text/plain": [
       "array([6, 3, 5, 1, 2, 4])"
      ]
     },
     "execution_count": 60,
     "metadata": {},
     "output_type": "execute_result"
    }
   ],
   "source": [
    "gardens.Region.unique()"
   ]
  },
  {
   "cell_type": "code",
   "execution_count": 112,
   "id": "78bbc6c5",
   "metadata": {},
   "outputs": [
    {
     "ename": "SyntaxError",
     "evalue": "invalid syntax (2442138387.py, line 1)",
     "output_type": "error",
     "traceback": [
      "\u001b[0;36m  Input \u001b[0;32mIn [112]\u001b[0;36m\u001b[0m\n\u001b[0;31m    There are a few outiliers in TX and FL that have a different region code. I changed them all to be the same for clarity.\u001b[0m\n\u001b[0m          ^\u001b[0m\n\u001b[0;31mSyntaxError\u001b[0m\u001b[0;31m:\u001b[0m invalid syntax\n"
     ]
    }
   ],
   "source": [
    "There are a few outiliers in TX and FL that have a different region code. I changed them all to be the same for clarity.\n",
    "gardens.loc[gardens['State'] == 'TX', 'Region'] = 5\n",
    "gardens.loc[gardens['State'] == 'FL', 'Region'] = 3"
   ]
  },
  {
   "cell_type": "code",
   "execution_count": 94,
   "id": "35756a0a",
   "metadata": {
    "scrolled": true
   },
   "outputs": [
    {
     "data": {
      "image/png": "[encoded data removed]",
      "text/plain": [
       "<Figure size 1080x432 with 1 Axes>"
      ]
     },
     "metadata": {
      "needs_background": "light"
     },
     "output_type": "display_data"
    }
   ],
   "source": [
    "# Group gardens by state and region.\n",
    "region_counts = gardens.groupby(['State', 'Region'])['Name'].count().reset_index()\n",
    "\n",
    "# Sort regions numerically.\n",
    "region_counts['Region'] = region_counts['Region'].astype(int)\n",
    "region_counts = region_counts.sort_values(['Region', 'State'])\n",
    "\n",
    "# Define color map based on count values.\n",
    "colors = cm.get_cmap('tab10', len(region_counts))\n",
    "\n",
    "# Create a dictionary that maps count values to colors.\n",
    "color_dict = dict(zip(region_counts['Region'], colors(range(len(region_counts)))))\n",
    "\n",
    "# Create a list of colors for each region.\n",
    "colors = [color_dict[region] for region in region_counts['Region']]\n",
    "\n",
    "# Create a bar chart of the region counts with custom colors.\n",
    "fig, ax = plt.subplots(figsize=(15, 6))\n",
    "ax.bar(region_counts['State'], region_counts['Name'], color=colors)\n",
    "\n",
    "# Customize the plot.\n",
    "ax.spines['top'].set_color('none')\n",
    "ax.spines['right'].set_color('none')\n",
    "ax.spines['bottom'].set_color('teal')\n",
    "ax.spines['left'].set_color('none')\n",
    "ax.tick_params(axis='both', which='both', length=0, labelsize=10)\n",
    "\n",
    "plt.xlabel('State')\n",
    "plt.xticks(rotation=90)\n",
    "plt.ylabel('Quantity')\n",
    "plt.title('Arboretums, Botanical Gardens & Nature Centers by State & Region')\n",
    "\n",
    "# Create legend.\n",
    "legend_handles = []\n",
    "for region, color in color_dict.items():\n",
    "    legend_handles.append(plt.Rectangle((0, 0), 1, 1, color=color, label=str(region)))\n",
    "plt.legend(handles=legend_handles, title='Region Groups')\n",
    "\n",
    "plt.show()\n"
   ]
  },
  {
   "cell_type": "code",
   "execution_count": 132,
   "id": "b612de90",
   "metadata": {},
   "outputs": [
    {
     "data": {
      "image/png": "[encoded data removed]",
      "text/plain": [
       "<Figure size 1080x432 with 1 Axes>"
      ]
     },
     "metadata": {
      "needs_background": "light"
     },
     "output_type": "display_data"
    }
   ],
   "source": [
    "# Group gardens by state and region.\n",
    "region_counts = gardens.groupby(['State', 'Region'])['Name'].count().reset_index()\n",
    "\n",
    "# Sort regions numerically.\n",
    "region_counts['Region'] = region_counts['Region'].astype(int)\n",
    "region_counts = region_counts.sort_values(['Region', 'State'])\n",
    "\n",
    "# Define color map based on count values.\n",
    "colors = cm.get_cmap('tab10', len(region_counts))\n",
    "\n",
    "# Create a dictionary that maps count values to colors.\n",
    "color_dict = dict(zip(region_counts['Region'], colors(range(len(region_counts)))))\n",
    "\n",
    "# Create a list of colors for each region.\n",
    "colors = [color_dict[region] for region in region_counts['Region']]\n",
    "\n",
    "# Create a bar chart of the region counts with custom colors.\n",
    "fig, ax = plt.subplots(figsize=(15, 6))\n",
    "ax.bar(region_counts['State'], region_counts['Name'], color=colors)\n",
    "\n",
    "# Customize the plot.\n",
    "ax.spines['top'].set_color('none')\n",
    "ax.spines['right'].set_color('none')\n",
    "ax.spines['bottom'].set_color('black')\n",
    "ax.spines['left'].set_color('none')\n",
    "ax.tick_params(axis='both', which='both', length=0, labelsize=10)\n",
    "\n",
    "plt.xlabel('State')\n",
    "plt.xticks(rotation=90)\n",
    "plt.ylabel('Quantity')\n",
    "plt.title('Arboretums, Botanical Gardens & Nature Centers by State & Region')\n",
    "\n",
    "# Create legend.\n",
    "legend_handles = []\n",
    "for region, color in color_dict.items():\n",
    "    region_count = region_counts[region_counts['Region'] == region]['Name'].sum()\n",
    "    label = f'{region} ({region_count})'\n",
    "    legend_handles.append(plt.Rectangle((0, 0), 1, 1, color=color, label=label))\n",
    "plt.legend(handles=legend_handles, title='Region Groups\\n(Total Per Region)', frameon=False)\n",
    "\n",
    "# Save plot to jpeg\n",
    "plt.savefig('gardens.jpg', format='jpeg')\n",
    "plt.show()"
   ]
  }
 ],
 "metadata": {
  "kernelspec": {
   "display_name": "Python 3 (ipykernel)",
   "language": "python",
   "name": "python3"
  },
  "language_info": {
   "codemirror_mode": {
    "name": "ipython",
    "version": 3
   },
   "file_extension": ".py",
   "mimetype": "text/x-python",
   "name": "python",
   "nbconvert_exporter": "python",
   "pygments_lexer": "ipython3",
   "version": "3.9.12"
  }
 },
 "nbformat": 4,
 "nbformat_minor": 5
}
